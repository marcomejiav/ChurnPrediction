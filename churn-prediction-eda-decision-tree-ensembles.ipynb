{
 "cells": [
  {
   "cell_type": "markdown",
   "metadata": {
    "papermill": {
     "duration": 0.035776,
     "end_time": "2021-01-13T17:35:29.848995",
     "exception": false,
     "start_time": "2021-01-13T17:35:29.813219",
     "status": "completed"
    },
    "tags": []
   },
   "source": [
    "# Introduction\n",
    "\n",
    "### Problem context\n",
    "*A manager at the bank is disturbed with more and more customers leaving their credit card services. They would really appreciate if one could predict for them who is gonna get churned so they can proactively go to the customer to provide them better services and turn customers' decisions in the opposite direction.*\n",
    "\n",
    "### Goal\n",
    "This notebook aims to try to predict customers who are likely to get churned through Machine Learning algorithms such as Random Forest, AdaBoost and Gradient Boosting.\n",
    "\n",
    "### Dataset\n",
    "This dataset consists of 10,000 customers mentioning their age, salary, marital_status, credit card limit, credit card category, etc. There are nearly 18 features. It is an unbalanced dataset where only abouy 16% of customers who have churned.\n",
    "\n",
    "\n",
    "\n",
    "## Importing Libraries"
   ]
  },
  {
   "cell_type": "code",
   "execution_count": 1,
   "metadata": {
    "execution": {
     "iopub.execute_input": "2021-01-13T17:35:29.930424Z",
     "iopub.status.busy": "2021-01-13T17:35:29.929674Z",
     "iopub.status.idle": "2021-01-13T17:35:35.479009Z",
     "shell.execute_reply": "2021-01-13T17:35:35.477827Z"
    },
    "papermill": {
     "duration": 5.593473,
     "end_time": "2021-01-13T17:35:35.479138",
     "exception": false,
     "start_time": "2021-01-13T17:35:29.885665",
     "status": "completed"
    },
    "tags": []
   },
   "outputs": [],
   "source": [
    "import numpy as np\n",
    "import pandas as pd\n",
    "import seaborn as sns \n",
    "import matplotlib.ticker as mtick\n",
    "import matplotlib.pyplot as plt\n",
    "import plotly.graph_objs as go\n",
    "import plotly.express as ex\n",
    "import plotly.figure_factory as ff\n",
    "import plotly.offline as offline\n",
    "from sklearn.preprocessing import StandardScaler\n",
    "from sklearn.model_selection import train_test_split\n",
    "from sklearn.preprocessing import StandardScaler\n",
    "from sklearn.model_selection import GridSearchCV\n",
    "from imblearn.over_sampling import SMOTE \n",
    "from sklearn.metrics import accuracy_score\n",
    "from sklearn import metrics\n",
    "from sklearn.ensemble import RandomForestClassifier, AdaBoostClassifier, GradientBoostingClassifier"
   ]
  },
  {
   "cell_type": "markdown",
   "metadata": {
    "papermill": {
     "duration": 0.033812,
     "end_time": "2021-01-13T17:35:35.548518",
     "exception": false,
     "start_time": "2021-01-13T17:35:35.514706",
     "status": "completed"
    },
    "tags": []
   },
   "source": [
    "## Data Loading\n",
    "\n",
    "We load the dataset and have a first look at it."
   ]
  },
  {
   "cell_type": "code",
   "execution_count": 2,
   "metadata": {
    "execution": {
     "iopub.execute_input": "2021-01-13T17:35:35.627380Z",
     "iopub.status.busy": "2021-01-13T17:35:35.626730Z",
     "iopub.status.idle": "2021-01-13T17:35:35.725185Z",
     "shell.execute_reply": "2021-01-13T17:35:35.725725Z"
    },
    "papermill": {
     "duration": 0.143102,
     "end_time": "2021-01-13T17:35:35.725876",
     "exception": false,
     "start_time": "2021-01-13T17:35:35.582774",
     "status": "completed"
    },
    "tags": []
   },
   "outputs": [
    {
     "data": {
      "text/html": [
       "<div>\n",
       "<style scoped>\n",
       "    .dataframe tbody tr th:only-of-type {\n",
       "        vertical-align: middle;\n",
       "    }\n",
       "\n",
       "    .dataframe tbody tr th {\n",
       "        vertical-align: top;\n",
       "    }\n",
       "\n",
       "    .dataframe thead th {\n",
       "        text-align: right;\n",
       "    }\n",
       "</style>\n",
       "<table border=\"1\" class=\"dataframe\">\n",
       "  <thead>\n",
       "    <tr style=\"text-align: right;\">\n",
       "      <th></th>\n",
       "      <th>Attrition_Flag</th>\n",
       "      <th>Customer_Age</th>\n",
       "      <th>Gender</th>\n",
       "      <th>Dependent_count</th>\n",
       "      <th>Education_Level</th>\n",
       "      <th>Marital_Status</th>\n",
       "      <th>Income_Category</th>\n",
       "      <th>Card_Category</th>\n",
       "      <th>Months_on_book</th>\n",
       "      <th>Total_Relationship_Count</th>\n",
       "      <th>Months_Inactive_12_mon</th>\n",
       "      <th>Contacts_Count_12_mon</th>\n",
       "      <th>Credit_Limit</th>\n",
       "      <th>Total_Revolving_Bal</th>\n",
       "      <th>Avg_Open_To_Buy</th>\n",
       "      <th>Total_Amt_Chng_Q4_Q1</th>\n",
       "      <th>Total_Trans_Amt</th>\n",
       "      <th>Total_Trans_Ct</th>\n",
       "      <th>Total_Ct_Chng_Q4_Q1</th>\n",
       "      <th>Avg_Utilization_Ratio</th>\n",
       "    </tr>\n",
       "  </thead>\n",
       "  <tbody>\n",
       "    <tr>\n",
       "      <th>0</th>\n",
       "      <td>Existing Customer</td>\n",
       "      <td>45</td>\n",
       "      <td>M</td>\n",
       "      <td>3</td>\n",
       "      <td>High School</td>\n",
       "      <td>Married</td>\n",
       "      <td>$60K - $80K</td>\n",
       "      <td>Blue</td>\n",
       "      <td>39</td>\n",
       "      <td>5</td>\n",
       "      <td>1</td>\n",
       "      <td>3</td>\n",
       "      <td>12691.0</td>\n",
       "      <td>777</td>\n",
       "      <td>11914.0</td>\n",
       "      <td>1.335</td>\n",
       "      <td>1144</td>\n",
       "      <td>42</td>\n",
       "      <td>1.625</td>\n",
       "      <td>0.061</td>\n",
       "    </tr>\n",
       "    <tr>\n",
       "      <th>1</th>\n",
       "      <td>Existing Customer</td>\n",
       "      <td>49</td>\n",
       "      <td>F</td>\n",
       "      <td>5</td>\n",
       "      <td>Graduate</td>\n",
       "      <td>Single</td>\n",
       "      <td>Less than $40K</td>\n",
       "      <td>Blue</td>\n",
       "      <td>44</td>\n",
       "      <td>6</td>\n",
       "      <td>1</td>\n",
       "      <td>2</td>\n",
       "      <td>8256.0</td>\n",
       "      <td>864</td>\n",
       "      <td>7392.0</td>\n",
       "      <td>1.541</td>\n",
       "      <td>1291</td>\n",
       "      <td>33</td>\n",
       "      <td>3.714</td>\n",
       "      <td>0.105</td>\n",
       "    </tr>\n",
       "    <tr>\n",
       "      <th>2</th>\n",
       "      <td>Existing Customer</td>\n",
       "      <td>51</td>\n",
       "      <td>M</td>\n",
       "      <td>3</td>\n",
       "      <td>Graduate</td>\n",
       "      <td>Married</td>\n",
       "      <td>$80K - $120K</td>\n",
       "      <td>Blue</td>\n",
       "      <td>36</td>\n",
       "      <td>4</td>\n",
       "      <td>1</td>\n",
       "      <td>0</td>\n",
       "      <td>3418.0</td>\n",
       "      <td>0</td>\n",
       "      <td>3418.0</td>\n",
       "      <td>2.594</td>\n",
       "      <td>1887</td>\n",
       "      <td>20</td>\n",
       "      <td>2.333</td>\n",
       "      <td>0.000</td>\n",
       "    </tr>\n",
       "    <tr>\n",
       "      <th>3</th>\n",
       "      <td>Existing Customer</td>\n",
       "      <td>40</td>\n",
       "      <td>F</td>\n",
       "      <td>4</td>\n",
       "      <td>High School</td>\n",
       "      <td>Unknown</td>\n",
       "      <td>Less than $40K</td>\n",
       "      <td>Blue</td>\n",
       "      <td>34</td>\n",
       "      <td>3</td>\n",
       "      <td>4</td>\n",
       "      <td>1</td>\n",
       "      <td>3313.0</td>\n",
       "      <td>2517</td>\n",
       "      <td>796.0</td>\n",
       "      <td>1.405</td>\n",
       "      <td>1171</td>\n",
       "      <td>20</td>\n",
       "      <td>2.333</td>\n",
       "      <td>0.760</td>\n",
       "    </tr>\n",
       "    <tr>\n",
       "      <th>4</th>\n",
       "      <td>Existing Customer</td>\n",
       "      <td>40</td>\n",
       "      <td>M</td>\n",
       "      <td>3</td>\n",
       "      <td>Uneducated</td>\n",
       "      <td>Married</td>\n",
       "      <td>$60K - $80K</td>\n",
       "      <td>Blue</td>\n",
       "      <td>21</td>\n",
       "      <td>5</td>\n",
       "      <td>1</td>\n",
       "      <td>0</td>\n",
       "      <td>4716.0</td>\n",
       "      <td>0</td>\n",
       "      <td>4716.0</td>\n",
       "      <td>2.175</td>\n",
       "      <td>816</td>\n",
       "      <td>28</td>\n",
       "      <td>2.500</td>\n",
       "      <td>0.000</td>\n",
       "    </tr>\n",
       "  </tbody>\n",
       "</table>\n",
       "</div>"
      ],
      "text/plain": [
       "      Attrition_Flag  Customer_Age Gender  Dependent_count Education_Level  \\\n",
       "0  Existing Customer            45      M                3     High School   \n",
       "1  Existing Customer            49      F                5        Graduate   \n",
       "2  Existing Customer            51      M                3        Graduate   \n",
       "3  Existing Customer            40      F                4     High School   \n",
       "4  Existing Customer            40      M                3      Uneducated   \n",
       "\n",
       "  Marital_Status Income_Category Card_Category  Months_on_book  \\\n",
       "0        Married     $60K - $80K          Blue              39   \n",
       "1         Single  Less than $40K          Blue              44   \n",
       "2        Married    $80K - $120K          Blue              36   \n",
       "3        Unknown  Less than $40K          Blue              34   \n",
       "4        Married     $60K - $80K          Blue              21   \n",
       "\n",
       "   Total_Relationship_Count  Months_Inactive_12_mon  Contacts_Count_12_mon  \\\n",
       "0                         5                       1                      3   \n",
       "1                         6                       1                      2   \n",
       "2                         4                       1                      0   \n",
       "3                         3                       4                      1   \n",
       "4                         5                       1                      0   \n",
       "\n",
       "   Credit_Limit  Total_Revolving_Bal  Avg_Open_To_Buy  Total_Amt_Chng_Q4_Q1  \\\n",
       "0       12691.0                  777          11914.0                 1.335   \n",
       "1        8256.0                  864           7392.0                 1.541   \n",
       "2        3418.0                    0           3418.0                 2.594   \n",
       "3        3313.0                 2517            796.0                 1.405   \n",
       "4        4716.0                    0           4716.0                 2.175   \n",
       "\n",
       "   Total_Trans_Amt  Total_Trans_Ct  Total_Ct_Chng_Q4_Q1  Avg_Utilization_Ratio  \n",
       "0             1144              42                1.625                  0.061  \n",
       "1             1291              33                3.714                  0.105  \n",
       "2             1887              20                2.333                  0.000  \n",
       "3             1171              20                2.333                  0.760  \n",
       "4              816              28                2.500                  0.000  "
      ]
     },
     "execution_count": 2,
     "metadata": {},
     "output_type": "execute_result"
    }
   ],
   "source": [
    "bank_data = pd.read_csv(\"../input/credit-card-customers/BankChurners.csv\")\n",
    "\n",
    "# Deleting columns that we do not need (according to \"detail\" of the data in kaggle.com)\n",
    "bank_data = bank_data.drop(['Naive_Bayes_Classifier_Attrition_Flag_Card_Category_Contacts_Count_12_mon_Dependent_count_Education_Level_Months_Inactive_12_mon_2', 'Naive_Bayes_Classifier_Attrition_Flag_Card_Category_Contacts_Count_12_mon_Dependent_count_Education_Level_Months_Inactive_12_mon_1',\"CLIENTNUM\"], axis = 1)\n",
    "\n",
    "bank_data.head()"
   ]
  },
  {
   "cell_type": "code",
   "execution_count": 3,
   "metadata": {
    "execution": {
     "iopub.execute_input": "2021-01-13T17:35:35.805658Z",
     "iopub.status.busy": "2021-01-13T17:35:35.804799Z",
     "iopub.status.idle": "2021-01-13T17:35:35.808628Z",
     "shell.execute_reply": "2021-01-13T17:35:35.809154Z"
    },
    "papermill": {
     "duration": 0.046668,
     "end_time": "2021-01-13T17:35:35.809301",
     "exception": false,
     "start_time": "2021-01-13T17:35:35.762633",
     "status": "completed"
    },
    "tags": []
   },
   "outputs": [
    {
     "data": {
      "text/plain": [
       "array(['Attrition_Flag', 'Customer_Age', 'Gender', 'Dependent_count',\n",
       "       'Education_Level', 'Marital_Status', 'Income_Category',\n",
       "       'Card_Category', 'Months_on_book', 'Total_Relationship_Count',\n",
       "       'Months_Inactive_12_mon', 'Contacts_Count_12_mon', 'Credit_Limit',\n",
       "       'Total_Revolving_Bal', 'Avg_Open_To_Buy', 'Total_Amt_Chng_Q4_Q1',\n",
       "       'Total_Trans_Amt', 'Total_Trans_Ct', 'Total_Ct_Chng_Q4_Q1',\n",
       "       'Avg_Utilization_Ratio'], dtype=object)"
      ]
     },
     "execution_count": 3,
     "metadata": {},
     "output_type": "execute_result"
    }
   ],
   "source": [
    "bank_data.columns.values"
   ]
  },
  {
   "cell_type": "code",
   "execution_count": 4,
   "metadata": {
    "execution": {
     "iopub.execute_input": "2021-01-13T17:35:35.926731Z",
     "iopub.status.busy": "2021-01-13T17:35:35.925837Z",
     "iopub.status.idle": "2021-01-13T17:35:35.933797Z",
     "shell.execute_reply": "2021-01-13T17:35:35.933277Z"
    },
    "papermill": {
     "duration": 0.054494,
     "end_time": "2021-01-13T17:35:35.933913",
     "exception": false,
     "start_time": "2021-01-13T17:35:35.879419",
     "status": "completed"
    },
    "tags": []
   },
   "outputs": [
    {
     "data": {
      "text/plain": [
       "Attrition_Flag              0\n",
       "Customer_Age                0\n",
       "Gender                      0\n",
       "Dependent_count             0\n",
       "Education_Level             0\n",
       "Marital_Status              0\n",
       "Income_Category             0\n",
       "Card_Category               0\n",
       "Months_on_book              0\n",
       "Total_Relationship_Count    0\n",
       "Months_Inactive_12_mon      0\n",
       "Contacts_Count_12_mon       0\n",
       "Credit_Limit                0\n",
       "Total_Revolving_Bal         0\n",
       "Avg_Open_To_Buy             0\n",
       "Total_Amt_Chng_Q4_Q1        0\n",
       "Total_Trans_Amt             0\n",
       "Total_Trans_Ct              0\n",
       "Total_Ct_Chng_Q4_Q1         0\n",
       "Avg_Utilization_Ratio       0\n",
       "dtype: int64"
      ]
     },
     "execution_count": 4,
     "metadata": {},
     "output_type": "execute_result"
    }
   ],
   "source": [
    "bank_data.isnull().sum()"
   ]
  },
  {
   "cell_type": "markdown",
   "metadata": {
    "papermill": {
     "duration": 0.034641,
     "end_time": "2021-01-13T17:35:36.004038",
     "exception": false,
     "start_time": "2021-01-13T17:35:35.969397",
     "status": "completed"
    },
    "tags": []
   },
   "source": [
    "There are no null values, which is good!"
   ]
  },
  {
   "cell_type": "markdown",
   "metadata": {
    "papermill": {
     "duration": 0.035897,
     "end_time": "2021-01-13T17:35:36.076036",
     "exception": false,
     "start_time": "2021-01-13T17:35:36.040139",
     "status": "completed"
    },
    "tags": []
   },
   "source": [
    "## Converting Categorical Features\n",
    "\n",
    "Next step we convert categorical features to numerical; I decided to use .map() instead of pd.get_dummies().\n",
    "Also, I decided to group some features as equals, for example, in Marital_Status was either is Married (1) or not (0). Same with Education_Level.\n"
   ]
  },
  {
   "cell_type": "code",
   "execution_count": 5,
   "metadata": {
    "execution": {
     "iopub.execute_input": "2021-01-13T17:35:36.160197Z",
     "iopub.status.busy": "2021-01-13T17:35:36.159264Z",
     "iopub.status.idle": "2021-01-13T17:35:36.212413Z",
     "shell.execute_reply": "2021-01-13T17:35:36.212989Z"
    },
    "papermill": {
     "duration": 0.101043,
     "end_time": "2021-01-13T17:35:36.213148",
     "exception": false,
     "start_time": "2021-01-13T17:35:36.112105",
     "status": "completed"
    },
    "tags": []
   },
   "outputs": [
    {
     "data": {
      "text/html": [
       "<div>\n",
       "<style scoped>\n",
       "    .dataframe tbody tr th:only-of-type {\n",
       "        vertical-align: middle;\n",
       "    }\n",
       "\n",
       "    .dataframe tbody tr th {\n",
       "        vertical-align: top;\n",
       "    }\n",
       "\n",
       "    .dataframe thead th {\n",
       "        text-align: right;\n",
       "    }\n",
       "</style>\n",
       "<table border=\"1\" class=\"dataframe\">\n",
       "  <thead>\n",
       "    <tr style=\"text-align: right;\">\n",
       "      <th></th>\n",
       "      <th>Attrition_Flag</th>\n",
       "      <th>Customer_Age</th>\n",
       "      <th>Dependent_count</th>\n",
       "      <th>Education_Level</th>\n",
       "      <th>Marital_Status</th>\n",
       "      <th>Income_Category</th>\n",
       "      <th>Card_Category</th>\n",
       "      <th>Months_on_book</th>\n",
       "      <th>Total_Relationship_Count</th>\n",
       "      <th>Months_Inactive_12_mon</th>\n",
       "      <th>...</th>\n",
       "      <th>Credit_Limit</th>\n",
       "      <th>Total_Revolving_Bal</th>\n",
       "      <th>Avg_Open_To_Buy</th>\n",
       "      <th>Total_Amt_Chng_Q4_Q1</th>\n",
       "      <th>Total_Trans_Amt</th>\n",
       "      <th>Total_Trans_Ct</th>\n",
       "      <th>Total_Ct_Chng_Q4_Q1</th>\n",
       "      <th>Avg_Utilization_Ratio</th>\n",
       "      <th>Gender_F</th>\n",
       "      <th>Gender_M</th>\n",
       "    </tr>\n",
       "  </thead>\n",
       "  <tbody>\n",
       "    <tr>\n",
       "      <th>0</th>\n",
       "      <td>0</td>\n",
       "      <td>45</td>\n",
       "      <td>3</td>\n",
       "      <td>1</td>\n",
       "      <td>1</td>\n",
       "      <td>2</td>\n",
       "      <td>0</td>\n",
       "      <td>39</td>\n",
       "      <td>5</td>\n",
       "      <td>1</td>\n",
       "      <td>...</td>\n",
       "      <td>12691.0</td>\n",
       "      <td>777</td>\n",
       "      <td>11914.0</td>\n",
       "      <td>1.335</td>\n",
       "      <td>1144</td>\n",
       "      <td>42</td>\n",
       "      <td>1.625</td>\n",
       "      <td>0.061</td>\n",
       "      <td>0</td>\n",
       "      <td>1</td>\n",
       "    </tr>\n",
       "    <tr>\n",
       "      <th>1</th>\n",
       "      <td>0</td>\n",
       "      <td>49</td>\n",
       "      <td>5</td>\n",
       "      <td>3</td>\n",
       "      <td>0</td>\n",
       "      <td>0</td>\n",
       "      <td>0</td>\n",
       "      <td>44</td>\n",
       "      <td>6</td>\n",
       "      <td>1</td>\n",
       "      <td>...</td>\n",
       "      <td>8256.0</td>\n",
       "      <td>864</td>\n",
       "      <td>7392.0</td>\n",
       "      <td>1.541</td>\n",
       "      <td>1291</td>\n",
       "      <td>33</td>\n",
       "      <td>3.714</td>\n",
       "      <td>0.105</td>\n",
       "      <td>1</td>\n",
       "      <td>0</td>\n",
       "    </tr>\n",
       "    <tr>\n",
       "      <th>2</th>\n",
       "      <td>0</td>\n",
       "      <td>51</td>\n",
       "      <td>3</td>\n",
       "      <td>3</td>\n",
       "      <td>1</td>\n",
       "      <td>3</td>\n",
       "      <td>0</td>\n",
       "      <td>36</td>\n",
       "      <td>4</td>\n",
       "      <td>1</td>\n",
       "      <td>...</td>\n",
       "      <td>3418.0</td>\n",
       "      <td>0</td>\n",
       "      <td>3418.0</td>\n",
       "      <td>2.594</td>\n",
       "      <td>1887</td>\n",
       "      <td>20</td>\n",
       "      <td>2.333</td>\n",
       "      <td>0.000</td>\n",
       "      <td>0</td>\n",
       "      <td>1</td>\n",
       "    </tr>\n",
       "    <tr>\n",
       "      <th>3</th>\n",
       "      <td>0</td>\n",
       "      <td>40</td>\n",
       "      <td>4</td>\n",
       "      <td>1</td>\n",
       "      <td>0</td>\n",
       "      <td>0</td>\n",
       "      <td>0</td>\n",
       "      <td>34</td>\n",
       "      <td>3</td>\n",
       "      <td>4</td>\n",
       "      <td>...</td>\n",
       "      <td>3313.0</td>\n",
       "      <td>2517</td>\n",
       "      <td>796.0</td>\n",
       "      <td>1.405</td>\n",
       "      <td>1171</td>\n",
       "      <td>20</td>\n",
       "      <td>2.333</td>\n",
       "      <td>0.760</td>\n",
       "      <td>1</td>\n",
       "      <td>0</td>\n",
       "    </tr>\n",
       "    <tr>\n",
       "      <th>4</th>\n",
       "      <td>0</td>\n",
       "      <td>40</td>\n",
       "      <td>3</td>\n",
       "      <td>0</td>\n",
       "      <td>1</td>\n",
       "      <td>2</td>\n",
       "      <td>0</td>\n",
       "      <td>21</td>\n",
       "      <td>5</td>\n",
       "      <td>1</td>\n",
       "      <td>...</td>\n",
       "      <td>4716.0</td>\n",
       "      <td>0</td>\n",
       "      <td>4716.0</td>\n",
       "      <td>2.175</td>\n",
       "      <td>816</td>\n",
       "      <td>28</td>\n",
       "      <td>2.500</td>\n",
       "      <td>0.000</td>\n",
       "      <td>0</td>\n",
       "      <td>1</td>\n",
       "    </tr>\n",
       "  </tbody>\n",
       "</table>\n",
       "<p>5 rows × 21 columns</p>\n",
       "</div>"
      ],
      "text/plain": [
       "   Attrition_Flag  Customer_Age  Dependent_count  Education_Level  \\\n",
       "0               0            45                3                1   \n",
       "1               0            49                5                3   \n",
       "2               0            51                3                3   \n",
       "3               0            40                4                1   \n",
       "4               0            40                3                0   \n",
       "\n",
       "   Marital_Status  Income_Category  Card_Category  Months_on_book  \\\n",
       "0               1                2              0              39   \n",
       "1               0                0              0              44   \n",
       "2               1                3              0              36   \n",
       "3               0                0              0              34   \n",
       "4               1                2              0              21   \n",
       "\n",
       "   Total_Relationship_Count  Months_Inactive_12_mon  ...  Credit_Limit  \\\n",
       "0                         5                       1  ...       12691.0   \n",
       "1                         6                       1  ...        8256.0   \n",
       "2                         4                       1  ...        3418.0   \n",
       "3                         3                       4  ...        3313.0   \n",
       "4                         5                       1  ...        4716.0   \n",
       "\n",
       "   Total_Revolving_Bal  Avg_Open_To_Buy  Total_Amt_Chng_Q4_Q1  \\\n",
       "0                  777          11914.0                 1.335   \n",
       "1                  864           7392.0                 1.541   \n",
       "2                    0           3418.0                 2.594   \n",
       "3                 2517            796.0                 1.405   \n",
       "4                    0           4716.0                 2.175   \n",
       "\n",
       "   Total_Trans_Amt  Total_Trans_Ct  Total_Ct_Chng_Q4_Q1  \\\n",
       "0             1144              42                1.625   \n",
       "1             1291              33                3.714   \n",
       "2             1887              20                2.333   \n",
       "3             1171              20                2.333   \n",
       "4              816              28                2.500   \n",
       "\n",
       "   Avg_Utilization_Ratio  Gender_F  Gender_M  \n",
       "0                  0.061         0         1  \n",
       "1                  0.105         1         0  \n",
       "2                  0.000         0         1  \n",
       "3                  0.760         1         0  \n",
       "4                  0.000         0         1  \n",
       "\n",
       "[5 rows x 21 columns]"
      ]
     },
     "execution_count": 5,
     "metadata": {},
     "output_type": "execute_result"
    }
   ],
   "source": [
    "# Make a copy of the original data to use the original one later\n",
    "num_data = bank_data.copy()\n",
    "\n",
    "num_data['Attrition_Flag'] = num_data['Attrition_Flag'].map({'Existing Customer':0, 'Attrited Customer':1})\n",
    "num_data['Income_Category'] = num_data['Income_Category'].map({'Unknown':0, 'Less than $40K':0, '$40K - $60K':1, '$60K - $80K':2, '$80K - $120K':3, '$120K +':4})\n",
    "num_data['Marital_Status'] = num_data['Marital_Status'].map({'Divorced':0, 'Unknown':0, 'Single':0, 'Married':1})\n",
    "num_data['Education_Level'] = num_data['Education_Level'].map({'Unknown':0, 'Uneducated':0, 'High School':1, 'College':2,'Graduate':3,'Post-Graduate':4,'Doctorate':5})\n",
    "num_data['Card_Category'] = num_data['Card_Category'].map({'Blue':0, 'Silver':1, 'Gold':2, 'Platinum':3})\n",
    "\n",
    "#Just playing with different ways to do the same thing\n",
    "num_data = pd.get_dummies(num_data) #Gender\n",
    "num_data.head()"
   ]
  },
  {
   "cell_type": "markdown",
   "metadata": {
    "papermill": {
     "duration": 0.037516,
     "end_time": "2021-01-13T17:35:36.289008",
     "exception": false,
     "start_time": "2021-01-13T17:35:36.251492",
     "status": "completed"
    },
    "tags": []
   },
   "source": [
    "## Correlation Heatmap\n",
    "\n",
    "Getting the correlation of target variable with all the other features."
   ]
  },
  {
   "cell_type": "code",
   "execution_count": 6,
   "metadata": {
    "execution": {
     "iopub.execute_input": "2021-01-13T17:35:36.369911Z",
     "iopub.status.busy": "2021-01-13T17:35:36.369105Z",
     "iopub.status.idle": "2021-01-13T17:35:36.742621Z",
     "shell.execute_reply": "2021-01-13T17:35:36.743120Z"
    },
    "papermill": {
     "duration": 0.417361,
     "end_time": "2021-01-13T17:35:36.743305",
     "exception": false,
     "start_time": "2021-01-13T17:35:36.325944",
     "status": "completed"
    },
    "tags": []
   },
   "outputs": [
    {
     "data": {
      "text/plain": [
       "<matplotlib.axes._subplots.AxesSubplot at 0x7f4745e5cfd0>"
      ]
     },
     "execution_count": 6,
     "metadata": {},
     "output_type": "execute_result"
    },
    {
     "data": {
      "image/png": "[encoded data removed]",
      "text/plain": [
       "<Figure size 1080x576 with 1 Axes>"
      ]
     },
     "metadata": {
      "needs_background": "light"
     },
     "output_type": "display_data"
    }
   ],
   "source": [
    "plt.figure(figsize=(15,8))\n",
    "num_data.corr()[\"Attrition_Flag\"].sort_values(ascending=False).plot(kind=\"bar\")"
   ]
  },
  {
   "cell_type": "markdown",
   "metadata": {
    "papermill": {
     "duration": 0.041592,
     "end_time": "2021-01-13T17:35:36.829548",
     "exception": false,
     "start_time": "2021-01-13T17:35:36.787956",
     "status": "completed"
    },
    "tags": []
   },
   "source": [
    "## Ploting Attrition_Flag\n",
    "\n",
    "We ca clearly see in this plot the difference between Current Customers and Attritied Customers."
   ]
  },
  {
   "cell_type": "code",
   "execution_count": 7,
   "metadata": {
    "execution": {
     "iopub.execute_input": "2021-01-13T17:35:36.924794Z",
     "iopub.status.busy": "2021-01-13T17:35:36.923750Z",
     "iopub.status.idle": "2021-01-13T17:35:37.131793Z",
     "shell.execute_reply": "2021-01-13T17:35:37.132371Z"
    },
    "papermill": {
     "duration": 0.258609,
     "end_time": "2021-01-13T17:35:37.132523",
     "exception": false,
     "start_time": "2021-01-13T17:35:36.873914",
     "status": "completed"
    },
    "tags": []
   },
   "outputs": [
    {
     "data": {
      "image/png": "[encoded data removed]",
      "text/plain": [
       "<Figure size 468x187.2 with 1 Axes>"
      ]
     },
     "metadata": {
      "needs_background": "light"
     },
     "output_type": "display_data"
    }
   ],
   "source": [
    "ax = sns.catplot(y=\"Attrition_Flag\", kind=\"count\", data=bank_data, height=2.6, aspect=2.5, orient='h')"
   ]
  },
  {
   "cell_type": "markdown",
   "metadata": {
    "papermill": {
     "duration": 0.044289,
     "end_time": "2021-01-13T17:35:37.221321",
     "exception": false,
     "start_time": "2021-01-13T17:35:37.177032",
     "status": "completed"
    },
    "tags": []
   },
   "source": [
    "## Attrited Customers vs Existing Customers\n",
    "\n",
    "### By Marital Status"
   ]
  },
  {
   "cell_type": "code",
   "execution_count": 8,
   "metadata": {
    "execution": {
     "iopub.execute_input": "2021-01-13T17:35:37.318763Z",
     "iopub.status.busy": "2021-01-13T17:35:37.317867Z",
     "iopub.status.idle": "2021-01-13T17:35:37.550961Z",
     "shell.execute_reply": "2021-01-13T17:35:37.551727Z"
    },
    "papermill": {
     "duration": 0.288565,
     "end_time": "2021-01-13T17:35:37.551868",
     "exception": false,
     "start_time": "2021-01-13T17:35:37.263303",
     "status": "completed"
    },
    "tags": []
   },
   "outputs": [
    {
     "data": {
      "image/png": "[encoded data removed]",
      "text/plain": [
       "<Figure size 432x288 with 1 Axes>"
      ]
     },
     "metadata": {
      "needs_background": "light"
     },
     "output_type": "display_data"
    }
   ],
   "source": [
    "def barplot_percentages(feature, orient='v', axis_name=\"Percentage of customers\"):\n",
    "    ratios = pd.DataFrame()\n",
    "    g = bank_data.groupby(feature)[\"Attrition_Flag\"].value_counts().to_frame()\n",
    "    g = g.rename({\"Attrition_Flag\": axis_name}, axis=1).reset_index()\n",
    "    g[axis_name] = g[axis_name]/len(bank_data)\n",
    "    if orient == 'v':\n",
    "        ax = sns.barplot(x=feature, y= axis_name, hue='Attrition_Flag', data=g, orient=orient)\n",
    "        ax.set_yticklabels(['{:,.0%}'.format(y) for y in ax.get_yticks()])\n",
    "    else:\n",
    "        ax = sns.barplot(x= axis_name, y=feature, hue='Attrition_Flag', data=g, orient=orient)\n",
    "        ax.set_xticklabels(['{:,.0%}'.format(x) for x in ax.get_xticks()])\n",
    "    ax.plot()\n",
    "barplot_percentages(\"Marital_Status\")"
   ]
  },
  {
   "cell_type": "markdown",
   "metadata": {
    "papermill": {
     "duration": 0.040862,
     "end_time": "2021-01-13T17:35:37.634491",
     "exception": false,
     "start_time": "2021-01-13T17:35:37.593629",
     "status": "completed"
    },
    "tags": []
   },
   "source": [
    "### By Dependant Count"
   ]
  },
  {
   "cell_type": "code",
   "execution_count": 9,
   "metadata": {
    "execution": {
     "iopub.execute_input": "2021-01-13T17:35:37.728927Z",
     "iopub.status.busy": "2021-01-13T17:35:37.728030Z",
     "iopub.status.idle": "2021-01-13T17:35:37.936728Z",
     "shell.execute_reply": "2021-01-13T17:35:37.937309Z"
    },
    "papermill": {
     "duration": 0.262781,
     "end_time": "2021-01-13T17:35:37.937453",
     "exception": false,
     "start_time": "2021-01-13T17:35:37.674672",
     "status": "completed"
    },
    "tags": []
   },
   "outputs": [
    {
     "data": {
      "image/png": "[encoded data removed]",
      "text/plain": [
       "<Figure size 432x288 with 1 Axes>"
      ]
     },
     "metadata": {
      "needs_background": "light"
     },
     "output_type": "display_data"
    }
   ],
   "source": [
    "def barplot_percentages(feature, orient='v', axis_name=\"Percentage of customers\"):\n",
    "    ratios = pd.DataFrame()\n",
    "    g = bank_data.groupby(feature)[\"Attrition_Flag\"].value_counts().to_frame()\n",
    "    g = g.rename({\"Attrition_Flag\": axis_name}, axis=1).reset_index()\n",
    "    g[axis_name] = g[axis_name]/len(bank_data)\n",
    "    if orient == 'v':\n",
    "        ax = sns.barplot(x=feature, y= axis_name, hue='Attrition_Flag', data=g, orient=orient)\n",
    "        ax.set_yticklabels(['{:,.0%}'.format(y) for y in ax.get_yticks()])\n",
    "    else:\n",
    "        ax = sns.barplot(x= axis_name, y=feature, hue='Attrition_Flag', data=g, orient=orient)\n",
    "        ax.set_xticklabels(['{:,.0%}'.format(x) for x in ax.get_xticks()])\n",
    "    ax.plot()\n",
    "barplot_percentages(\"Dependent_count\")"
   ]
  },
  {
   "cell_type": "markdown",
   "metadata": {
    "papermill": {
     "duration": 0.04658,
     "end_time": "2021-01-13T17:35:38.030913",
     "exception": false,
     "start_time": "2021-01-13T17:35:37.984333",
     "status": "completed"
    },
    "tags": []
   },
   "source": [
    "### By Education Level"
   ]
  },
  {
   "cell_type": "code",
   "execution_count": 10,
   "metadata": {
    "execution": {
     "iopub.execute_input": "2021-01-13T17:35:38.130743Z",
     "iopub.status.busy": "2021-01-13T17:35:38.129867Z",
     "iopub.status.idle": "2021-01-13T17:35:38.361168Z",
     "shell.execute_reply": "2021-01-13T17:35:38.361767Z"
    },
    "papermill": {
     "duration": 0.285086,
     "end_time": "2021-01-13T17:35:38.361905",
     "exception": false,
     "start_time": "2021-01-13T17:35:38.076819",
     "status": "completed"
    },
    "tags": []
   },
   "outputs": [
    {
     "data": {
      "image/png": "[encoded data removed]",
      "text/plain": [
       "<Figure size 432x288 with 1 Axes>"
      ]
     },
     "metadata": {
      "needs_background": "light"
     },
     "output_type": "display_data"
    }
   ],
   "source": [
    "def barplot_percentages(feature, orient='v', axis_name=\"Percentage of customers\"):\n",
    "    ratios = pd.DataFrame()\n",
    "    g = bank_data.groupby(feature)[\"Attrition_Flag\"].value_counts().to_frame()\n",
    "    g = g.rename({\"Attrition_Flag\": axis_name}, axis=1).reset_index()\n",
    "    g[axis_name] = g[axis_name]/len(bank_data)\n",
    "    if orient == 'v':\n",
    "        ax = sns.barplot(x=feature, y= axis_name, hue='Attrition_Flag', data=g, orient=orient)\n",
    "        ax.set_yticklabels(['{:,.0%}'.format(y) for y in ax.get_yticks()])\n",
    "    else:\n",
    "        ax = sns.barplot(x= axis_name, y=feature, hue='Attrition_Flag', data=g, orient=orient)\n",
    "        ax.set_xticklabels(['{:,.0%}'.format(x) for x in ax.get_xticks()])\n",
    "    ax.plot()\n",
    "barplot_percentages(\"Education_Level\")"
   ]
  },
  {
   "cell_type": "markdown",
   "metadata": {
    "papermill": {
     "duration": 0.042915,
     "end_time": "2021-01-13T17:35:38.451690",
     "exception": false,
     "start_time": "2021-01-13T17:35:38.408775",
     "status": "completed"
    },
    "tags": []
   },
   "source": [
    "## Correlation Heatmap "
   ]
  },
  {
   "cell_type": "code",
   "execution_count": 11,
   "metadata": {
    "execution": {
     "iopub.execute_input": "2021-01-13T17:35:38.546890Z",
     "iopub.status.busy": "2021-01-13T17:35:38.545845Z",
     "iopub.status.idle": "2021-01-13T17:35:39.979430Z",
     "shell.execute_reply": "2021-01-13T17:35:39.979984Z"
    },
    "papermill": {
     "duration": 1.486238,
     "end_time": "2021-01-13T17:35:39.980137",
     "exception": false,
     "start_time": "2021-01-13T17:35:38.493899",
     "status": "completed"
    },
    "tags": []
   },
   "outputs": [
    {
     "data": {
      "text/html": [
       "        <script type=\"text/javascript\">\n",
       "        window.PlotlyConfig = {MathJaxConfig: 'local'};\n",
       "        if (window.MathJax) {MathJax.Hub.Config({SVG: {font: \"STIX-Web\"}});}\n",
       "        if (typeof require !== 'undefined') {\n",
       "        require.undef(\"plotly\");\n",
       "        requirejs.config({\n",
       "            paths: {\n",
       "                'plotly': ['https://cdn.plot.ly/plotly-latest.min']\n",
       "            }\n",
       "        });\n",
       "        require(['plotly'], function(Plotly) {\n",
       "            window._Plotly = Plotly;\n",
       "        });\n",
       "        }\n",
       "        </script>\n",
       "        "
      ]
     },
     "metadata": {},
     "output_type": "display_data"
    },
    {
     "data": {
      "text/html": [
       "<div>                            <div id=\"91a4473c-2f2e-404d-a955-89a75c432253\" class=\"plotly-graph-div\" style=\"height:525px; width:100%;\"></div>            <script type=\"text/javascript\">                require([\"plotly\"], function(Plotly) {                    window.PLOTLYENV=window.PLOTLYENV || {};                                    if (document.getElementById(\"91a4473c-2f2e-404d-a955-89a75c432253\")) {                    Plotly.newPlot(                        \"91a4473c-2f2e-404d-a955-89a75c432253\",                        [{\"colorscale\": [[0.0, \"#0d0887\"], [0.1111111111111111, \"#46039f\"], [0.2222222222222222, \"#7201a8\"], [0.3333333333333333, \"#9c179e\"], [0.4444444444444444, \"#bd3786\"], [0.5555555555555556, \"#d8576b\"], [0.6666666666666666, \"#ed7953\"], [0.7777777777777778, \"#fb9f3a\"], [0.8888888888888888, \"#fdca26\"], [1.0, \"#f0f921\"]], \"reversescale\": false, \"showscale\": true, \"type\": \"heatmap\", \"x\": [\"Attrition_Flag\", \"Customer_Age\", \"Dependent_count\", \"Education_Level\", \"Marital_Status\", \"Income_Category\", \"Card_Category\", \"Months_on_book\", \"Total_Relationship_Count\", \"Months_Inactive_12_mon\", \"Contacts_Count_12_mon\", \"Credit_Limit\", \"Total_Revolving_Bal\", \"Avg_Open_To_Buy\", \"Total_Amt_Chng_Q4_Q1\", \"Total_Trans_Amt\", \"Total_Trans_Ct\", \"Total_Ct_Chng_Q4_Q1\", \"Avg_Utilization_Ratio\", \"Gender_F\", \"Gender_M\"], \"y\": [\"Attrition_Flag\", \"Customer_Age\", \"Dependent_count\", \"Education_Level\", \"Marital_Status\", \"Income_Category\", \"Card_Category\", \"Months_on_book\", \"Total_Relationship_Count\", \"Months_Inactive_12_mon\", \"Contacts_Count_12_mon\", \"Credit_Limit\", \"Total_Revolving_Bal\", \"Avg_Open_To_Buy\", \"Total_Amt_Chng_Q4_Q1\", \"Total_Trans_Amt\", \"Total_Trans_Ct\", \"Total_Ct_Chng_Q4_Q1\", \"Avg_Utilization_Ratio\", \"Gender_F\", \"Gender_M\"], \"z\": [[1.0, 0.01820313853255136, 0.01899059631119562, 0.012146719500643575, -0.023735496162996108, -0.01319816202298654, 0.0023535755024892495, 0.013686851177909888, -0.15000522801914482, 0.15244880632693117, 0.20449050998161958, -0.023872994836162172, -0.2630528831292024, -0.00028507749393794524, -0.13106284781447336, -0.16859838141008368, -0.3714027011889368, -0.29005400688089794, -0.17841033156174405, 0.037271695731351494, -0.037271695731351494], [0.01820313853255136, 1.0, -0.12225375200525376, -0.0014095319771640418, 0.047363695107947426, 0.02521086934245589, -0.018234705465418447, 0.7889123589930808, -0.010931068804261548, 0.054360998760122174, -0.01845185475879843, 0.0024762273596652387, 0.014779894579644211, 0.001150677879190478, -0.0620420919198189, -0.046446490854686884, -0.06709686360085765, -0.012142548310868848, 0.007114222226031486, 0.017311519826718247, -0.017311519826718247], [0.01899059631119562, -0.12225375200525376, 1.0, 0.0017106920123349711, 0.014385244712523811, 0.06810378709459165, 0.030469318827731705, -0.10306228148765269, -0.03907638897966499, -0.010767918480953395, -0.040504959762290335, 0.06806460020347053, -0.0026881458588579425, 0.06829130387444235, -0.03543942896257469, 0.025046237587380706, 0.04991247663849624, 0.011087180902770766, -0.03713515854004353, -0.004562722282951626, 0.00456272228295167], [0.012146719500643575, -0.0014095319771640418, 0.0017106920123349711, 1.0, 0.013980367692798505, -0.011656877886793591, 0.016235713562792867, 0.006654822910323481, -7.637299765399615e-05, 0.003593124377290181, -0.0069362643440548395, -0.0042211932648780134, -0.008020121237282131, -0.003501296592409259, -0.010830971513392235, -0.008007792640059477, -0.005376778155157268, -0.018805359503025112, -0.0015281453904430072, 0.006882951480290254, -0.0068829514802902355], [-0.023735496162996108, 0.047363695107947426, 0.014385244712523811, 0.013980367692798505, 1.0, 0.022880840627305173, -0.04925390912140818, 0.033193717409560376, 0.01700137449356811, -0.007064762838973362, 0.0015982246639987588, -0.05671335011407499, 0.039123714029745564, -0.060208915414624795, 0.05238776811683781, -0.06302972150912663, -0.12391062910344769, 0.01363864118355257, 0.04968419349933934, -0.011426897458784852, 0.01142689745878485], [-0.01319816202298654, 0.02521086934245589, 0.06810378709459165, -0.011656877886793591, 0.022880840627305173, 1.0, 0.08311852176253948, 0.022434732166141724, -0.0033918255212240633, -0.015199665523680243, 0.025813575344932192, 0.5290362259274721, 0.03323316644866183, 0.5259457694693639, 0.014273505210480472, 0.018589258439773326, -0.05490731759101387, -0.011954764034329272, -0.2858394320236612, -0.79191119625988, 0.79191119625988], [0.0023535755024892495, -0.018234705465418447, 0.030469318827731705, 0.016235713562792867, -0.04925390912140818, 0.08311852176253948, 1.0, -0.012535057339014062, -0.09407677273462002, -0.014628647516297468, -0.00044234433682873207, 0.4924461884845439, 0.0263043969365345, 0.48998458426703717, 0.007384648318103096, 0.19600340804354804, 0.13427476039841252, -0.0072614603723003684, -0.19871092032075105, -0.08009332669432453, 0.08009332669432453], [0.013686851177909888, 0.7889123589930808, -0.10306228148765269, 0.006654822910323481, 0.033193717409560376, 0.022434732166141724, -0.012535057339014062, 1.0, -0.009203080231274946, 0.07416351432951457, -0.010774478506728979, 0.007507009229698786, 0.008622804474098415, 0.006732391627270859, -0.04895932012672019, -0.03859062947522597, -0.049819083539625234, -0.014071670900047718, -0.007540836976325897, 0.006727564122993659, -0.0067275641229936935], [-0.15000522801914482, -0.010931068804261548, -0.03907638897966499, -7.637299765399615e-05, 0.01700137449356811, -0.0033918255212240633, -0.09407677273462002, -0.009203080231274946, 1.0, -0.0036753769322016095, 0.055203163312506125, -0.0713858174235289, 0.013725848920523347, -0.07260136283372476, 0.05011864365971727, -0.34722887963700827, -0.24189084971342692, 0.04083114826057174, 0.06766287804145504, -0.0031570287630343316, 0.0031570287630343316], [0.15244880632693117, 0.054360998760122174, -0.010767918480953395, 0.003593124377290181, -0.007064762838973362, -0.015199665523680243, -0.014628647516297468, 0.07416351432951457, -0.0036753769322016095, 1.0, 0.029492910128661908, -0.020393791443454788, -0.04220960877980041, -0.01660538381048103, -0.03224671239481172, -0.03698242508479037, -0.04278703930775472, -0.038989337976710337, -0.007502632768839346, 0.011163296159004351, -0.011163296159004358], [0.20449050998161958, -0.01845185475879843, -0.040504959762290335, -0.0069362643440548395, 0.0015982246639987588, 0.025813575344932192, -0.00044234433682873207, -0.010774478506728979, 0.055203163312506125, 0.029492910128661908, 1.0, 0.02081701171626795, -0.05391273122599734, 0.025645961208680786, -0.02444511512038611, -0.11277392883883579, -0.1522126051840524, -0.09499691598377637, -0.055471284652452185, -0.03998685151209065, 0.03998685151209066], [-0.023872994836162172, 0.0024762273596652387, 0.06806460020347053, -0.0042211932648780134, -0.05671335011407499, 0.5290362259274721, 0.4924461884845439, 0.007507009229698786, -0.0713858174235289, -0.020393791443454788, 0.02081701171626795, 1.0, 0.04249260734895748, 0.995980543932013, 0.012812535653393574, 0.17173015046794385, 0.07592691199469144, -0.0020198499941726897, -0.48296507141743683, -0.42080626998370574, 0.4208062699837059], [-0.2630528831292024, 0.014779894579644211, -0.0026881458588579425, -0.008020121237282131, 0.039123714029745564, 0.03323316644866183, 0.0263043969365345, 0.008622804474098415, 0.013725848920523347, -0.04220960877980041, -0.05391273122599734, 0.04249260734895748, 1.0, -0.04716712794342919, 0.058173664454231715, 0.06437047704790902, 0.05606049304632161, 0.08986100776026576, 0.6240219910058902, -0.029658395958803627, 0.029658395958803613], [-0.00028507749393794524, 0.001150677879190478, 0.06829130387444235, -0.003501296592409259, -0.060208915414624795, 0.5259457694693639, 0.48998458426703717, 0.006732391627270859, -0.07260136283372476, -0.01660538381048103, 0.025645961208680786, 0.995980543932013, -0.04716712794342919, 1.0, 0.007594529195992354, 0.16592322849700908, 0.07088510162622977, -0.010075538362498311, -0.5388077476174549, -0.4180590184885509, 0.41805901848855115], [-0.13106284781447336, -0.0620420919198189, -0.03543942896257469, -0.010830971513392235, 0.05238776811683781, 0.014273505210480472, 0.007384648318103096, -0.04895932012672019, 0.05011864365971727, -0.03224671239481172, -0.02444511512038611, 0.012812535653393574, 0.058173664454231715, 0.007594529195992354, 1.0, 0.0396775923718641, 0.005468567330773644, 0.3841892560337165, 0.0352348347307331, -0.026711636076277506, 0.026711636076277495], [-0.16859838141008368, -0.046446490854686884, 0.025046237587380706, -0.008007792640059477, -0.06302972150912663, 0.018589258439773326, 0.19600340804354804, -0.03859062947522597, -0.34722887963700827, -0.03698242508479037, -0.11277392883883579, 0.17173015046794385, 0.06437047704790902, 0.16592322849700908, 0.0396775923718641, 1.0, 0.8071920346514343, 0.08558097602856361, -0.08303424588645789, -0.02489007751317937, 0.02489007751317938], [-0.3714027011889368, -0.06709686360085765, 0.04991247663849624, -0.005376778155157268, -0.12391062910344769, -0.05490731759101387, 0.13427476039841252, -0.049819083539625234, -0.24189084971342692, -0.04278703930775472, -0.1522126051840524, 0.07592691199469144, 0.05606049304632161, 0.07088510162622977, 0.005468567330773644, 0.8071920346514343, 1.0, 0.11232443991563897, 0.002838112234216727, 0.0674535488906925, -0.06745354889069248], [-0.29005400688089794, -0.012142548310868848, 0.011087180902770766, -0.018805359503025112, 0.01363864118355257, -0.011954764034329272, -0.0072614603723003684, -0.014071670900047718, 0.04083114826057174, -0.038989337976710337, -0.09499691598377637, -0.0020198499941726897, 0.08986100776026576, -0.010075538362498311, 0.3841892560337165, 0.08558097602856361, 0.11232443991563897, 1.0, 0.07414320991781946, 0.005800421795730321, -0.00580042179573033], [-0.17841033156174405, 0.007114222226031486, -0.03713515854004353, -0.0015281453904430072, 0.04968419349933934, -0.2858394320236612, -0.19871092032075105, -0.007540836976325897, 0.06766287804145504, -0.007502632768839346, -0.055471284652452185, -0.48296507141743683, 0.6240219910058902, -0.5388077476174549, 0.0352348347307331, -0.08303424588645789, 0.002838112234216727, 0.07414320991781946, 1.0, 0.2578508328224049, -0.2578508328224049], [0.037271695731351494, 0.017311519826718247, -0.004562722282951626, 0.006882951480290254, -0.011426897458784852, -0.79191119625988, -0.08009332669432453, 0.006727564122993659, -0.0031570287630343316, 0.011163296159004351, -0.03998685151209065, -0.42080626998370574, -0.029658395958803627, -0.4180590184885509, -0.026711636076277506, -0.02489007751317937, 0.0674535488906925, 0.005800421795730321, 0.2578508328224049, 1.0, -1.0], [-0.037271695731351494, -0.017311519826718247, 0.00456272228295167, -0.0068829514802902355, 0.01142689745878485, 0.79191119625988, 0.08009332669432453, -0.0067275641229936935, 0.0031570287630343316, -0.011163296159004358, 0.03998685151209066, 0.4208062699837059, 0.029658395958803613, 0.41805901848855115, 0.026711636076277495, 0.02489007751317938, -0.06745354889069248, -0.00580042179573033, -0.2578508328224049, -1.0, 1.0]]}],                        {\"annotations\": [{\"font\": {\"color\": \"#000000\"}, \"showarrow\": false, \"text\": \"1.0\", \"x\": \"Attrition_Flag\", \"xref\": \"x\", \"y\": \"Attrition_Flag\", \"yref\": \"y\"}, {\"font\": {\"color\": \"#000000\"}, \"showarrow\": false, \"text\": \"0.02\", \"x\": \"Customer_Age\", \"xref\": \"x\", \"y\": \"Attrition_Flag\", \"yref\": \"y\"}, {\"font\": {\"color\": \"#000000\"}, \"showarrow\": false, \"text\": \"0.02\", \"x\": \"Dependent_count\", \"xref\": \"x\", \"y\": \"Attrition_Flag\", \"yref\": \"y\"}, {\"font\": {\"color\": \"#000000\"}, \"showarrow\": false, \"text\": \"0.01\", \"x\": \"Education_Level\", \"xref\": \"x\", \"y\": \"Attrition_Flag\", \"yref\": \"y\"}, {\"font\": {\"color\": \"#FFFFFF\"}, \"showarrow\": false, \"text\": \"-0.02\", \"x\": \"Marital_Status\", \"xref\": \"x\", \"y\": \"Attrition_Flag\", \"yref\": \"y\"}, {\"font\": {\"color\": \"#FFFFFF\"}, \"showarrow\": false, \"text\": \"-0.01\", \"x\": \"Income_Category\", \"xref\": \"x\", \"y\": \"Attrition_Flag\", \"yref\": \"y\"}, {\"font\": {\"color\": \"#000000\"}, \"showarrow\": false, \"text\": \"0.0\", \"x\": \"Card_Category\", \"xref\": \"x\", \"y\": \"Attrition_Flag\", \"yref\": \"y\"}, {\"font\": {\"color\": \"#000000\"}, \"showarrow\": false, \"text\": \"0.01\", \"x\": \"Months_on_book\", \"xref\": \"x\", \"y\": \"Attrition_Flag\", \"yref\": \"y\"}, {\"font\": {\"color\": \"#FFFFFF\"}, \"showarrow\": false, \"text\": \"-0.15\", \"x\": \"Total_Relationship_Count\", \"xref\": \"x\", \"y\": \"Attrition_Flag\", \"yref\": \"y\"}, {\"font\": {\"color\": \"#000000\"}, \"showarrow\": false, \"text\": \"0.15\", \"x\": \"Months_Inactive_12_mon\", \"xref\": \"x\", \"y\": \"Attrition_Flag\", \"yref\": \"y\"}, {\"font\": {\"color\": \"#000000\"}, \"showarrow\": false, \"text\": \"0.2\", \"x\": \"Contacts_Count_12_mon\", \"xref\": \"x\", \"y\": \"Attrition_Flag\", \"yref\": \"y\"}, {\"font\": {\"color\": \"#FFFFFF\"}, \"showarrow\": false, \"text\": \"-0.02\", \"x\": \"Credit_Limit\", \"xref\": \"x\", \"y\": \"Attrition_Flag\", \"yref\": \"y\"}, {\"font\": {\"color\": \"#FFFFFF\"}, \"showarrow\": false, \"text\": \"-0.26\", \"x\": \"Total_Revolving_Bal\", \"xref\": \"x\", \"y\": \"Attrition_Flag\", \"yref\": \"y\"}, {\"font\": {\"color\": \"#FFFFFF\"}, \"showarrow\": false, \"text\": \"-0.0\", \"x\": \"Avg_Open_To_Buy\", \"xref\": \"x\", \"y\": \"Attrition_Flag\", \"yref\": \"y\"}, {\"font\": {\"color\": \"#FFFFFF\"}, \"showarrow\": false, \"text\": \"-0.13\", \"x\": \"Total_Amt_Chng_Q4_Q1\", \"xref\": \"x\", \"y\": \"Attrition_Flag\", \"yref\": \"y\"}, {\"font\": {\"color\": \"#FFFFFF\"}, \"showarrow\": false, \"text\": \"-0.17\", \"x\": \"Total_Trans_Amt\", \"xref\": \"x\", \"y\": \"Attrition_Flag\", \"yref\": \"y\"}, {\"font\": {\"color\": \"#FFFFFF\"}, \"showarrow\": false, \"text\": \"-0.37\", \"x\": \"Total_Trans_Ct\", \"xref\": \"x\", \"y\": \"Attrition_Flag\", \"yref\": \"y\"}, {\"font\": {\"color\": \"#FFFFFF\"}, \"showarrow\": false, \"text\": \"-0.29\", \"x\": \"Total_Ct_Chng_Q4_Q1\", \"xref\": \"x\", \"y\": \"Attrition_Flag\", \"yref\": \"y\"}, {\"font\": {\"color\": \"#FFFFFF\"}, \"showarrow\": false, \"text\": \"-0.18\", \"x\": \"Avg_Utilization_Ratio\", \"xref\": \"x\", \"y\": \"Attrition_Flag\", \"yref\": \"y\"}, {\"font\": {\"color\": \"#000000\"}, \"showarrow\": false, \"text\": \"0.04\", \"x\": \"Gender_F\", \"xref\": \"x\", \"y\": \"Attrition_Flag\", \"yref\": \"y\"}, {\"font\": {\"color\": \"#FFFFFF\"}, \"showarrow\": false, \"text\": \"-0.04\", \"x\": \"Gender_M\", \"xref\": \"x\", \"y\": \"Attrition_Flag\", \"yref\": \"y\"}, {\"font\": {\"color\": \"#000000\"}, \"showarrow\": false, \"text\": \"0.02\", \"x\": \"Attrition_Flag\", \"xref\": \"x\", \"y\": \"Customer_Age\", \"yref\": \"y\"}, {\"font\": {\"color\": \"#000000\"}, \"showarrow\": false, \"text\": \"1.0\", \"x\": \"Customer_Age\", \"xref\": \"x\", \"y\": \"Customer_Age\", \"yref\": \"y\"}, {\"font\": {\"color\": \"#FFFFFF\"}, \"showarrow\": false, \"text\": \"-0.12\", \"x\": \"Dependent_count\", \"xref\": \"x\", \"y\": \"Customer_Age\", \"yref\": \"y\"}, {\"font\": {\"color\": \"#FFFFFF\"}, \"showarrow\": false, \"text\": \"-0.0\", \"x\": \"Education_Level\", \"xref\": \"x\", \"y\": \"Customer_Age\", \"yref\": \"y\"}, {\"font\": {\"color\": \"#000000\"}, \"showarrow\": false, \"text\": \"0.05\", \"x\": \"Marital_Status\", \"xref\": \"x\", \"y\": \"Customer_Age\", \"yref\": \"y\"}, {\"font\": {\"color\": \"#000000\"}, \"showarrow\": false, \"text\": \"0.03\", \"x\": \"Income_Category\", \"xref\": \"x\", \"y\": \"Customer_Age\", \"yref\": \"y\"}, {\"font\": {\"color\": \"#FFFFFF\"}, \"showarrow\": false, \"text\": \"-0.02\", \"x\": \"Card_Category\", \"xref\": \"x\", \"y\": \"Customer_Age\", \"yref\": \"y\"}, {\"font\": {\"color\": \"#000000\"}, \"showarrow\": false, \"text\": \"0.79\", \"x\": \"Months_on_book\", \"xref\": \"x\", \"y\": \"Customer_Age\", \"yref\": \"y\"}, {\"font\": {\"color\": \"#FFFFFF\"}, \"showarrow\": false, \"text\": \"-0.01\", \"x\": \"Total_Relationship_Count\", \"xref\": \"x\", \"y\": \"Customer_Age\", \"yref\": \"y\"}, {\"font\": {\"color\": \"#000000\"}, \"showarrow\": false, \"text\": \"0.05\", \"x\": \"Months_Inactive_12_mon\", \"xref\": \"x\", \"y\": \"Customer_Age\", \"yref\": \"y\"}, {\"font\": {\"color\": \"#FFFFFF\"}, \"showarrow\": false, \"text\": \"-0.02\", \"x\": \"Contacts_Count_12_mon\", \"xref\": \"x\", \"y\": \"Customer_Age\", \"yref\": \"y\"}, {\"font\": {\"color\": \"#000000\"}, \"showarrow\": false, \"text\": \"0.0\", \"x\": \"Credit_Limit\", \"xref\": \"x\", \"y\": \"Customer_Age\", \"yref\": \"y\"}, {\"font\": {\"color\": \"#000000\"}, \"showarrow\": false, \"text\": \"0.01\", \"x\": \"Total_Revolving_Bal\", \"xref\": \"x\", \"y\": \"Customer_Age\", \"yref\": \"y\"}, {\"font\": {\"color\": \"#000000\"}, \"showarrow\": false, \"text\": \"0.0\", \"x\": \"Avg_Open_To_Buy\", \"xref\": \"x\", \"y\": \"Customer_Age\", \"yref\": \"y\"}, {\"font\": {\"color\": \"#FFFFFF\"}, \"showarrow\": false, \"text\": \"-0.06\", \"x\": \"Total_Amt_Chng_Q4_Q1\", \"xref\": \"x\", \"y\": \"Customer_Age\", \"yref\": \"y\"}, {\"font\": {\"color\": \"#FFFFFF\"}, \"showarrow\": false, \"text\": \"-0.05\", \"x\": \"Total_Trans_Amt\", \"xref\": \"x\", \"y\": \"Customer_Age\", \"yref\": \"y\"}, {\"font\": {\"color\": \"#FFFFFF\"}, \"showarrow\": false, \"text\": \"-0.07\", \"x\": \"Total_Trans_Ct\", \"xref\": \"x\", \"y\": \"Customer_Age\", \"yref\": \"y\"}, {\"font\": {\"color\": \"#FFFFFF\"}, \"showarrow\": false, \"text\": \"-0.01\", \"x\": \"Total_Ct_Chng_Q4_Q1\", \"xref\": \"x\", \"y\": \"Customer_Age\", \"yref\": \"y\"}, {\"font\": {\"color\": \"#000000\"}, \"showarrow\": false, \"text\": \"0.01\", \"x\": \"Avg_Utilization_Ratio\", \"xref\": \"x\", \"y\": \"Customer_Age\", \"yref\": \"y\"}, {\"font\": {\"color\": \"#000000\"}, \"showarrow\": false, \"text\": \"0.02\", \"x\": \"Gender_F\", \"xref\": \"x\", \"y\": \"Customer_Age\", \"yref\": \"y\"}, {\"font\": {\"color\": \"#FFFFFF\"}, \"showarrow\": false, \"text\": \"-0.02\", \"x\": \"Gender_M\", \"xref\": \"x\", \"y\": \"Customer_Age\", \"yref\": \"y\"}, {\"font\": {\"color\": \"#000000\"}, \"showarrow\": false, \"text\": \"0.02\", \"x\": \"Attrition_Flag\", \"xref\": \"x\", \"y\": \"Dependent_count\", \"yref\": \"y\"}, {\"font\": {\"color\": \"#FFFFFF\"}, \"showarrow\": false, \"text\": \"-0.12\", \"x\": \"Customer_Age\", \"xref\": \"x\", \"y\": \"Dependent_count\", \"yref\": \"y\"}, {\"font\": {\"color\": \"#000000\"}, \"showarrow\": false, \"text\": \"1.0\", \"x\": \"Dependent_count\", \"xref\": \"x\", \"y\": \"Dependent_count\", \"yref\": \"y\"}, {\"font\": {\"color\": \"#000000\"}, \"showarrow\": false, \"text\": \"0.0\", \"x\": \"Education_Level\", \"xref\": \"x\", \"y\": \"Dependent_count\", \"yref\": \"y\"}, {\"font\": {\"color\": \"#000000\"}, \"showarrow\": false, \"text\": \"0.01\", \"x\": \"Marital_Status\", \"xref\": \"x\", \"y\": \"Dependent_count\", \"yref\": \"y\"}, {\"font\": {\"color\": \"#000000\"}, \"showarrow\": false, \"text\": \"0.07\", \"x\": \"Income_Category\", \"xref\": \"x\", \"y\": \"Dependent_count\", \"yref\": \"y\"}, {\"font\": {\"color\": \"#000000\"}, \"showarrow\": false, \"text\": \"0.03\", \"x\": \"Card_Category\", \"xref\": \"x\", \"y\": \"Dependent_count\", \"yref\": \"y\"}, {\"font\": {\"color\": \"#FFFFFF\"}, \"showarrow\": false, \"text\": \"-0.1\", \"x\": \"Months_on_book\", \"xref\": \"x\", \"y\": \"Dependent_count\", \"yref\": \"y\"}, {\"font\": {\"color\": \"#FFFFFF\"}, \"showarrow\": false, \"text\": \"-0.04\", \"x\": \"Total_Relationship_Count\", \"xref\": \"x\", \"y\": \"Dependent_count\", \"yref\": \"y\"}, {\"font\": {\"color\": \"#FFFFFF\"}, \"showarrow\": false, \"text\": \"-0.01\", \"x\": \"Months_Inactive_12_mon\", \"xref\": \"x\", \"y\": \"Dependent_count\", \"yref\": \"y\"}, {\"font\": {\"color\": \"#FFFFFF\"}, \"showarrow\": false, \"text\": \"-0.04\", \"x\": \"Contacts_Count_12_mon\", \"xref\": \"x\", \"y\": \"Dependent_count\", \"yref\": \"y\"}, {\"font\": {\"color\": \"#000000\"}, \"showarrow\": false, \"text\": \"0.07\", \"x\": \"Credit_Limit\", \"xref\": \"x\", \"y\": \"Dependent_count\", \"yref\": \"y\"}, {\"font\": {\"color\": \"#FFFFFF\"}, \"showarrow\": false, \"text\": \"-0.0\", \"x\": \"Total_Revolving_Bal\", \"xref\": \"x\", \"y\": \"Dependent_count\", \"yref\": \"y\"}, {\"font\": {\"color\": \"#000000\"}, \"showarrow\": false, \"text\": \"0.07\", \"x\": \"Avg_Open_To_Buy\", \"xref\": \"x\", \"y\": \"Dependent_count\", \"yref\": \"y\"}, {\"font\": {\"color\": \"#FFFFFF\"}, \"showarrow\": false, \"text\": \"-0.04\", \"x\": \"Total_Amt_Chng_Q4_Q1\", \"xref\": \"x\", \"y\": \"Dependent_count\", \"yref\": \"y\"}, {\"font\": {\"color\": \"#000000\"}, \"showarrow\": false, \"text\": \"0.03\", \"x\": \"Total_Trans_Amt\", \"xref\": \"x\", \"y\": \"Dependent_count\", \"yref\": \"y\"}, {\"font\": {\"color\": \"#000000\"}, \"showarrow\": false, \"text\": \"0.05\", \"x\": \"Total_Trans_Ct\", \"xref\": \"x\", \"y\": \"Dependent_count\", \"yref\": \"y\"}, {\"font\": {\"color\": \"#000000\"}, \"showarrow\": false, \"text\": \"0.01\", \"x\": \"Total_Ct_Chng_Q4_Q1\", \"xref\": \"x\", \"y\": \"Dependent_count\", \"yref\": \"y\"}, {\"font\": {\"color\": \"#FFFFFF\"}, \"showarrow\": false, \"text\": \"-0.04\", \"x\": \"Avg_Utilization_Ratio\", \"xref\": \"x\", \"y\": \"Dependent_count\", \"yref\": \"y\"}, {\"font\": {\"color\": \"#FFFFFF\"}, \"showarrow\": false, \"text\": \"-0.0\", \"x\": \"Gender_F\", \"xref\": \"x\", \"y\": \"Dependent_count\", \"yref\": \"y\"}, {\"font\": {\"color\": \"#000000\"}, \"showarrow\": false, \"text\": \"0.0\", \"x\": \"Gender_M\", \"xref\": \"x\", \"y\": \"Dependent_count\", \"yref\": \"y\"}, {\"font\": {\"color\": \"#000000\"}, \"showarrow\": false, \"text\": \"0.01\", \"x\": \"Attrition_Flag\", \"xref\": \"x\", \"y\": \"Education_Level\", \"yref\": \"y\"}, {\"font\": {\"color\": \"#FFFFFF\"}, \"showarrow\": false, \"text\": \"-0.0\", \"x\": \"Customer_Age\", \"xref\": \"x\", \"y\": \"Education_Level\", \"yref\": \"y\"}, {\"font\": {\"color\": \"#000000\"}, \"showarrow\": false, \"text\": \"0.0\", \"x\": \"Dependent_count\", \"xref\": \"x\", \"y\": \"Education_Level\", \"yref\": \"y\"}, {\"font\": {\"color\": \"#000000\"}, \"showarrow\": false, \"text\": \"1.0\", \"x\": \"Education_Level\", \"xref\": \"x\", \"y\": \"Education_Level\", \"yref\": \"y\"}, {\"font\": {\"color\": \"#000000\"}, \"showarrow\": false, \"text\": \"0.01\", \"x\": \"Marital_Status\", \"xref\": \"x\", \"y\": \"Education_Level\", \"yref\": \"y\"}, {\"font\": {\"color\": \"#FFFFFF\"}, \"showarrow\": false, \"text\": \"-0.01\", \"x\": \"Income_Category\", \"xref\": \"x\", \"y\": \"Education_Level\", \"yref\": \"y\"}, {\"font\": {\"color\": \"#000000\"}, \"showarrow\": false, \"text\": \"0.02\", \"x\": \"Card_Category\", \"xref\": \"x\", \"y\": \"Education_Level\", \"yref\": \"y\"}, {\"font\": {\"color\": \"#000000\"}, \"showarrow\": false, \"text\": \"0.01\", \"x\": \"Months_on_book\", \"xref\": \"x\", \"y\": \"Education_Level\", \"yref\": \"y\"}, {\"font\": {\"color\": \"#FFFFFF\"}, \"showarrow\": false, \"text\": \"-0.0\", \"x\": \"Total_Relationship_Count\", \"xref\": \"x\", \"y\": \"Education_Level\", \"yref\": \"y\"}, {\"font\": {\"color\": \"#000000\"}, \"showarrow\": false, \"text\": \"0.0\", \"x\": \"Months_Inactive_12_mon\", \"xref\": \"x\", \"y\": \"Education_Level\", \"yref\": \"y\"}, {\"font\": {\"color\": \"#FFFFFF\"}, \"showarrow\": false, \"text\": \"-0.01\", \"x\": \"Contacts_Count_12_mon\", \"xref\": \"x\", \"y\": \"Education_Level\", \"yref\": \"y\"}, {\"font\": {\"color\": \"#FFFFFF\"}, \"showarrow\": false, \"text\": \"-0.0\", \"x\": \"Credit_Limit\", \"xref\": \"x\", \"y\": \"Education_Level\", \"yref\": \"y\"}, {\"font\": {\"color\": \"#FFFFFF\"}, \"showarrow\": false, \"text\": \"-0.01\", \"x\": \"Total_Revolving_Bal\", \"xref\": \"x\", \"y\": \"Education_Level\", \"yref\": \"y\"}, {\"font\": {\"color\": \"#FFFFFF\"}, \"showarrow\": false, \"text\": \"-0.0\", \"x\": \"Avg_Open_To_Buy\", \"xref\": \"x\", \"y\": \"Education_Level\", \"yref\": \"y\"}, {\"font\": {\"color\": \"#FFFFFF\"}, \"showarrow\": false, \"text\": \"-0.01\", \"x\": \"Total_Amt_Chng_Q4_Q1\", \"xref\": \"x\", \"y\": \"Education_Level\", \"yref\": \"y\"}, {\"font\": {\"color\": \"#FFFFFF\"}, \"showarrow\": false, \"text\": \"-0.01\", \"x\": \"Total_Trans_Amt\", \"xref\": \"x\", \"y\": \"Education_Level\", \"yref\": \"y\"}, {\"font\": {\"color\": \"#FFFFFF\"}, \"showarrow\": false, \"text\": \"-0.01\", \"x\": \"Total_Trans_Ct\", \"xref\": \"x\", \"y\": \"Education_Level\", \"yref\": \"y\"}, {\"font\": {\"color\": \"#FFFFFF\"}, \"showarrow\": false, \"text\": \"-0.02\", \"x\": \"Total_Ct_Chng_Q4_Q1\", \"xref\": \"x\", \"y\": \"Education_Level\", \"yref\": \"y\"}, {\"font\": {\"color\": \"#FFFFFF\"}, \"showarrow\": false, \"text\": \"-0.0\", \"x\": \"Avg_Utilization_Ratio\", \"xref\": \"x\", \"y\": \"Education_Level\", \"yref\": \"y\"}, {\"font\": {\"color\": \"#000000\"}, \"showarrow\": false, \"text\": \"0.01\", \"x\": \"Gender_F\", \"xref\": \"x\", \"y\": \"Education_Level\", \"yref\": \"y\"}, {\"font\": {\"color\": \"#FFFFFF\"}, \"showarrow\": false, \"text\": \"-0.01\", \"x\": \"Gender_M\", \"xref\": \"x\", \"y\": \"Education_Level\", \"yref\": \"y\"}, {\"font\": {\"color\": \"#FFFFFF\"}, \"showarrow\": false, \"text\": \"-0.02\", \"x\": \"Attrition_Flag\", \"xref\": \"x\", \"y\": \"Marital_Status\", \"yref\": \"y\"}, {\"font\": {\"color\": \"#000000\"}, \"showarrow\": false, \"text\": \"0.05\", \"x\": \"Customer_Age\", \"xref\": \"x\", \"y\": \"Marital_Status\", \"yref\": \"y\"}, {\"font\": {\"color\": \"#000000\"}, \"showarrow\": false, \"text\": \"0.01\", \"x\": \"Dependent_count\", \"xref\": \"x\", \"y\": \"Marital_Status\", \"yref\": \"y\"}, {\"font\": {\"color\": \"#000000\"}, \"showarrow\": false, \"text\": \"0.01\", \"x\": \"Education_Level\", \"xref\": \"x\", \"y\": \"Marital_Status\", \"yref\": \"y\"}, {\"font\": {\"color\": \"#000000\"}, \"showarrow\": false, \"text\": \"1.0\", \"x\": \"Marital_Status\", \"xref\": \"x\", \"y\": \"Marital_Status\", \"yref\": \"y\"}, {\"font\": {\"color\": \"#000000\"}, \"showarrow\": false, \"text\": \"0.02\", \"x\": \"Income_Category\", \"xref\": \"x\", \"y\": \"Marital_Status\", \"yref\": \"y\"}, {\"font\": {\"color\": \"#FFFFFF\"}, \"showarrow\": false, \"text\": \"-0.05\", \"x\": \"Card_Category\", \"xref\": \"x\", \"y\": \"Marital_Status\", \"yref\": \"y\"}, {\"font\": {\"color\": \"#000000\"}, \"showarrow\": false, \"text\": \"0.03\", \"x\": \"Months_on_book\", \"xref\": \"x\", \"y\": \"Marital_Status\", \"yref\": \"y\"}, {\"font\": {\"color\": \"#000000\"}, \"showarrow\": false, \"text\": \"0.02\", \"x\": \"Total_Relationship_Count\", \"xref\": \"x\", \"y\": \"Marital_Status\", \"yref\": \"y\"}, {\"font\": {\"color\": \"#FFFFFF\"}, \"showarrow\": false, \"text\": \"-0.01\", \"x\": \"Months_Inactive_12_mon\", \"xref\": \"x\", \"y\": \"Marital_Status\", \"yref\": \"y\"}, {\"font\": {\"color\": \"#000000\"}, \"showarrow\": false, \"text\": \"0.0\", \"x\": \"Contacts_Count_12_mon\", \"xref\": \"x\", \"y\": \"Marital_Status\", \"yref\": \"y\"}, {\"font\": {\"color\": \"#FFFFFF\"}, \"showarrow\": false, \"text\": \"-0.06\", \"x\": \"Credit_Limit\", \"xref\": \"x\", \"y\": \"Marital_Status\", \"yref\": \"y\"}, {\"font\": {\"color\": \"#000000\"}, \"showarrow\": false, \"text\": \"0.04\", \"x\": \"Total_Revolving_Bal\", \"xref\": \"x\", \"y\": \"Marital_Status\", \"yref\": \"y\"}, {\"font\": {\"color\": \"#FFFFFF\"}, \"showarrow\": false, \"text\": \"-0.06\", \"x\": \"Avg_Open_To_Buy\", \"xref\": \"x\", \"y\": \"Marital_Status\", \"yref\": \"y\"}, {\"font\": {\"color\": \"#000000\"}, \"showarrow\": false, \"text\": \"0.05\", \"x\": \"Total_Amt_Chng_Q4_Q1\", \"xref\": \"x\", \"y\": \"Marital_Status\", \"yref\": \"y\"}, {\"font\": {\"color\": \"#FFFFFF\"}, \"showarrow\": false, \"text\": \"-0.06\", \"x\": \"Total_Trans_Amt\", \"xref\": \"x\", \"y\": \"Marital_Status\", \"yref\": \"y\"}, {\"font\": {\"color\": \"#FFFFFF\"}, \"showarrow\": false, \"text\": \"-0.12\", \"x\": \"Total_Trans_Ct\", \"xref\": \"x\", \"y\": \"Marital_Status\", \"yref\": \"y\"}, {\"font\": {\"color\": \"#000000\"}, \"showarrow\": false, \"text\": \"0.01\", \"x\": \"Total_Ct_Chng_Q4_Q1\", \"xref\": \"x\", \"y\": \"Marital_Status\", \"yref\": \"y\"}, {\"font\": {\"color\": \"#000000\"}, \"showarrow\": false, \"text\": \"0.05\", \"x\": \"Avg_Utilization_Ratio\", \"xref\": \"x\", \"y\": \"Marital_Status\", \"yref\": \"y\"}, {\"font\": {\"color\": \"#FFFFFF\"}, \"showarrow\": false, \"text\": \"-0.01\", \"x\": \"Gender_F\", \"xref\": \"x\", \"y\": \"Marital_Status\", \"yref\": \"y\"}, {\"font\": {\"color\": \"#000000\"}, \"showarrow\": false, \"text\": \"0.01\", \"x\": \"Gender_M\", \"xref\": \"x\", \"y\": \"Marital_Status\", \"yref\": \"y\"}, {\"font\": {\"color\": \"#FFFFFF\"}, \"showarrow\": false, \"text\": \"-0.01\", \"x\": \"Attrition_Flag\", \"xref\": \"x\", \"y\": \"Income_Category\", \"yref\": \"y\"}, {\"font\": {\"color\": \"#000000\"}, \"showarrow\": false, \"text\": \"0.03\", \"x\": \"Customer_Age\", \"xref\": \"x\", \"y\": \"Income_Category\", \"yref\": \"y\"}, {\"font\": {\"color\": \"#000000\"}, \"showarrow\": false, \"text\": \"0.07\", \"x\": \"Dependent_count\", \"xref\": \"x\", \"y\": \"Income_Category\", \"yref\": \"y\"}, {\"font\": {\"color\": \"#FFFFFF\"}, \"showarrow\": false, \"text\": \"-0.01\", \"x\": \"Education_Level\", \"xref\": \"x\", \"y\": \"Income_Category\", \"yref\": \"y\"}, {\"font\": {\"color\": \"#000000\"}, \"showarrow\": false, \"text\": \"0.02\", \"x\": \"Marital_Status\", \"xref\": \"x\", \"y\": \"Income_Category\", \"yref\": \"y\"}, {\"font\": {\"color\": \"#000000\"}, \"showarrow\": false, \"text\": \"1.0\", \"x\": \"Income_Category\", \"xref\": \"x\", \"y\": \"Income_Category\", \"yref\": \"y\"}, {\"font\": {\"color\": \"#000000\"}, \"showarrow\": false, \"text\": \"0.08\", \"x\": \"Card_Category\", \"xref\": \"x\", \"y\": \"Income_Category\", \"yref\": \"y\"}, {\"font\": {\"color\": \"#000000\"}, \"showarrow\": false, \"text\": \"0.02\", \"x\": \"Months_on_book\", \"xref\": \"x\", \"y\": \"Income_Category\", \"yref\": \"y\"}, {\"font\": {\"color\": \"#FFFFFF\"}, \"showarrow\": false, \"text\": \"-0.0\", \"x\": \"Total_Relationship_Count\", \"xref\": \"x\", \"y\": \"Income_Category\", \"yref\": \"y\"}, {\"font\": {\"color\": \"#FFFFFF\"}, \"showarrow\": false, \"text\": \"-0.02\", \"x\": \"Months_Inactive_12_mon\", \"xref\": \"x\", \"y\": \"Income_Category\", \"yref\": \"y\"}, {\"font\": {\"color\": \"#000000\"}, \"showarrow\": false, \"text\": \"0.03\", \"x\": \"Contacts_Count_12_mon\", \"xref\": \"x\", \"y\": \"Income_Category\", \"yref\": \"y\"}, {\"font\": {\"color\": \"#000000\"}, \"showarrow\": false, \"text\": \"0.53\", \"x\": \"Credit_Limit\", \"xref\": \"x\", \"y\": \"Income_Category\", \"yref\": \"y\"}, {\"font\": {\"color\": \"#000000\"}, \"showarrow\": false, \"text\": \"0.03\", \"x\": \"Total_Revolving_Bal\", \"xref\": \"x\", \"y\": \"Income_Category\", \"yref\": \"y\"}, {\"font\": {\"color\": \"#000000\"}, \"showarrow\": false, \"text\": \"0.53\", \"x\": \"Avg_Open_To_Buy\", \"xref\": \"x\", \"y\": \"Income_Category\", \"yref\": \"y\"}, {\"font\": {\"color\": \"#000000\"}, \"showarrow\": false, \"text\": \"0.01\", \"x\": \"Total_Amt_Chng_Q4_Q1\", \"xref\": \"x\", \"y\": \"Income_Category\", \"yref\": \"y\"}, {\"font\": {\"color\": \"#000000\"}, \"showarrow\": false, \"text\": \"0.02\", \"x\": \"Total_Trans_Amt\", \"xref\": \"x\", \"y\": \"Income_Category\", \"yref\": \"y\"}, {\"font\": {\"color\": \"#FFFFFF\"}, \"showarrow\": false, \"text\": \"-0.05\", \"x\": \"Total_Trans_Ct\", \"xref\": \"x\", \"y\": \"Income_Category\", \"yref\": \"y\"}, {\"font\": {\"color\": \"#FFFFFF\"}, \"showarrow\": false, \"text\": \"-0.01\", \"x\": \"Total_Ct_Chng_Q4_Q1\", \"xref\": \"x\", \"y\": \"Income_Category\", \"yref\": \"y\"}, {\"font\": {\"color\": \"#FFFFFF\"}, \"showarrow\": false, \"text\": \"-0.29\", \"x\": \"Avg_Utilization_Ratio\", \"xref\": \"x\", \"y\": \"Income_Category\", \"yref\": \"y\"}, {\"font\": {\"color\": \"#FFFFFF\"}, \"showarrow\": false, \"text\": \"-0.79\", \"x\": \"Gender_F\", \"xref\": \"x\", \"y\": \"Income_Category\", \"yref\": \"y\"}, {\"font\": {\"color\": \"#000000\"}, \"showarrow\": false, \"text\": \"0.79\", \"x\": \"Gender_M\", \"xref\": \"x\", \"y\": \"Income_Category\", \"yref\": \"y\"}, {\"font\": {\"color\": \"#000000\"}, \"showarrow\": false, \"text\": \"0.0\", \"x\": \"Attrition_Flag\", \"xref\": \"x\", \"y\": \"Card_Category\", \"yref\": \"y\"}, {\"font\": {\"color\": \"#FFFFFF\"}, \"showarrow\": false, \"text\": \"-0.02\", \"x\": \"Customer_Age\", \"xref\": \"x\", \"y\": \"Card_Category\", \"yref\": \"y\"}, {\"font\": {\"color\": \"#000000\"}, \"showarrow\": false, \"text\": \"0.03\", \"x\": \"Dependent_count\", \"xref\": \"x\", \"y\": \"Card_Category\", \"yref\": \"y\"}, {\"font\": {\"color\": \"#000000\"}, \"showarrow\": false, \"text\": \"0.02\", \"x\": \"Education_Level\", \"xref\": \"x\", \"y\": \"Card_Category\", \"yref\": \"y\"}, {\"font\": {\"color\": \"#FFFFFF\"}, \"showarrow\": false, \"text\": \"-0.05\", \"x\": \"Marital_Status\", \"xref\": \"x\", \"y\": \"Card_Category\", \"yref\": \"y\"}, {\"font\": {\"color\": \"#000000\"}, \"showarrow\": false, \"text\": \"0.08\", \"x\": \"Income_Category\", \"xref\": \"x\", \"y\": \"Card_Category\", \"yref\": \"y\"}, {\"font\": {\"color\": \"#000000\"}, \"showarrow\": false, \"text\": \"1.0\", \"x\": \"Card_Category\", \"xref\": \"x\", \"y\": \"Card_Category\", \"yref\": \"y\"}, {\"font\": {\"color\": \"#FFFFFF\"}, \"showarrow\": false, \"text\": \"-0.01\", \"x\": \"Months_on_book\", \"xref\": \"x\", \"y\": \"Card_Category\", \"yref\": \"y\"}, {\"font\": {\"color\": \"#FFFFFF\"}, \"showarrow\": false, \"text\": \"-0.09\", \"x\": \"Total_Relationship_Count\", \"xref\": \"x\", \"y\": \"Card_Category\", \"yref\": \"y\"}, {\"font\": {\"color\": \"#FFFFFF\"}, \"showarrow\": false, \"text\": \"-0.01\", \"x\": \"Months_Inactive_12_mon\", \"xref\": \"x\", \"y\": \"Card_Category\", \"yref\": \"y\"}, {\"font\": {\"color\": \"#FFFFFF\"}, \"showarrow\": false, \"text\": \"-0.0\", \"x\": \"Contacts_Count_12_mon\", \"xref\": \"x\", \"y\": \"Card_Category\", \"yref\": \"y\"}, {\"font\": {\"color\": \"#000000\"}, \"showarrow\": false, \"text\": \"0.49\", \"x\": \"Credit_Limit\", \"xref\": \"x\", \"y\": \"Card_Category\", \"yref\": \"y\"}, {\"font\": {\"color\": \"#000000\"}, \"showarrow\": false, \"text\": \"0.03\", \"x\": \"Total_Revolving_Bal\", \"xref\": \"x\", \"y\": \"Card_Category\", \"yref\": \"y\"}, {\"font\": {\"color\": \"#000000\"}, \"showarrow\": false, \"text\": \"0.49\", \"x\": \"Avg_Open_To_Buy\", \"xref\": \"x\", \"y\": \"Card_Category\", \"yref\": \"y\"}, {\"font\": {\"color\": \"#000000\"}, \"showarrow\": false, \"text\": \"0.01\", \"x\": \"Total_Amt_Chng_Q4_Q1\", \"xref\": \"x\", \"y\": \"Card_Category\", \"yref\": \"y\"}, {\"font\": {\"color\": \"#000000\"}, \"showarrow\": false, \"text\": \"0.2\", \"x\": \"Total_Trans_Amt\", \"xref\": \"x\", \"y\": \"Card_Category\", \"yref\": \"y\"}, {\"font\": {\"color\": \"#000000\"}, \"showarrow\": false, \"text\": \"0.13\", \"x\": \"Total_Trans_Ct\", \"xref\": \"x\", \"y\": \"Card_Category\", \"yref\": \"y\"}, {\"font\": {\"color\": \"#FFFFFF\"}, \"showarrow\": false, \"text\": \"-0.01\", \"x\": \"Total_Ct_Chng_Q4_Q1\", \"xref\": \"x\", \"y\": \"Card_Category\", \"yref\": \"y\"}, {\"font\": {\"color\": \"#FFFFFF\"}, \"showarrow\": false, \"text\": \"-0.2\", \"x\": \"Avg_Utilization_Ratio\", \"xref\": \"x\", \"y\": \"Card_Category\", \"yref\": \"y\"}, {\"font\": {\"color\": \"#FFFFFF\"}, \"showarrow\": false, \"text\": \"-0.08\", \"x\": \"Gender_F\", \"xref\": \"x\", \"y\": \"Card_Category\", \"yref\": \"y\"}, {\"font\": {\"color\": \"#000000\"}, \"showarrow\": false, \"text\": \"0.08\", \"x\": \"Gender_M\", \"xref\": \"x\", \"y\": \"Card_Category\", \"yref\": \"y\"}, {\"font\": {\"color\": \"#000000\"}, \"showarrow\": false, \"text\": \"0.01\", \"x\": \"Attrition_Flag\", \"xref\": \"x\", \"y\": \"Months_on_book\", \"yref\": \"y\"}, {\"font\": {\"color\": \"#000000\"}, \"showarrow\": false, \"text\": \"0.79\", \"x\": \"Customer_Age\", \"xref\": \"x\", \"y\": \"Months_on_book\", \"yref\": \"y\"}, {\"font\": {\"color\": \"#FFFFFF\"}, \"showarrow\": false, \"text\": \"-0.1\", \"x\": \"Dependent_count\", \"xref\": \"x\", \"y\": \"Months_on_book\", \"yref\": \"y\"}, {\"font\": {\"color\": \"#000000\"}, \"showarrow\": false, \"text\": \"0.01\", \"x\": \"Education_Level\", \"xref\": \"x\", \"y\": \"Months_on_book\", \"yref\": \"y\"}, {\"font\": {\"color\": \"#000000\"}, \"showarrow\": false, \"text\": \"0.03\", \"x\": \"Marital_Status\", \"xref\": \"x\", \"y\": \"Months_on_book\", \"yref\": \"y\"}, {\"font\": {\"color\": \"#000000\"}, \"showarrow\": false, \"text\": \"0.02\", \"x\": \"Income_Category\", \"xref\": \"x\", \"y\": \"Months_on_book\", \"yref\": \"y\"}, {\"font\": {\"color\": \"#FFFFFF\"}, \"showarrow\": false, \"text\": \"-0.01\", \"x\": \"Card_Category\", \"xref\": \"x\", \"y\": \"Months_on_book\", \"yref\": \"y\"}, {\"font\": {\"color\": \"#000000\"}, \"showarrow\": false, \"text\": \"1.0\", \"x\": \"Months_on_book\", \"xref\": \"x\", \"y\": \"Months_on_book\", \"yref\": \"y\"}, {\"font\": {\"color\": \"#FFFFFF\"}, \"showarrow\": false, \"text\": \"-0.01\", \"x\": \"Total_Relationship_Count\", \"xref\": \"x\", \"y\": \"Months_on_book\", \"yref\": \"y\"}, {\"font\": {\"color\": \"#000000\"}, \"showarrow\": false, \"text\": \"0.07\", \"x\": \"Months_Inactive_12_mon\", \"xref\": \"x\", \"y\": \"Months_on_book\", \"yref\": \"y\"}, {\"font\": {\"color\": \"#FFFFFF\"}, \"showarrow\": false, \"text\": \"-0.01\", \"x\": \"Contacts_Count_12_mon\", \"xref\": \"x\", \"y\": \"Months_on_book\", \"yref\": \"y\"}, {\"font\": {\"color\": \"#000000\"}, \"showarrow\": false, \"text\": \"0.01\", \"x\": \"Credit_Limit\", \"xref\": \"x\", \"y\": \"Months_on_book\", \"yref\": \"y\"}, {\"font\": {\"color\": \"#000000\"}, \"showarrow\": false, \"text\": \"0.01\", \"x\": \"Total_Revolving_Bal\", \"xref\": \"x\", \"y\": \"Months_on_book\", \"yref\": \"y\"}, {\"font\": {\"color\": \"#000000\"}, \"showarrow\": false, \"text\": \"0.01\", \"x\": \"Avg_Open_To_Buy\", \"xref\": \"x\", \"y\": \"Months_on_book\", \"yref\": \"y\"}, {\"font\": {\"color\": \"#FFFFFF\"}, \"showarrow\": false, \"text\": \"-0.05\", \"x\": \"Total_Amt_Chng_Q4_Q1\", \"xref\": \"x\", \"y\": \"Months_on_book\", \"yref\": \"y\"}, {\"font\": {\"color\": \"#FFFFFF\"}, \"showarrow\": false, \"text\": \"-0.04\", \"x\": \"Total_Trans_Amt\", \"xref\": \"x\", \"y\": \"Months_on_book\", \"yref\": \"y\"}, {\"font\": {\"color\": \"#FFFFFF\"}, \"showarrow\": false, \"text\": \"-0.05\", \"x\": \"Total_Trans_Ct\", \"xref\": \"x\", \"y\": \"Months_on_book\", \"yref\": \"y\"}, {\"font\": {\"color\": \"#FFFFFF\"}, \"showarrow\": false, \"text\": \"-0.01\", \"x\": \"Total_Ct_Chng_Q4_Q1\", \"xref\": \"x\", \"y\": \"Months_on_book\", \"yref\": \"y\"}, {\"font\": {\"color\": \"#FFFFFF\"}, \"showarrow\": false, \"text\": \"-0.01\", \"x\": \"Avg_Utilization_Ratio\", \"xref\": \"x\", \"y\": \"Months_on_book\", \"yref\": \"y\"}, {\"font\": {\"color\": \"#000000\"}, \"showarrow\": false, \"text\": \"0.01\", \"x\": \"Gender_F\", \"xref\": \"x\", \"y\": \"Months_on_book\", \"yref\": \"y\"}, {\"font\": {\"color\": \"#FFFFFF\"}, \"showarrow\": false, \"text\": \"-0.01\", \"x\": \"Gender_M\", \"xref\": \"x\", \"y\": \"Months_on_book\", \"yref\": \"y\"}, {\"font\": {\"color\": \"#FFFFFF\"}, \"showarrow\": false, \"text\": \"-0.15\", \"x\": \"Attrition_Flag\", \"xref\": \"x\", \"y\": \"Total_Relationship_Count\", \"yref\": \"y\"}, {\"font\": {\"color\": \"#FFFFFF\"}, \"showarrow\": false, \"text\": \"-0.01\", \"x\": \"Customer_Age\", \"xref\": \"x\", \"y\": \"Total_Relationship_Count\", \"yref\": \"y\"}, {\"font\": {\"color\": \"#FFFFFF\"}, \"showarrow\": false, \"text\": \"-0.04\", \"x\": \"Dependent_count\", \"xref\": \"x\", \"y\": \"Total_Relationship_Count\", \"yref\": \"y\"}, {\"font\": {\"color\": \"#FFFFFF\"}, \"showarrow\": false, \"text\": \"-0.0\", \"x\": \"Education_Level\", \"xref\": \"x\", \"y\": \"Total_Relationship_Count\", \"yref\": \"y\"}, {\"font\": {\"color\": \"#000000\"}, \"showarrow\": false, \"text\": \"0.02\", \"x\": \"Marital_Status\", \"xref\": \"x\", \"y\": \"Total_Relationship_Count\", \"yref\": \"y\"}, {\"font\": {\"color\": \"#FFFFFF\"}, \"showarrow\": false, \"text\": \"-0.0\", \"x\": \"Income_Category\", \"xref\": \"x\", \"y\": \"Total_Relationship_Count\", \"yref\": \"y\"}, {\"font\": {\"color\": \"#FFFFFF\"}, \"showarrow\": false, \"text\": \"-0.09\", \"x\": \"Card_Category\", \"xref\": \"x\", \"y\": \"Total_Relationship_Count\", \"yref\": \"y\"}, {\"font\": {\"color\": \"#FFFFFF\"}, \"showarrow\": false, \"text\": \"-0.01\", \"x\": \"Months_on_book\", \"xref\": \"x\", \"y\": \"Total_Relationship_Count\", \"yref\": \"y\"}, {\"font\": {\"color\": \"#000000\"}, \"showarrow\": false, \"text\": \"1.0\", \"x\": \"Total_Relationship_Count\", \"xref\": \"x\", \"y\": \"Total_Relationship_Count\", \"yref\": \"y\"}, {\"font\": {\"color\": \"#FFFFFF\"}, \"showarrow\": false, \"text\": \"-0.0\", \"x\": \"Months_Inactive_12_mon\", \"xref\": \"x\", \"y\": \"Total_Relationship_Count\", \"yref\": \"y\"}, {\"font\": {\"color\": \"#000000\"}, \"showarrow\": false, \"text\": \"0.06\", \"x\": \"Contacts_Count_12_mon\", \"xref\": \"x\", \"y\": \"Total_Relationship_Count\", \"yref\": \"y\"}, {\"font\": {\"color\": \"#FFFFFF\"}, \"showarrow\": false, \"text\": \"-0.07\", \"x\": \"Credit_Limit\", \"xref\": \"x\", \"y\": \"Total_Relationship_Count\", \"yref\": \"y\"}, {\"font\": {\"color\": \"#000000\"}, \"showarrow\": false, \"text\": \"0.01\", \"x\": \"Total_Revolving_Bal\", \"xref\": \"x\", \"y\": \"Total_Relationship_Count\", \"yref\": \"y\"}, {\"font\": {\"color\": \"#FFFFFF\"}, \"showarrow\": false, \"text\": \"-0.07\", \"x\": \"Avg_Open_To_Buy\", \"xref\": \"x\", \"y\": \"Total_Relationship_Count\", \"yref\": \"y\"}, {\"font\": {\"color\": \"#000000\"}, \"showarrow\": false, \"text\": \"0.05\", \"x\": \"Total_Amt_Chng_Q4_Q1\", \"xref\": \"x\", \"y\": \"Total_Relationship_Count\", \"yref\": \"y\"}, {\"font\": {\"color\": \"#FFFFFF\"}, \"showarrow\": false, \"text\": \"-0.35\", \"x\": \"Total_Trans_Amt\", \"xref\": \"x\", \"y\": \"Total_Relationship_Count\", \"yref\": \"y\"}, {\"font\": {\"color\": \"#FFFFFF\"}, \"showarrow\": false, \"text\": \"-0.24\", \"x\": \"Total_Trans_Ct\", \"xref\": \"x\", \"y\": \"Total_Relationship_Count\", \"yref\": \"y\"}, {\"font\": {\"color\": \"#000000\"}, \"showarrow\": false, \"text\": \"0.04\", \"x\": \"Total_Ct_Chng_Q4_Q1\", \"xref\": \"x\", \"y\": \"Total_Relationship_Count\", \"yref\": \"y\"}, {\"font\": {\"color\": \"#000000\"}, \"showarrow\": false, \"text\": \"0.07\", \"x\": \"Avg_Utilization_Ratio\", \"xref\": \"x\", \"y\": \"Total_Relationship_Count\", \"yref\": \"y\"}, {\"font\": {\"color\": \"#FFFFFF\"}, \"showarrow\": false, \"text\": \"-0.0\", \"x\": \"Gender_F\", \"xref\": \"x\", \"y\": \"Total_Relationship_Count\", \"yref\": \"y\"}, {\"font\": {\"color\": \"#000000\"}, \"showarrow\": false, \"text\": \"0.0\", \"x\": \"Gender_M\", \"xref\": \"x\", \"y\": \"Total_Relationship_Count\", \"yref\": \"y\"}, {\"font\": {\"color\": \"#000000\"}, \"showarrow\": false, \"text\": \"0.15\", \"x\": \"Attrition_Flag\", \"xref\": \"x\", \"y\": \"Months_Inactive_12_mon\", \"yref\": \"y\"}, {\"font\": {\"color\": \"#000000\"}, \"showarrow\": false, \"text\": \"0.05\", \"x\": \"Customer_Age\", \"xref\": \"x\", \"y\": \"Months_Inactive_12_mon\", \"yref\": \"y\"}, {\"font\": {\"color\": \"#FFFFFF\"}, \"showarrow\": false, \"text\": \"-0.01\", \"x\": \"Dependent_count\", \"xref\": \"x\", \"y\": \"Months_Inactive_12_mon\", \"yref\": \"y\"}, {\"font\": {\"color\": \"#000000\"}, \"showarrow\": false, \"text\": \"0.0\", \"x\": \"Education_Level\", \"xref\": \"x\", \"y\": \"Months_Inactive_12_mon\", \"yref\": \"y\"}, {\"font\": {\"color\": \"#FFFFFF\"}, \"showarrow\": false, \"text\": \"-0.01\", \"x\": \"Marital_Status\", \"xref\": \"x\", \"y\": \"Months_Inactive_12_mon\", \"yref\": \"y\"}, {\"font\": {\"color\": \"#FFFFFF\"}, \"showarrow\": false, \"text\": \"-0.02\", \"x\": \"Income_Category\", \"xref\": \"x\", \"y\": \"Months_Inactive_12_mon\", \"yref\": \"y\"}, {\"font\": {\"color\": \"#FFFFFF\"}, \"showarrow\": false, \"text\": \"-0.01\", \"x\": \"Card_Category\", \"xref\": \"x\", \"y\": \"Months_Inactive_12_mon\", \"yref\": \"y\"}, {\"font\": {\"color\": \"#000000\"}, \"showarrow\": false, \"text\": \"0.07\", \"x\": \"Months_on_book\", \"xref\": \"x\", \"y\": \"Months_Inactive_12_mon\", \"yref\": \"y\"}, {\"font\": {\"color\": \"#FFFFFF\"}, \"showarrow\": false, \"text\": \"-0.0\", \"x\": \"Total_Relationship_Count\", \"xref\": \"x\", \"y\": \"Months_Inactive_12_mon\", \"yref\": \"y\"}, {\"font\": {\"color\": \"#000000\"}, \"showarrow\": false, \"text\": \"1.0\", \"x\": \"Months_Inactive_12_mon\", \"xref\": \"x\", \"y\": \"Months_Inactive_12_mon\", \"yref\": \"y\"}, {\"font\": {\"color\": \"#000000\"}, \"showarrow\": false, \"text\": \"0.03\", \"x\": \"Contacts_Count_12_mon\", \"xref\": \"x\", \"y\": \"Months_Inactive_12_mon\", \"yref\": \"y\"}, {\"font\": {\"color\": \"#FFFFFF\"}, \"showarrow\": false, \"text\": \"-0.02\", \"x\": \"Credit_Limit\", \"xref\": \"x\", \"y\": \"Months_Inactive_12_mon\", \"yref\": \"y\"}, {\"font\": {\"color\": \"#FFFFFF\"}, \"showarrow\": false, \"text\": \"-0.04\", \"x\": \"Total_Revolving_Bal\", \"xref\": \"x\", \"y\": \"Months_Inactive_12_mon\", \"yref\": \"y\"}, {\"font\": {\"color\": \"#FFFFFF\"}, \"showarrow\": false, \"text\": \"-0.02\", \"x\": \"Avg_Open_To_Buy\", \"xref\": \"x\", \"y\": \"Months_Inactive_12_mon\", \"yref\": \"y\"}, {\"font\": {\"color\": \"#FFFFFF\"}, \"showarrow\": false, \"text\": \"-0.03\", \"x\": \"Total_Amt_Chng_Q4_Q1\", \"xref\": \"x\", \"y\": \"Months_Inactive_12_mon\", \"yref\": \"y\"}, {\"font\": {\"color\": \"#FFFFFF\"}, \"showarrow\": false, \"text\": \"-0.04\", \"x\": \"Total_Trans_Amt\", \"xref\": \"x\", \"y\": \"Months_Inactive_12_mon\", \"yref\": \"y\"}, {\"font\": {\"color\": \"#FFFFFF\"}, \"showarrow\": false, \"text\": \"-0.04\", \"x\": \"Total_Trans_Ct\", \"xref\": \"x\", \"y\": \"Months_Inactive_12_mon\", \"yref\": \"y\"}, {\"font\": {\"color\": \"#FFFFFF\"}, \"showarrow\": false, \"text\": \"-0.04\", \"x\": \"Total_Ct_Chng_Q4_Q1\", \"xref\": \"x\", \"y\": \"Months_Inactive_12_mon\", \"yref\": \"y\"}, {\"font\": {\"color\": \"#FFFFFF\"}, \"showarrow\": false, \"text\": \"-0.01\", \"x\": \"Avg_Utilization_Ratio\", \"xref\": \"x\", \"y\": \"Months_Inactive_12_mon\", \"yref\": \"y\"}, {\"font\": {\"color\": \"#000000\"}, \"showarrow\": false, \"text\": \"0.01\", \"x\": \"Gender_F\", \"xref\": \"x\", \"y\": \"Months_Inactive_12_mon\", \"yref\": \"y\"}, {\"font\": {\"color\": \"#FFFFFF\"}, \"showarrow\": false, \"text\": \"-0.01\", \"x\": \"Gender_M\", \"xref\": \"x\", \"y\": \"Months_Inactive_12_mon\", \"yref\": \"y\"}, {\"font\": {\"color\": \"#000000\"}, \"showarrow\": false, \"text\": \"0.2\", \"x\": \"Attrition_Flag\", \"xref\": \"x\", \"y\": \"Contacts_Count_12_mon\", \"yref\": \"y\"}, {\"font\": {\"color\": \"#FFFFFF\"}, \"showarrow\": false, \"text\": \"-0.02\", \"x\": \"Customer_Age\", \"xref\": \"x\", \"y\": \"Contacts_Count_12_mon\", \"yref\": \"y\"}, {\"font\": {\"color\": \"#FFFFFF\"}, \"showarrow\": false, \"text\": \"-0.04\", \"x\": \"Dependent_count\", \"xref\": \"x\", \"y\": \"Contacts_Count_12_mon\", \"yref\": \"y\"}, {\"font\": {\"color\": \"#FFFFFF\"}, \"showarrow\": false, \"text\": \"-0.01\", \"x\": \"Education_Level\", \"xref\": \"x\", \"y\": \"Contacts_Count_12_mon\", \"yref\": \"y\"}, {\"font\": {\"color\": \"#000000\"}, \"showarrow\": false, \"text\": \"0.0\", \"x\": \"Marital_Status\", \"xref\": \"x\", \"y\": \"Contacts_Count_12_mon\", \"yref\": \"y\"}, {\"font\": {\"color\": \"#000000\"}, \"showarrow\": false, \"text\": \"0.03\", \"x\": \"Income_Category\", \"xref\": \"x\", \"y\": \"Contacts_Count_12_mon\", \"yref\": \"y\"}, {\"font\": {\"color\": \"#FFFFFF\"}, \"showarrow\": false, \"text\": \"-0.0\", \"x\": \"Card_Category\", \"xref\": \"x\", \"y\": \"Contacts_Count_12_mon\", \"yref\": \"y\"}, {\"font\": {\"color\": \"#FFFFFF\"}, \"showarrow\": false, \"text\": \"-0.01\", \"x\": \"Months_on_book\", \"xref\": \"x\", \"y\": \"Contacts_Count_12_mon\", \"yref\": \"y\"}, {\"font\": {\"color\": \"#000000\"}, \"showarrow\": false, \"text\": \"0.06\", \"x\": \"Total_Relationship_Count\", \"xref\": \"x\", \"y\": \"Contacts_Count_12_mon\", \"yref\": \"y\"}, {\"font\": {\"color\": \"#000000\"}, \"showarrow\": false, \"text\": \"0.03\", \"x\": \"Months_Inactive_12_mon\", \"xref\": \"x\", \"y\": \"Contacts_Count_12_mon\", \"yref\": \"y\"}, {\"font\": {\"color\": \"#000000\"}, \"showarrow\": false, \"text\": \"1.0\", \"x\": \"Contacts_Count_12_mon\", \"xref\": \"x\", \"y\": \"Contacts_Count_12_mon\", \"yref\": \"y\"}, {\"font\": {\"color\": \"#000000\"}, \"showarrow\": false, \"text\": \"0.02\", \"x\": \"Credit_Limit\", \"xref\": \"x\", \"y\": \"Contacts_Count_12_mon\", \"yref\": \"y\"}, {\"font\": {\"color\": \"#FFFFFF\"}, \"showarrow\": false, \"text\": \"-0.05\", \"x\": \"Total_Revolving_Bal\", \"xref\": \"x\", \"y\": \"Contacts_Count_12_mon\", \"yref\": \"y\"}, {\"font\": {\"color\": \"#000000\"}, \"showarrow\": false, \"text\": \"0.03\", \"x\": \"Avg_Open_To_Buy\", \"xref\": \"x\", \"y\": \"Contacts_Count_12_mon\", \"yref\": \"y\"}, {\"font\": {\"color\": \"#FFFFFF\"}, \"showarrow\": false, \"text\": \"-0.02\", \"x\": \"Total_Amt_Chng_Q4_Q1\", \"xref\": \"x\", \"y\": \"Contacts_Count_12_mon\", \"yref\": \"y\"}, {\"font\": {\"color\": \"#FFFFFF\"}, \"showarrow\": false, \"text\": \"-0.11\", \"x\": \"Total_Trans_Amt\", \"xref\": \"x\", \"y\": \"Contacts_Count_12_mon\", \"yref\": \"y\"}, {\"font\": {\"color\": \"#FFFFFF\"}, \"showarrow\": false, \"text\": \"-0.15\", \"x\": \"Total_Trans_Ct\", \"xref\": \"x\", \"y\": \"Contacts_Count_12_mon\", \"yref\": \"y\"}, {\"font\": {\"color\": \"#FFFFFF\"}, \"showarrow\": false, \"text\": \"-0.09\", \"x\": \"Total_Ct_Chng_Q4_Q1\", \"xref\": \"x\", \"y\": \"Contacts_Count_12_mon\", \"yref\": \"y\"}, {\"font\": {\"color\": \"#FFFFFF\"}, \"showarrow\": false, \"text\": \"-0.06\", \"x\": \"Avg_Utilization_Ratio\", \"xref\": \"x\", \"y\": \"Contacts_Count_12_mon\", \"yref\": \"y\"}, {\"font\": {\"color\": \"#FFFFFF\"}, \"showarrow\": false, \"text\": \"-0.04\", \"x\": \"Gender_F\", \"xref\": \"x\", \"y\": \"Contacts_Count_12_mon\", \"yref\": \"y\"}, {\"font\": {\"color\": \"#000000\"}, \"showarrow\": false, \"text\": \"0.04\", \"x\": \"Gender_M\", \"xref\": \"x\", \"y\": \"Contacts_Count_12_mon\", \"yref\": \"y\"}, {\"font\": {\"color\": \"#FFFFFF\"}, \"showarrow\": false, \"text\": \"-0.02\", \"x\": \"Attrition_Flag\", \"xref\": \"x\", \"y\": \"Credit_Limit\", \"yref\": \"y\"}, {\"font\": {\"color\": \"#000000\"}, \"showarrow\": false, \"text\": \"0.0\", \"x\": \"Customer_Age\", \"xref\": \"x\", \"y\": \"Credit_Limit\", \"yref\": \"y\"}, {\"font\": {\"color\": \"#000000\"}, \"showarrow\": false, \"text\": \"0.07\", \"x\": \"Dependent_count\", \"xref\": \"x\", \"y\": \"Credit_Limit\", \"yref\": \"y\"}, {\"font\": {\"color\": \"#FFFFFF\"}, \"showarrow\": false, \"text\": \"-0.0\", \"x\": \"Education_Level\", \"xref\": \"x\", \"y\": \"Credit_Limit\", \"yref\": \"y\"}, {\"font\": {\"color\": \"#FFFFFF\"}, \"showarrow\": false, \"text\": \"-0.06\", \"x\": \"Marital_Status\", \"xref\": \"x\", \"y\": \"Credit_Limit\", \"yref\": \"y\"}, {\"font\": {\"color\": \"#000000\"}, \"showarrow\": false, \"text\": \"0.53\", \"x\": \"Income_Category\", \"xref\": \"x\", \"y\": \"Credit_Limit\", \"yref\": \"y\"}, {\"font\": {\"color\": \"#000000\"}, \"showarrow\": false, \"text\": \"0.49\", \"x\": \"Card_Category\", \"xref\": \"x\", \"y\": \"Credit_Limit\", \"yref\": \"y\"}, {\"font\": {\"color\": \"#000000\"}, \"showarrow\": false, \"text\": \"0.01\", \"x\": \"Months_on_book\", \"xref\": \"x\", \"y\": \"Credit_Limit\", \"yref\": \"y\"}, {\"font\": {\"color\": \"#FFFFFF\"}, \"showarrow\": false, \"text\": \"-0.07\", \"x\": \"Total_Relationship_Count\", \"xref\": \"x\", \"y\": \"Credit_Limit\", \"yref\": \"y\"}, {\"font\": {\"color\": \"#FFFFFF\"}, \"showarrow\": false, \"text\": \"-0.02\", \"x\": \"Months_Inactive_12_mon\", \"xref\": \"x\", \"y\": \"Credit_Limit\", \"yref\": \"y\"}, {\"font\": {\"color\": \"#000000\"}, \"showarrow\": false, \"text\": \"0.02\", \"x\": \"Contacts_Count_12_mon\", \"xref\": \"x\", \"y\": \"Credit_Limit\", \"yref\": \"y\"}, {\"font\": {\"color\": \"#000000\"}, \"showarrow\": false, \"text\": \"1.0\", \"x\": \"Credit_Limit\", \"xref\": \"x\", \"y\": \"Credit_Limit\", \"yref\": \"y\"}, {\"font\": {\"color\": \"#000000\"}, \"showarrow\": false, \"text\": \"0.04\", \"x\": \"Total_Revolving_Bal\", \"xref\": \"x\", \"y\": \"Credit_Limit\", \"yref\": \"y\"}, {\"font\": {\"color\": \"#000000\"}, \"showarrow\": false, \"text\": \"1.0\", \"x\": \"Avg_Open_To_Buy\", \"xref\": \"x\", \"y\": \"Credit_Limit\", \"yref\": \"y\"}, {\"font\": {\"color\": \"#000000\"}, \"showarrow\": false, \"text\": \"0.01\", \"x\": \"Total_Amt_Chng_Q4_Q1\", \"xref\": \"x\", \"y\": \"Credit_Limit\", \"yref\": \"y\"}, {\"font\": {\"color\": \"#000000\"}, \"showarrow\": false, \"text\": \"0.17\", \"x\": \"Total_Trans_Amt\", \"xref\": \"x\", \"y\": \"Credit_Limit\", \"yref\": \"y\"}, {\"font\": {\"color\": \"#000000\"}, \"showarrow\": false, \"text\": \"0.08\", \"x\": \"Total_Trans_Ct\", \"xref\": \"x\", \"y\": \"Credit_Limit\", \"yref\": \"y\"}, {\"font\": {\"color\": \"#FFFFFF\"}, \"showarrow\": false, \"text\": \"-0.0\", \"x\": \"Total_Ct_Chng_Q4_Q1\", \"xref\": \"x\", \"y\": \"Credit_Limit\", \"yref\": \"y\"}, {\"font\": {\"color\": \"#FFFFFF\"}, \"showarrow\": false, \"text\": \"-0.48\", \"x\": \"Avg_Utilization_Ratio\", \"xref\": \"x\", \"y\": \"Credit_Limit\", \"yref\": \"y\"}, {\"font\": {\"color\": \"#FFFFFF\"}, \"showarrow\": false, \"text\": \"-0.42\", \"x\": \"Gender_F\", \"xref\": \"x\", \"y\": \"Credit_Limit\", \"yref\": \"y\"}, {\"font\": {\"color\": \"#000000\"}, \"showarrow\": false, \"text\": \"0.42\", \"x\": \"Gender_M\", \"xref\": \"x\", \"y\": \"Credit_Limit\", \"yref\": \"y\"}, {\"font\": {\"color\": \"#FFFFFF\"}, \"showarrow\": false, \"text\": \"-0.26\", \"x\": \"Attrition_Flag\", \"xref\": \"x\", \"y\": \"Total_Revolving_Bal\", \"yref\": \"y\"}, {\"font\": {\"color\": \"#000000\"}, \"showarrow\": false, \"text\": \"0.01\", \"x\": \"Customer_Age\", \"xref\": \"x\", \"y\": \"Total_Revolving_Bal\", \"yref\": \"y\"}, {\"font\": {\"color\": \"#FFFFFF\"}, \"showarrow\": false, \"text\": \"-0.0\", \"x\": \"Dependent_count\", \"xref\": \"x\", \"y\": \"Total_Revolving_Bal\", \"yref\": \"y\"}, {\"font\": {\"color\": \"#FFFFFF\"}, \"showarrow\": false, \"text\": \"-0.01\", \"x\": \"Education_Level\", \"xref\": \"x\", \"y\": \"Total_Revolving_Bal\", \"yref\": \"y\"}, {\"font\": {\"color\": \"#000000\"}, \"showarrow\": false, \"text\": \"0.04\", \"x\": \"Marital_Status\", \"xref\": \"x\", \"y\": \"Total_Revolving_Bal\", \"yref\": \"y\"}, {\"font\": {\"color\": \"#000000\"}, \"showarrow\": false, \"text\": \"0.03\", \"x\": \"Income_Category\", \"xref\": \"x\", \"y\": \"Total_Revolving_Bal\", \"yref\": \"y\"}, {\"font\": {\"color\": \"#000000\"}, \"showarrow\": false, \"text\": \"0.03\", \"x\": \"Card_Category\", \"xref\": \"x\", \"y\": \"Total_Revolving_Bal\", \"yref\": \"y\"}, {\"font\": {\"color\": \"#000000\"}, \"showarrow\": false, \"text\": \"0.01\", \"x\": \"Months_on_book\", \"xref\": \"x\", \"y\": \"Total_Revolving_Bal\", \"yref\": \"y\"}, {\"font\": {\"color\": \"#000000\"}, \"showarrow\": false, \"text\": \"0.01\", \"x\": \"Total_Relationship_Count\", \"xref\": \"x\", \"y\": \"Total_Revolving_Bal\", \"yref\": \"y\"}, {\"font\": {\"color\": \"#FFFFFF\"}, \"showarrow\": false, \"text\": \"-0.04\", \"x\": \"Months_Inactive_12_mon\", \"xref\": \"x\", \"y\": \"Total_Revolving_Bal\", \"yref\": \"y\"}, {\"font\": {\"color\": \"#FFFFFF\"}, \"showarrow\": false, \"text\": \"-0.05\", \"x\": \"Contacts_Count_12_mon\", \"xref\": \"x\", \"y\": \"Total_Revolving_Bal\", \"yref\": \"y\"}, {\"font\": {\"color\": \"#000000\"}, \"showarrow\": false, \"text\": \"0.04\", \"x\": \"Credit_Limit\", \"xref\": \"x\", \"y\": \"Total_Revolving_Bal\", \"yref\": \"y\"}, {\"font\": {\"color\": \"#000000\"}, \"showarrow\": false, \"text\": \"1.0\", \"x\": \"Total_Revolving_Bal\", \"xref\": \"x\", \"y\": \"Total_Revolving_Bal\", \"yref\": \"y\"}, {\"font\": {\"color\": \"#FFFFFF\"}, \"showarrow\": false, \"text\": \"-0.05\", \"x\": \"Avg_Open_To_Buy\", \"xref\": \"x\", \"y\": \"Total_Revolving_Bal\", \"yref\": \"y\"}, {\"font\": {\"color\": \"#000000\"}, \"showarrow\": false, \"text\": \"0.06\", \"x\": \"Total_Amt_Chng_Q4_Q1\", \"xref\": \"x\", \"y\": \"Total_Revolving_Bal\", \"yref\": \"y\"}, {\"font\": {\"color\": \"#000000\"}, \"showarrow\": false, \"text\": \"0.06\", \"x\": \"Total_Trans_Amt\", \"xref\": \"x\", \"y\": \"Total_Revolving_Bal\", \"yref\": \"y\"}, {\"font\": {\"color\": \"#000000\"}, \"showarrow\": false, \"text\": \"0.06\", \"x\": \"Total_Trans_Ct\", \"xref\": \"x\", \"y\": \"Total_Revolving_Bal\", \"yref\": \"y\"}, {\"font\": {\"color\": \"#000000\"}, \"showarrow\": false, \"text\": \"0.09\", \"x\": \"Total_Ct_Chng_Q4_Q1\", \"xref\": \"x\", \"y\": \"Total_Revolving_Bal\", \"yref\": \"y\"}, {\"font\": {\"color\": \"#000000\"}, \"showarrow\": false, \"text\": \"0.62\", \"x\": \"Avg_Utilization_Ratio\", \"xref\": \"x\", \"y\": \"Total_Revolving_Bal\", \"yref\": \"y\"}, {\"font\": {\"color\": \"#FFFFFF\"}, \"showarrow\": false, \"text\": \"-0.03\", \"x\": \"Gender_F\", \"xref\": \"x\", \"y\": \"Total_Revolving_Bal\", \"yref\": \"y\"}, {\"font\": {\"color\": \"#000000\"}, \"showarrow\": false, \"text\": \"0.03\", \"x\": \"Gender_M\", \"xref\": \"x\", \"y\": \"Total_Revolving_Bal\", \"yref\": \"y\"}, {\"font\": {\"color\": \"#FFFFFF\"}, \"showarrow\": false, \"text\": \"-0.0\", \"x\": \"Attrition_Flag\", \"xref\": \"x\", \"y\": \"Avg_Open_To_Buy\", \"yref\": \"y\"}, {\"font\": {\"color\": \"#000000\"}, \"showarrow\": false, \"text\": \"0.0\", \"x\": \"Customer_Age\", \"xref\": \"x\", \"y\": \"Avg_Open_To_Buy\", \"yref\": \"y\"}, {\"font\": {\"color\": \"#000000\"}, \"showarrow\": false, \"text\": \"0.07\", \"x\": \"Dependent_count\", \"xref\": \"x\", \"y\": \"Avg_Open_To_Buy\", \"yref\": \"y\"}, {\"font\": {\"color\": \"#FFFFFF\"}, \"showarrow\": false, \"text\": \"-0.0\", \"x\": \"Education_Level\", \"xref\": \"x\", \"y\": \"Avg_Open_To_Buy\", \"yref\": \"y\"}, {\"font\": {\"color\": \"#FFFFFF\"}, \"showarrow\": false, \"text\": \"-0.06\", \"x\": \"Marital_Status\", \"xref\": \"x\", \"y\": \"Avg_Open_To_Buy\", \"yref\": \"y\"}, {\"font\": {\"color\": \"#000000\"}, \"showarrow\": false, \"text\": \"0.53\", \"x\": \"Income_Category\", \"xref\": \"x\", \"y\": \"Avg_Open_To_Buy\", \"yref\": \"y\"}, {\"font\": {\"color\": \"#000000\"}, \"showarrow\": false, \"text\": \"0.49\", \"x\": \"Card_Category\", \"xref\": \"x\", \"y\": \"Avg_Open_To_Buy\", \"yref\": \"y\"}, {\"font\": {\"color\": \"#000000\"}, \"showarrow\": false, \"text\": \"0.01\", \"x\": \"Months_on_book\", \"xref\": \"x\", \"y\": \"Avg_Open_To_Buy\", \"yref\": \"y\"}, {\"font\": {\"color\": \"#FFFFFF\"}, \"showarrow\": false, \"text\": \"-0.07\", \"x\": \"Total_Relationship_Count\", \"xref\": \"x\", \"y\": \"Avg_Open_To_Buy\", \"yref\": \"y\"}, {\"font\": {\"color\": \"#FFFFFF\"}, \"showarrow\": false, \"text\": \"-0.02\", \"x\": \"Months_Inactive_12_mon\", \"xref\": \"x\", \"y\": \"Avg_Open_To_Buy\", \"yref\": \"y\"}, {\"font\": {\"color\": \"#000000\"}, \"showarrow\": false, \"text\": \"0.03\", \"x\": \"Contacts_Count_12_mon\", \"xref\": \"x\", \"y\": \"Avg_Open_To_Buy\", \"yref\": \"y\"}, {\"font\": {\"color\": \"#000000\"}, \"showarrow\": false, \"text\": \"1.0\", \"x\": \"Credit_Limit\", \"xref\": \"x\", \"y\": \"Avg_Open_To_Buy\", \"yref\": \"y\"}, {\"font\": {\"color\": \"#FFFFFF\"}, \"showarrow\": false, \"text\": \"-0.05\", \"x\": \"Total_Revolving_Bal\", \"xref\": \"x\", \"y\": \"Avg_Open_To_Buy\", \"yref\": \"y\"}, {\"font\": {\"color\": \"#000000\"}, \"showarrow\": false, \"text\": \"1.0\", \"x\": \"Avg_Open_To_Buy\", \"xref\": \"x\", \"y\": \"Avg_Open_To_Buy\", \"yref\": \"y\"}, {\"font\": {\"color\": \"#000000\"}, \"showarrow\": false, \"text\": \"0.01\", \"x\": \"Total_Amt_Chng_Q4_Q1\", \"xref\": \"x\", \"y\": \"Avg_Open_To_Buy\", \"yref\": \"y\"}, {\"font\": {\"color\": \"#000000\"}, \"showarrow\": false, \"text\": \"0.17\", \"x\": \"Total_Trans_Amt\", \"xref\": \"x\", \"y\": \"Avg_Open_To_Buy\", \"yref\": \"y\"}, {\"font\": {\"color\": \"#000000\"}, \"showarrow\": false, \"text\": \"0.07\", \"x\": \"Total_Trans_Ct\", \"xref\": \"x\", \"y\": \"Avg_Open_To_Buy\", \"yref\": \"y\"}, {\"font\": {\"color\": \"#FFFFFF\"}, \"showarrow\": false, \"text\": \"-0.01\", \"x\": \"Total_Ct_Chng_Q4_Q1\", \"xref\": \"x\", \"y\": \"Avg_Open_To_Buy\", \"yref\": \"y\"}, {\"font\": {\"color\": \"#FFFFFF\"}, \"showarrow\": false, \"text\": \"-0.54\", \"x\": \"Avg_Utilization_Ratio\", \"xref\": \"x\", \"y\": \"Avg_Open_To_Buy\", \"yref\": \"y\"}, {\"font\": {\"color\": \"#FFFFFF\"}, \"showarrow\": false, \"text\": \"-0.42\", \"x\": \"Gender_F\", \"xref\": \"x\", \"y\": \"Avg_Open_To_Buy\", \"yref\": \"y\"}, {\"font\": {\"color\": \"#000000\"}, \"showarrow\": false, \"text\": \"0.42\", \"x\": \"Gender_M\", \"xref\": \"x\", \"y\": \"Avg_Open_To_Buy\", \"yref\": \"y\"}, {\"font\": {\"color\": \"#FFFFFF\"}, \"showarrow\": false, \"text\": \"-0.13\", \"x\": \"Attrition_Flag\", \"xref\": \"x\", \"y\": \"Total_Amt_Chng_Q4_Q1\", \"yref\": \"y\"}, {\"font\": {\"color\": \"#FFFFFF\"}, \"showarrow\": false, \"text\": \"-0.06\", \"x\": \"Customer_Age\", \"xref\": \"x\", \"y\": \"Total_Amt_Chng_Q4_Q1\", \"yref\": \"y\"}, {\"font\": {\"color\": \"#FFFFFF\"}, \"showarrow\": false, \"text\": \"-0.04\", \"x\": \"Dependent_count\", \"xref\": \"x\", \"y\": \"Total_Amt_Chng_Q4_Q1\", \"yref\": \"y\"}, {\"font\": {\"color\": \"#FFFFFF\"}, \"showarrow\": false, \"text\": \"-0.01\", \"x\": \"Education_Level\", \"xref\": \"x\", \"y\": \"Total_Amt_Chng_Q4_Q1\", \"yref\": \"y\"}, {\"font\": {\"color\": \"#000000\"}, \"showarrow\": false, \"text\": \"0.05\", \"x\": \"Marital_Status\", \"xref\": \"x\", \"y\": \"Total_Amt_Chng_Q4_Q1\", \"yref\": \"y\"}, {\"font\": {\"color\": \"#000000\"}, \"showarrow\": false, \"text\": \"0.01\", \"x\": \"Income_Category\", \"xref\": \"x\", \"y\": \"Total_Amt_Chng_Q4_Q1\", \"yref\": \"y\"}, {\"font\": {\"color\": \"#000000\"}, \"showarrow\": false, \"text\": \"0.01\", \"x\": \"Card_Category\", \"xref\": \"x\", \"y\": \"Total_Amt_Chng_Q4_Q1\", \"yref\": \"y\"}, {\"font\": {\"color\": \"#FFFFFF\"}, \"showarrow\": false, \"text\": \"-0.05\", \"x\": \"Months_on_book\", \"xref\": \"x\", \"y\": \"Total_Amt_Chng_Q4_Q1\", \"yref\": \"y\"}, {\"font\": {\"color\": \"#000000\"}, \"showarrow\": false, \"text\": \"0.05\", \"x\": \"Total_Relationship_Count\", \"xref\": \"x\", \"y\": \"Total_Amt_Chng_Q4_Q1\", \"yref\": \"y\"}, {\"font\": {\"color\": \"#FFFFFF\"}, \"showarrow\": false, \"text\": \"-0.03\", \"x\": \"Months_Inactive_12_mon\", \"xref\": \"x\", \"y\": \"Total_Amt_Chng_Q4_Q1\", \"yref\": \"y\"}, {\"font\": {\"color\": \"#FFFFFF\"}, \"showarrow\": false, \"text\": \"-0.02\", \"x\": \"Contacts_Count_12_mon\", \"xref\": \"x\", \"y\": \"Total_Amt_Chng_Q4_Q1\", \"yref\": \"y\"}, {\"font\": {\"color\": \"#000000\"}, \"showarrow\": false, \"text\": \"0.01\", \"x\": \"Credit_Limit\", \"xref\": \"x\", \"y\": \"Total_Amt_Chng_Q4_Q1\", \"yref\": \"y\"}, {\"font\": {\"color\": \"#000000\"}, \"showarrow\": false, \"text\": \"0.06\", \"x\": \"Total_Revolving_Bal\", \"xref\": \"x\", \"y\": \"Total_Amt_Chng_Q4_Q1\", \"yref\": \"y\"}, {\"font\": {\"color\": \"#000000\"}, \"showarrow\": false, \"text\": \"0.01\", \"x\": \"Avg_Open_To_Buy\", \"xref\": \"x\", \"y\": \"Total_Amt_Chng_Q4_Q1\", \"yref\": \"y\"}, {\"font\": {\"color\": \"#000000\"}, \"showarrow\": false, \"text\": \"1.0\", \"x\": \"Total_Amt_Chng_Q4_Q1\", \"xref\": \"x\", \"y\": \"Total_Amt_Chng_Q4_Q1\", \"yref\": \"y\"}, {\"font\": {\"color\": \"#000000\"}, \"showarrow\": false, \"text\": \"0.04\", \"x\": \"Total_Trans_Amt\", \"xref\": \"x\", \"y\": \"Total_Amt_Chng_Q4_Q1\", \"yref\": \"y\"}, {\"font\": {\"color\": \"#000000\"}, \"showarrow\": false, \"text\": \"0.01\", \"x\": \"Total_Trans_Ct\", \"xref\": \"x\", \"y\": \"Total_Amt_Chng_Q4_Q1\", \"yref\": \"y\"}, {\"font\": {\"color\": \"#000000\"}, \"showarrow\": false, \"text\": \"0.38\", \"x\": \"Total_Ct_Chng_Q4_Q1\", \"xref\": \"x\", \"y\": \"Total_Amt_Chng_Q4_Q1\", \"yref\": \"y\"}, {\"font\": {\"color\": \"#000000\"}, \"showarrow\": false, \"text\": \"0.04\", \"x\": \"Avg_Utilization_Ratio\", \"xref\": \"x\", \"y\": \"Total_Amt_Chng_Q4_Q1\", \"yref\": \"y\"}, {\"font\": {\"color\": \"#FFFFFF\"}, \"showarrow\": false, \"text\": \"-0.03\", \"x\": \"Gender_F\", \"xref\": \"x\", \"y\": \"Total_Amt_Chng_Q4_Q1\", \"yref\": \"y\"}, {\"font\": {\"color\": \"#000000\"}, \"showarrow\": false, \"text\": \"0.03\", \"x\": \"Gender_M\", \"xref\": \"x\", \"y\": \"Total_Amt_Chng_Q4_Q1\", \"yref\": \"y\"}, {\"font\": {\"color\": \"#FFFFFF\"}, \"showarrow\": false, \"text\": \"-0.17\", \"x\": \"Attrition_Flag\", \"xref\": \"x\", \"y\": \"Total_Trans_Amt\", \"yref\": \"y\"}, {\"font\": {\"color\": \"#FFFFFF\"}, \"showarrow\": false, \"text\": \"-0.05\", \"x\": \"Customer_Age\", \"xref\": \"x\", \"y\": \"Total_Trans_Amt\", \"yref\": \"y\"}, {\"font\": {\"color\": \"#000000\"}, \"showarrow\": false, \"text\": \"0.03\", \"x\": \"Dependent_count\", \"xref\": \"x\", \"y\": \"Total_Trans_Amt\", \"yref\": \"y\"}, {\"font\": {\"color\": \"#FFFFFF\"}, \"showarrow\": false, \"text\": \"-0.01\", \"x\": \"Education_Level\", \"xref\": \"x\", \"y\": \"Total_Trans_Amt\", \"yref\": \"y\"}, {\"font\": {\"color\": \"#FFFFFF\"}, \"showarrow\": false, \"text\": \"-0.06\", \"x\": \"Marital_Status\", \"xref\": \"x\", \"y\": \"Total_Trans_Amt\", \"yref\": \"y\"}, {\"font\": {\"color\": \"#000000\"}, \"showarrow\": false, \"text\": \"0.02\", \"x\": \"Income_Category\", \"xref\": \"x\", \"y\": \"Total_Trans_Amt\", \"yref\": \"y\"}, {\"font\": {\"color\": \"#000000\"}, \"showarrow\": false, \"text\": \"0.2\", \"x\": \"Card_Category\", \"xref\": \"x\", \"y\": \"Total_Trans_Amt\", \"yref\": \"y\"}, {\"font\": {\"color\": \"#FFFFFF\"}, \"showarrow\": false, \"text\": \"-0.04\", \"x\": \"Months_on_book\", \"xref\": \"x\", \"y\": \"Total_Trans_Amt\", \"yref\": \"y\"}, {\"font\": {\"color\": \"#FFFFFF\"}, \"showarrow\": false, \"text\": \"-0.35\", \"x\": \"Total_Relationship_Count\", \"xref\": \"x\", \"y\": \"Total_Trans_Amt\", \"yref\": \"y\"}, {\"font\": {\"color\": \"#FFFFFF\"}, \"showarrow\": false, \"text\": \"-0.04\", \"x\": \"Months_Inactive_12_mon\", \"xref\": \"x\", \"y\": \"Total_Trans_Amt\", \"yref\": \"y\"}, {\"font\": {\"color\": \"#FFFFFF\"}, \"showarrow\": false, \"text\": \"-0.11\", \"x\": \"Contacts_Count_12_mon\", \"xref\": \"x\", \"y\": \"Total_Trans_Amt\", \"yref\": \"y\"}, {\"font\": {\"color\": \"#000000\"}, \"showarrow\": false, \"text\": \"0.17\", \"x\": \"Credit_Limit\", \"xref\": \"x\", \"y\": \"Total_Trans_Amt\", \"yref\": \"y\"}, {\"font\": {\"color\": \"#000000\"}, \"showarrow\": false, \"text\": \"0.06\", \"x\": \"Total_Revolving_Bal\", \"xref\": \"x\", \"y\": \"Total_Trans_Amt\", \"yref\": \"y\"}, {\"font\": {\"color\": \"#000000\"}, \"showarrow\": false, \"text\": \"0.17\", \"x\": \"Avg_Open_To_Buy\", \"xref\": \"x\", \"y\": \"Total_Trans_Amt\", \"yref\": \"y\"}, {\"font\": {\"color\": \"#000000\"}, \"showarrow\": false, \"text\": \"0.04\", \"x\": \"Total_Amt_Chng_Q4_Q1\", \"xref\": \"x\", \"y\": \"Total_Trans_Amt\", \"yref\": \"y\"}, {\"font\": {\"color\": \"#000000\"}, \"showarrow\": false, \"text\": \"1.0\", \"x\": \"Total_Trans_Amt\", \"xref\": \"x\", \"y\": \"Total_Trans_Amt\", \"yref\": \"y\"}, {\"font\": {\"color\": \"#000000\"}, \"showarrow\": false, \"text\": \"0.81\", \"x\": \"Total_Trans_Ct\", \"xref\": \"x\", \"y\": \"Total_Trans_Amt\", \"yref\": \"y\"}, {\"font\": {\"color\": \"#000000\"}, \"showarrow\": false, \"text\": \"0.09\", \"x\": \"Total_Ct_Chng_Q4_Q1\", \"xref\": \"x\", \"y\": \"Total_Trans_Amt\", \"yref\": \"y\"}, {\"font\": {\"color\": \"#FFFFFF\"}, \"showarrow\": false, \"text\": \"-0.08\", \"x\": \"Avg_Utilization_Ratio\", \"xref\": \"x\", \"y\": \"Total_Trans_Amt\", \"yref\": \"y\"}, {\"font\": {\"color\": \"#FFFFFF\"}, \"showarrow\": false, \"text\": \"-0.02\", \"x\": \"Gender_F\", \"xref\": \"x\", \"y\": \"Total_Trans_Amt\", \"yref\": \"y\"}, {\"font\": {\"color\": \"#000000\"}, \"showarrow\": false, \"text\": \"0.02\", \"x\": \"Gender_M\", \"xref\": \"x\", \"y\": \"Total_Trans_Amt\", \"yref\": \"y\"}, {\"font\": {\"color\": \"#FFFFFF\"}, \"showarrow\": false, \"text\": \"-0.37\", \"x\": \"Attrition_Flag\", \"xref\": \"x\", \"y\": \"Total_Trans_Ct\", \"yref\": \"y\"}, {\"font\": {\"color\": \"#FFFFFF\"}, \"showarrow\": false, \"text\": \"-0.07\", \"x\": \"Customer_Age\", \"xref\": \"x\", \"y\": \"Total_Trans_Ct\", \"yref\": \"y\"}, {\"font\": {\"color\": \"#000000\"}, \"showarrow\": false, \"text\": \"0.05\", \"x\": \"Dependent_count\", \"xref\": \"x\", \"y\": \"Total_Trans_Ct\", \"yref\": \"y\"}, {\"font\": {\"color\": \"#FFFFFF\"}, \"showarrow\": false, \"text\": \"-0.01\", \"x\": \"Education_Level\", \"xref\": \"x\", \"y\": \"Total_Trans_Ct\", \"yref\": \"y\"}, {\"font\": {\"color\": \"#FFFFFF\"}, \"showarrow\": false, \"text\": \"-0.12\", \"x\": \"Marital_Status\", \"xref\": \"x\", \"y\": \"Total_Trans_Ct\", \"yref\": \"y\"}, {\"font\": {\"color\": \"#FFFFFF\"}, \"showarrow\": false, \"text\": \"-0.05\", \"x\": \"Income_Category\", \"xref\": \"x\", \"y\": \"Total_Trans_Ct\", \"yref\": \"y\"}, {\"font\": {\"color\": \"#000000\"}, \"showarrow\": false, \"text\": \"0.13\", \"x\": \"Card_Category\", \"xref\": \"x\", \"y\": \"Total_Trans_Ct\", \"yref\": \"y\"}, {\"font\": {\"color\": \"#FFFFFF\"}, \"showarrow\": false, \"text\": \"-0.05\", \"x\": \"Months_on_book\", \"xref\": \"x\", \"y\": \"Total_Trans_Ct\", \"yref\": \"y\"}, {\"font\": {\"color\": \"#FFFFFF\"}, \"showarrow\": false, \"text\": \"-0.24\", \"x\": \"Total_Relationship_Count\", \"xref\": \"x\", \"y\": \"Total_Trans_Ct\", \"yref\": \"y\"}, {\"font\": {\"color\": \"#FFFFFF\"}, \"showarrow\": false, \"text\": \"-0.04\", \"x\": \"Months_Inactive_12_mon\", \"xref\": \"x\", \"y\": \"Total_Trans_Ct\", \"yref\": \"y\"}, {\"font\": {\"color\": \"#FFFFFF\"}, \"showarrow\": false, \"text\": \"-0.15\", \"x\": \"Contacts_Count_12_mon\", \"xref\": \"x\", \"y\": \"Total_Trans_Ct\", \"yref\": \"y\"}, {\"font\": {\"color\": \"#000000\"}, \"showarrow\": false, \"text\": \"0.08\", \"x\": \"Credit_Limit\", \"xref\": \"x\", \"y\": \"Total_Trans_Ct\", \"yref\": \"y\"}, {\"font\": {\"color\": \"#000000\"}, \"showarrow\": false, \"text\": \"0.06\", \"x\": \"Total_Revolving_Bal\", \"xref\": \"x\", \"y\": \"Total_Trans_Ct\", \"yref\": \"y\"}, {\"font\": {\"color\": \"#000000\"}, \"showarrow\": false, \"text\": \"0.07\", \"x\": \"Avg_Open_To_Buy\", \"xref\": \"x\", \"y\": \"Total_Trans_Ct\", \"yref\": \"y\"}, {\"font\": {\"color\": \"#000000\"}, \"showarrow\": false, \"text\": \"0.01\", \"x\": \"Total_Amt_Chng_Q4_Q1\", \"xref\": \"x\", \"y\": \"Total_Trans_Ct\", \"yref\": \"y\"}, {\"font\": {\"color\": \"#000000\"}, \"showarrow\": false, \"text\": \"0.81\", \"x\": \"Total_Trans_Amt\", \"xref\": \"x\", \"y\": \"Total_Trans_Ct\", \"yref\": \"y\"}, {\"font\": {\"color\": \"#000000\"}, \"showarrow\": false, \"text\": \"1.0\", \"x\": \"Total_Trans_Ct\", \"xref\": \"x\", \"y\": \"Total_Trans_Ct\", \"yref\": \"y\"}, {\"font\": {\"color\": \"#000000\"}, \"showarrow\": false, \"text\": \"0.11\", \"x\": \"Total_Ct_Chng_Q4_Q1\", \"xref\": \"x\", \"y\": \"Total_Trans_Ct\", \"yref\": \"y\"}, {\"font\": {\"color\": \"#000000\"}, \"showarrow\": false, \"text\": \"0.0\", \"x\": \"Avg_Utilization_Ratio\", \"xref\": \"x\", \"y\": \"Total_Trans_Ct\", \"yref\": \"y\"}, {\"font\": {\"color\": \"#000000\"}, \"showarrow\": false, \"text\": \"0.07\", \"x\": \"Gender_F\", \"xref\": \"x\", \"y\": \"Total_Trans_Ct\", \"yref\": \"y\"}, {\"font\": {\"color\": \"#FFFFFF\"}, \"showarrow\": false, \"text\": \"-0.07\", \"x\": \"Gender_M\", \"xref\": \"x\", \"y\": \"Total_Trans_Ct\", \"yref\": \"y\"}, {\"font\": {\"color\": \"#FFFFFF\"}, \"showarrow\": false, \"text\": \"-0.29\", \"x\": \"Attrition_Flag\", \"xref\": \"x\", \"y\": \"Total_Ct_Chng_Q4_Q1\", \"yref\": \"y\"}, {\"font\": {\"color\": \"#FFFFFF\"}, \"showarrow\": false, \"text\": \"-0.01\", \"x\": \"Customer_Age\", \"xref\": \"x\", \"y\": \"Total_Ct_Chng_Q4_Q1\", \"yref\": \"y\"}, {\"font\": {\"color\": \"#000000\"}, \"showarrow\": false, \"text\": \"0.01\", \"x\": \"Dependent_count\", \"xref\": \"x\", \"y\": \"Total_Ct_Chng_Q4_Q1\", \"yref\": \"y\"}, {\"font\": {\"color\": \"#FFFFFF\"}, \"showarrow\": false, \"text\": \"-0.02\", \"x\": \"Education_Level\", \"xref\": \"x\", \"y\": \"Total_Ct_Chng_Q4_Q1\", \"yref\": \"y\"}, {\"font\": {\"color\": \"#000000\"}, \"showarrow\": false, \"text\": \"0.01\", \"x\": \"Marital_Status\", \"xref\": \"x\", \"y\": \"Total_Ct_Chng_Q4_Q1\", \"yref\": \"y\"}, {\"font\": {\"color\": \"#FFFFFF\"}, \"showarrow\": false, \"text\": \"-0.01\", \"x\": \"Income_Category\", \"xref\": \"x\", \"y\": \"Total_Ct_Chng_Q4_Q1\", \"yref\": \"y\"}, {\"font\": {\"color\": \"#FFFFFF\"}, \"showarrow\": false, \"text\": \"-0.01\", \"x\": \"Card_Category\", \"xref\": \"x\", \"y\": \"Total_Ct_Chng_Q4_Q1\", \"yref\": \"y\"}, {\"font\": {\"color\": \"#FFFFFF\"}, \"showarrow\": false, \"text\": \"-0.01\", \"x\": \"Months_on_book\", \"xref\": \"x\", \"y\": \"Total_Ct_Chng_Q4_Q1\", \"yref\": \"y\"}, {\"font\": {\"color\": \"#000000\"}, \"showarrow\": false, \"text\": \"0.04\", \"x\": \"Total_Relationship_Count\", \"xref\": \"x\", \"y\": \"Total_Ct_Chng_Q4_Q1\", \"yref\": \"y\"}, {\"font\": {\"color\": \"#FFFFFF\"}, \"showarrow\": false, \"text\": \"-0.04\", \"x\": \"Months_Inactive_12_mon\", \"xref\": \"x\", \"y\": \"Total_Ct_Chng_Q4_Q1\", \"yref\": \"y\"}, {\"font\": {\"color\": \"#FFFFFF\"}, \"showarrow\": false, \"text\": \"-0.09\", \"x\": \"Contacts_Count_12_mon\", \"xref\": \"x\", \"y\": \"Total_Ct_Chng_Q4_Q1\", \"yref\": \"y\"}, {\"font\": {\"color\": \"#FFFFFF\"}, \"showarrow\": false, \"text\": \"-0.0\", \"x\": \"Credit_Limit\", \"xref\": \"x\", \"y\": \"Total_Ct_Chng_Q4_Q1\", \"yref\": \"y\"}, {\"font\": {\"color\": \"#000000\"}, \"showarrow\": false, \"text\": \"0.09\", \"x\": \"Total_Revolving_Bal\", \"xref\": \"x\", \"y\": \"Total_Ct_Chng_Q4_Q1\", \"yref\": \"y\"}, {\"font\": {\"color\": \"#FFFFFF\"}, \"showarrow\": false, \"text\": \"-0.01\", \"x\": \"Avg_Open_To_Buy\", \"xref\": \"x\", \"y\": \"Total_Ct_Chng_Q4_Q1\", \"yref\": \"y\"}, {\"font\": {\"color\": \"#000000\"}, \"showarrow\": false, \"text\": \"0.38\", \"x\": \"Total_Amt_Chng_Q4_Q1\", \"xref\": \"x\", \"y\": \"Total_Ct_Chng_Q4_Q1\", \"yref\": \"y\"}, {\"font\": {\"color\": \"#000000\"}, \"showarrow\": false, \"text\": \"0.09\", \"x\": \"Total_Trans_Amt\", \"xref\": \"x\", \"y\": \"Total_Ct_Chng_Q4_Q1\", \"yref\": \"y\"}, {\"font\": {\"color\": \"#000000\"}, \"showarrow\": false, \"text\": \"0.11\", \"x\": \"Total_Trans_Ct\", \"xref\": \"x\", \"y\": \"Total_Ct_Chng_Q4_Q1\", \"yref\": \"y\"}, {\"font\": {\"color\": \"#000000\"}, \"showarrow\": false, \"text\": \"1.0\", \"x\": \"Total_Ct_Chng_Q4_Q1\", \"xref\": \"x\", \"y\": \"Total_Ct_Chng_Q4_Q1\", \"yref\": \"y\"}, {\"font\": {\"color\": \"#000000\"}, \"showarrow\": false, \"text\": \"0.07\", \"x\": \"Avg_Utilization_Ratio\", \"xref\": \"x\", \"y\": \"Total_Ct_Chng_Q4_Q1\", \"yref\": \"y\"}, {\"font\": {\"color\": \"#000000\"}, \"showarrow\": false, \"text\": \"0.01\", \"x\": \"Gender_F\", \"xref\": \"x\", \"y\": \"Total_Ct_Chng_Q4_Q1\", \"yref\": \"y\"}, {\"font\": {\"color\": \"#FFFFFF\"}, \"showarrow\": false, \"text\": \"-0.01\", \"x\": \"Gender_M\", \"xref\": \"x\", \"y\": \"Total_Ct_Chng_Q4_Q1\", \"yref\": \"y\"}, {\"font\": {\"color\": \"#FFFFFF\"}, \"showarrow\": false, \"text\": \"-0.18\", \"x\": \"Attrition_Flag\", \"xref\": \"x\", \"y\": \"Avg_Utilization_Ratio\", \"yref\": \"y\"}, {\"font\": {\"color\": \"#000000\"}, \"showarrow\": false, \"text\": \"0.01\", \"x\": \"Customer_Age\", \"xref\": \"x\", \"y\": \"Avg_Utilization_Ratio\", \"yref\": \"y\"}, {\"font\": {\"color\": \"#FFFFFF\"}, \"showarrow\": false, \"text\": \"-0.04\", \"x\": \"Dependent_count\", \"xref\": \"x\", \"y\": \"Avg_Utilization_Ratio\", \"yref\": \"y\"}, {\"font\": {\"color\": \"#FFFFFF\"}, \"showarrow\": false, \"text\": \"-0.0\", \"x\": \"Education_Level\", \"xref\": \"x\", \"y\": \"Avg_Utilization_Ratio\", \"yref\": \"y\"}, {\"font\": {\"color\": \"#000000\"}, \"showarrow\": false, \"text\": \"0.05\", \"x\": \"Marital_Status\", \"xref\": \"x\", \"y\": \"Avg_Utilization_Ratio\", \"yref\": \"y\"}, {\"font\": {\"color\": \"#FFFFFF\"}, \"showarrow\": false, \"text\": \"-0.29\", \"x\": \"Income_Category\", \"xref\": \"x\", \"y\": \"Avg_Utilization_Ratio\", \"yref\": \"y\"}, {\"font\": {\"color\": \"#FFFFFF\"}, \"showarrow\": false, \"text\": \"-0.2\", \"x\": \"Card_Category\", \"xref\": \"x\", \"y\": \"Avg_Utilization_Ratio\", \"yref\": \"y\"}, {\"font\": {\"color\": \"#FFFFFF\"}, \"showarrow\": false, \"text\": \"-0.01\", \"x\": \"Months_on_book\", \"xref\": \"x\", \"y\": \"Avg_Utilization_Ratio\", \"yref\": \"y\"}, {\"font\": {\"color\": \"#000000\"}, \"showarrow\": false, \"text\": \"0.07\", \"x\": \"Total_Relationship_Count\", \"xref\": \"x\", \"y\": \"Avg_Utilization_Ratio\", \"yref\": \"y\"}, {\"font\": {\"color\": \"#FFFFFF\"}, \"showarrow\": false, \"text\": \"-0.01\", \"x\": \"Months_Inactive_12_mon\", \"xref\": \"x\", \"y\": \"Avg_Utilization_Ratio\", \"yref\": \"y\"}, {\"font\": {\"color\": \"#FFFFFF\"}, \"showarrow\": false, \"text\": \"-0.06\", \"x\": \"Contacts_Count_12_mon\", \"xref\": \"x\", \"y\": \"Avg_Utilization_Ratio\", \"yref\": \"y\"}, {\"font\": {\"color\": \"#FFFFFF\"}, \"showarrow\": false, \"text\": \"-0.48\", \"x\": \"Credit_Limit\", \"xref\": \"x\", \"y\": \"Avg_Utilization_Ratio\", \"yref\": \"y\"}, {\"font\": {\"color\": \"#000000\"}, \"showarrow\": false, \"text\": \"0.62\", \"x\": \"Total_Revolving_Bal\", \"xref\": \"x\", \"y\": \"Avg_Utilization_Ratio\", \"yref\": \"y\"}, {\"font\": {\"color\": \"#FFFFFF\"}, \"showarrow\": false, \"text\": \"-0.54\", \"x\": \"Avg_Open_To_Buy\", \"xref\": \"x\", \"y\": \"Avg_Utilization_Ratio\", \"yref\": \"y\"}, {\"font\": {\"color\": \"#000000\"}, \"showarrow\": false, \"text\": \"0.04\", \"x\": \"Total_Amt_Chng_Q4_Q1\", \"xref\": \"x\", \"y\": \"Avg_Utilization_Ratio\", \"yref\": \"y\"}, {\"font\": {\"color\": \"#FFFFFF\"}, \"showarrow\": false, \"text\": \"-0.08\", \"x\": \"Total_Trans_Amt\", \"xref\": \"x\", \"y\": \"Avg_Utilization_Ratio\", \"yref\": \"y\"}, {\"font\": {\"color\": \"#000000\"}, \"showarrow\": false, \"text\": \"0.0\", \"x\": \"Total_Trans_Ct\", \"xref\": \"x\", \"y\": \"Avg_Utilization_Ratio\", \"yref\": \"y\"}, {\"font\": {\"color\": \"#000000\"}, \"showarrow\": false, \"text\": \"0.07\", \"x\": \"Total_Ct_Chng_Q4_Q1\", \"xref\": \"x\", \"y\": \"Avg_Utilization_Ratio\", \"yref\": \"y\"}, {\"font\": {\"color\": \"#000000\"}, \"showarrow\": false, \"text\": \"1.0\", \"x\": \"Avg_Utilization_Ratio\", \"xref\": \"x\", \"y\": \"Avg_Utilization_Ratio\", \"yref\": \"y\"}, {\"font\": {\"color\": \"#000000\"}, \"showarrow\": false, \"text\": \"0.26\", \"x\": \"Gender_F\", \"xref\": \"x\", \"y\": \"Avg_Utilization_Ratio\", \"yref\": \"y\"}, {\"font\": {\"color\": \"#FFFFFF\"}, \"showarrow\": false, \"text\": \"-0.26\", \"x\": \"Gender_M\", \"xref\": \"x\", \"y\": \"Avg_Utilization_Ratio\", \"yref\": \"y\"}, {\"font\": {\"color\": \"#000000\"}, \"showarrow\": false, \"text\": \"0.04\", \"x\": \"Attrition_Flag\", \"xref\": \"x\", \"y\": \"Gender_F\", \"yref\": \"y\"}, {\"font\": {\"color\": \"#000000\"}, \"showarrow\": false, \"text\": \"0.02\", \"x\": \"Customer_Age\", \"xref\": \"x\", \"y\": \"Gender_F\", \"yref\": \"y\"}, {\"font\": {\"color\": \"#FFFFFF\"}, \"showarrow\": false, \"text\": \"-0.0\", \"x\": \"Dependent_count\", \"xref\": \"x\", \"y\": \"Gender_F\", \"yref\": \"y\"}, {\"font\": {\"color\": \"#000000\"}, \"showarrow\": false, \"text\": \"0.01\", \"x\": \"Education_Level\", \"xref\": \"x\", \"y\": \"Gender_F\", \"yref\": \"y\"}, {\"font\": {\"color\": \"#FFFFFF\"}, \"showarrow\": false, \"text\": \"-0.01\", \"x\": \"Marital_Status\", \"xref\": \"x\", \"y\": \"Gender_F\", \"yref\": \"y\"}, {\"font\": {\"color\": \"#FFFFFF\"}, \"showarrow\": false, \"text\": \"-0.79\", \"x\": \"Income_Category\", \"xref\": \"x\", \"y\": \"Gender_F\", \"yref\": \"y\"}, {\"font\": {\"color\": \"#FFFFFF\"}, \"showarrow\": false, \"text\": \"-0.08\", \"x\": \"Card_Category\", \"xref\": \"x\", \"y\": \"Gender_F\", \"yref\": \"y\"}, {\"font\": {\"color\": \"#000000\"}, \"showarrow\": false, \"text\": \"0.01\", \"x\": \"Months_on_book\", \"xref\": \"x\", \"y\": \"Gender_F\", \"yref\": \"y\"}, {\"font\": {\"color\": \"#FFFFFF\"}, \"showarrow\": false, \"text\": \"-0.0\", \"x\": \"Total_Relationship_Count\", \"xref\": \"x\", \"y\": \"Gender_F\", \"yref\": \"y\"}, {\"font\": {\"color\": \"#000000\"}, \"showarrow\": false, \"text\": \"0.01\", \"x\": \"Months_Inactive_12_mon\", \"xref\": \"x\", \"y\": \"Gender_F\", \"yref\": \"y\"}, {\"font\": {\"color\": \"#FFFFFF\"}, \"showarrow\": false, \"text\": \"-0.04\", \"x\": \"Contacts_Count_12_mon\", \"xref\": \"x\", \"y\": \"Gender_F\", \"yref\": \"y\"}, {\"font\": {\"color\": \"#FFFFFF\"}, \"showarrow\": false, \"text\": \"-0.42\", \"x\": \"Credit_Limit\", \"xref\": \"x\", \"y\": \"Gender_F\", \"yref\": \"y\"}, {\"font\": {\"color\": \"#FFFFFF\"}, \"showarrow\": false, \"text\": \"-0.03\", \"x\": \"Total_Revolving_Bal\", \"xref\": \"x\", \"y\": \"Gender_F\", \"yref\": \"y\"}, {\"font\": {\"color\": \"#FFFFFF\"}, \"showarrow\": false, \"text\": \"-0.42\", \"x\": \"Avg_Open_To_Buy\", \"xref\": \"x\", \"y\": \"Gender_F\", \"yref\": \"y\"}, {\"font\": {\"color\": \"#FFFFFF\"}, \"showarrow\": false, \"text\": \"-0.03\", \"x\": \"Total_Amt_Chng_Q4_Q1\", \"xref\": \"x\", \"y\": \"Gender_F\", \"yref\": \"y\"}, {\"font\": {\"color\": \"#FFFFFF\"}, \"showarrow\": false, \"text\": \"-0.02\", \"x\": \"Total_Trans_Amt\", \"xref\": \"x\", \"y\": \"Gender_F\", \"yref\": \"y\"}, {\"font\": {\"color\": \"#000000\"}, \"showarrow\": false, \"text\": \"0.07\", \"x\": \"Total_Trans_Ct\", \"xref\": \"x\", \"y\": \"Gender_F\", \"yref\": \"y\"}, {\"font\": {\"color\": \"#000000\"}, \"showarrow\": false, \"text\": \"0.01\", \"x\": \"Total_Ct_Chng_Q4_Q1\", \"xref\": \"x\", \"y\": \"Gender_F\", \"yref\": \"y\"}, {\"font\": {\"color\": \"#000000\"}, \"showarrow\": false, \"text\": \"0.26\", \"x\": \"Avg_Utilization_Ratio\", \"xref\": \"x\", \"y\": \"Gender_F\", \"yref\": \"y\"}, {\"font\": {\"color\": \"#000000\"}, \"showarrow\": false, \"text\": \"1.0\", \"x\": \"Gender_F\", \"xref\": \"x\", \"y\": \"Gender_F\", \"yref\": \"y\"}, {\"font\": {\"color\": \"#FFFFFF\"}, \"showarrow\": false, \"text\": \"-1.0\", \"x\": \"Gender_M\", \"xref\": \"x\", \"y\": \"Gender_F\", \"yref\": \"y\"}, {\"font\": {\"color\": \"#FFFFFF\"}, \"showarrow\": false, \"text\": \"-0.04\", \"x\": \"Attrition_Flag\", \"xref\": \"x\", \"y\": \"Gender_M\", \"yref\": \"y\"}, {\"font\": {\"color\": \"#FFFFFF\"}, \"showarrow\": false, \"text\": \"-0.02\", \"x\": \"Customer_Age\", \"xref\": \"x\", \"y\": \"Gender_M\", \"yref\": \"y\"}, {\"font\": {\"color\": \"#000000\"}, \"showarrow\": false, \"text\": \"0.0\", \"x\": \"Dependent_count\", \"xref\": \"x\", \"y\": \"Gender_M\", \"yref\": \"y\"}, {\"font\": {\"color\": \"#FFFFFF\"}, \"showarrow\": false, \"text\": \"-0.01\", \"x\": \"Education_Level\", \"xref\": \"x\", \"y\": \"Gender_M\", \"yref\": \"y\"}, {\"font\": {\"color\": \"#000000\"}, \"showarrow\": false, \"text\": \"0.01\", \"x\": \"Marital_Status\", \"xref\": \"x\", \"y\": \"Gender_M\", \"yref\": \"y\"}, {\"font\": {\"color\": \"#000000\"}, \"showarrow\": false, \"text\": \"0.79\", \"x\": \"Income_Category\", \"xref\": \"x\", \"y\": \"Gender_M\", \"yref\": \"y\"}, {\"font\": {\"color\": \"#000000\"}, \"showarrow\": false, \"text\": \"0.08\", \"x\": \"Card_Category\", \"xref\": \"x\", \"y\": \"Gender_M\", \"yref\": \"y\"}, {\"font\": {\"color\": \"#FFFFFF\"}, \"showarrow\": false, \"text\": \"-0.01\", \"x\": \"Months_on_book\", \"xref\": \"x\", \"y\": \"Gender_M\", \"yref\": \"y\"}, {\"font\": {\"color\": \"#000000\"}, \"showarrow\": false, \"text\": \"0.0\", \"x\": \"Total_Relationship_Count\", \"xref\": \"x\", \"y\": \"Gender_M\", \"yref\": \"y\"}, {\"font\": {\"color\": \"#FFFFFF\"}, \"showarrow\": false, \"text\": \"-0.01\", \"x\": \"Months_Inactive_12_mon\", \"xref\": \"x\", \"y\": \"Gender_M\", \"yref\": \"y\"}, {\"font\": {\"color\": \"#000000\"}, \"showarrow\": false, \"text\": \"0.04\", \"x\": \"Contacts_Count_12_mon\", \"xref\": \"x\", \"y\": \"Gender_M\", \"yref\": \"y\"}, {\"font\": {\"color\": \"#000000\"}, \"showarrow\": false, \"text\": \"0.42\", \"x\": \"Credit_Limit\", \"xref\": \"x\", \"y\": \"Gender_M\", \"yref\": \"y\"}, {\"font\": {\"color\": \"#000000\"}, \"showarrow\": false, \"text\": \"0.03\", \"x\": \"Total_Revolving_Bal\", \"xref\": \"x\", \"y\": \"Gender_M\", \"yref\": \"y\"}, {\"font\": {\"color\": \"#000000\"}, \"showarrow\": false, \"text\": \"0.42\", \"x\": \"Avg_Open_To_Buy\", \"xref\": \"x\", \"y\": \"Gender_M\", \"yref\": \"y\"}, {\"font\": {\"color\": \"#000000\"}, \"showarrow\": false, \"text\": \"0.03\", \"x\": \"Total_Amt_Chng_Q4_Q1\", \"xref\": \"x\", \"y\": \"Gender_M\", \"yref\": \"y\"}, {\"font\": {\"color\": \"#000000\"}, \"showarrow\": false, \"text\": \"0.02\", \"x\": \"Total_Trans_Amt\", \"xref\": \"x\", \"y\": \"Gender_M\", \"yref\": \"y\"}, {\"font\": {\"color\": \"#FFFFFF\"}, \"showarrow\": false, \"text\": \"-0.07\", \"x\": \"Total_Trans_Ct\", \"xref\": \"x\", \"y\": \"Gender_M\", \"yref\": \"y\"}, {\"font\": {\"color\": \"#FFFFFF\"}, \"showarrow\": false, \"text\": \"-0.01\", \"x\": \"Total_Ct_Chng_Q4_Q1\", \"xref\": \"x\", \"y\": \"Gender_M\", \"yref\": \"y\"}, {\"font\": {\"color\": \"#FFFFFF\"}, \"showarrow\": false, \"text\": \"-0.26\", \"x\": \"Avg_Utilization_Ratio\", \"xref\": \"x\", \"y\": \"Gender_M\", \"yref\": \"y\"}, {\"font\": {\"color\": \"#FFFFFF\"}, \"showarrow\": false, \"text\": \"-1.0\", \"x\": \"Gender_F\", \"xref\": \"x\", \"y\": \"Gender_M\", \"yref\": \"y\"}, {\"font\": {\"color\": \"#000000\"}, \"showarrow\": false, \"text\": \"1.0\", \"x\": \"Gender_M\", \"xref\": \"x\", \"y\": \"Gender_M\", \"yref\": \"y\"}], \"template\": {\"data\": {\"bar\": [{\"error_x\": {\"color\": \"#2a3f5f\"}, \"error_y\": {\"color\": \"#2a3f5f\"}, \"marker\": {\"line\": {\"color\": \"#E5ECF6\", \"width\": 0.5}}, \"type\": \"bar\"}], \"barpolar\": [{\"marker\": {\"line\": {\"color\": \"#E5ECF6\", \"width\": 0.5}}, \"type\": \"barpolar\"}], \"carpet\": [{\"aaxis\": {\"endlinecolor\": \"#2a3f5f\", \"gridcolor\": \"white\", \"linecolor\": \"white\", \"minorgridcolor\": \"white\", \"startlinecolor\": \"#2a3f5f\"}, \"baxis\": {\"endlinecolor\": \"#2a3f5f\", \"gridcolor\": \"white\", \"linecolor\": \"white\", \"minorgridcolor\": \"white\", \"startlinecolor\": \"#2a3f5f\"}, \"type\": \"carpet\"}], \"choropleth\": [{\"colorbar\": {\"outlinewidth\": 0, \"ticks\": \"\"}, \"type\": \"choropleth\"}], \"contour\": [{\"colorbar\": {\"outlinewidth\": 0, \"ticks\": \"\"}, \"colorscale\": [[0.0, \"#0d0887\"], [0.1111111111111111, \"#46039f\"], [0.2222222222222222, \"#7201a8\"], [0.3333333333333333, \"#9c179e\"], [0.4444444444444444, \"#bd3786\"], [0.5555555555555556, \"#d8576b\"], [0.6666666666666666, \"#ed7953\"], [0.7777777777777778, \"#fb9f3a\"], [0.8888888888888888, \"#fdca26\"], [1.0, \"#f0f921\"]], \"type\": \"contour\"}], \"contourcarpet\": [{\"colorbar\": {\"outlinewidth\": 0, \"ticks\": \"\"}, \"type\": \"contourcarpet\"}], \"heatmap\": [{\"colorbar\": {\"outlinewidth\": 0, \"ticks\": \"\"}, \"colorscale\": [[0.0, \"#0d0887\"], [0.1111111111111111, \"#46039f\"], [0.2222222222222222, \"#7201a8\"], [0.3333333333333333, \"#9c179e\"], [0.4444444444444444, \"#bd3786\"], [0.5555555555555556, \"#d8576b\"], [0.6666666666666666, \"#ed7953\"], [0.7777777777777778, \"#fb9f3a\"], [0.8888888888888888, \"#fdca26\"], [1.0, \"#f0f921\"]], \"type\": \"heatmap\"}], \"heatmapgl\": [{\"colorbar\": {\"outlinewidth\": 0, \"ticks\": \"\"}, \"colorscale\": [[0.0, \"#0d0887\"], [0.1111111111111111, \"#46039f\"], [0.2222222222222222, \"#7201a8\"], [0.3333333333333333, \"#9c179e\"], [0.4444444444444444, \"#bd3786\"], [0.5555555555555556, \"#d8576b\"], [0.6666666666666666, \"#ed7953\"], [0.7777777777777778, \"#fb9f3a\"], [0.8888888888888888, \"#fdca26\"], [1.0, \"#f0f921\"]], \"type\": \"heatmapgl\"}], \"histogram\": [{\"marker\": {\"colorbar\": {\"outlinewidth\": 0, \"ticks\": \"\"}}, \"type\": \"histogram\"}], \"histogram2d\": [{\"colorbar\": {\"outlinewidth\": 0, \"ticks\": \"\"}, \"colorscale\": [[0.0, \"#0d0887\"], [0.1111111111111111, \"#46039f\"], [0.2222222222222222, \"#7201a8\"], [0.3333333333333333, \"#9c179e\"], [0.4444444444444444, \"#bd3786\"], [0.5555555555555556, \"#d8576b\"], [0.6666666666666666, \"#ed7953\"], [0.7777777777777778, \"#fb9f3a\"], [0.8888888888888888, \"#fdca26\"], [1.0, \"#f0f921\"]], \"type\": \"histogram2d\"}], \"histogram2dcontour\": [{\"colorbar\": {\"outlinewidth\": 0, \"ticks\": \"\"}, \"colorscale\": [[0.0, \"#0d0887\"], [0.1111111111111111, \"#46039f\"], [0.2222222222222222, \"#7201a8\"], [0.3333333333333333, \"#9c179e\"], [0.4444444444444444, \"#bd3786\"], [0.5555555555555556, \"#d8576b\"], [0.6666666666666666, \"#ed7953\"], [0.7777777777777778, \"#fb9f3a\"], [0.8888888888888888, \"#fdca26\"], [1.0, \"#f0f921\"]], \"type\": \"histogram2dcontour\"}], \"mesh3d\": [{\"colorbar\": {\"outlinewidth\": 0, \"ticks\": \"\"}, \"type\": \"mesh3d\"}], \"parcoords\": [{\"line\": {\"colorbar\": {\"outlinewidth\": 0, \"ticks\": \"\"}}, \"type\": \"parcoords\"}], \"pie\": [{\"automargin\": true, \"type\": \"pie\"}], \"scatter\": [{\"marker\": {\"colorbar\": {\"outlinewidth\": 0, \"ticks\": \"\"}}, \"type\": \"scatter\"}], \"scatter3d\": [{\"line\": {\"colorbar\": {\"outlinewidth\": 0, \"ticks\": \"\"}}, \"marker\": {\"colorbar\": {\"outlinewidth\": 0, \"ticks\": \"\"}}, \"type\": \"scatter3d\"}], \"scattercarpet\": [{\"marker\": {\"colorbar\": {\"outlinewidth\": 0, \"ticks\": \"\"}}, \"type\": \"scattercarpet\"}], \"scattergeo\": [{\"marker\": {\"colorbar\": {\"outlinewidth\": 0, \"ticks\": \"\"}}, \"type\": \"scattergeo\"}], \"scattergl\": [{\"marker\": {\"colorbar\": {\"outlinewidth\": 0, \"ticks\": \"\"}}, \"type\": \"scattergl\"}], \"scattermapbox\": [{\"marker\": {\"colorbar\": {\"outlinewidth\": 0, \"ticks\": \"\"}}, \"type\": \"scattermapbox\"}], \"scatterpolar\": [{\"marker\": {\"colorbar\": {\"outlinewidth\": 0, \"ticks\": \"\"}}, \"type\": \"scatterpolar\"}], \"scatterpolargl\": [{\"marker\": {\"colorbar\": {\"outlinewidth\": 0, \"ticks\": \"\"}}, \"type\": \"scatterpolargl\"}], \"scatterternary\": [{\"marker\": {\"colorbar\": {\"outlinewidth\": 0, \"ticks\": \"\"}}, \"type\": \"scatterternary\"}], \"surface\": [{\"colorbar\": {\"outlinewidth\": 0, \"ticks\": \"\"}, \"colorscale\": [[0.0, \"#0d0887\"], [0.1111111111111111, \"#46039f\"], [0.2222222222222222, \"#7201a8\"], [0.3333333333333333, \"#9c179e\"], [0.4444444444444444, \"#bd3786\"], [0.5555555555555556, \"#d8576b\"], [0.6666666666666666, \"#ed7953\"], [0.7777777777777778, \"#fb9f3a\"], [0.8888888888888888, \"#fdca26\"], [1.0, \"#f0f921\"]], \"type\": \"surface\"}], \"table\": [{\"cells\": {\"fill\": {\"color\": \"#EBF0F8\"}, \"line\": {\"color\": \"white\"}}, \"header\": {\"fill\": {\"color\": \"#C8D4E3\"}, \"line\": {\"color\": \"white\"}}, \"type\": \"table\"}]}, \"layout\": {\"annotationdefaults\": {\"arrowcolor\": \"#2a3f5f\", \"arrowhead\": 0, \"arrowwidth\": 1}, \"autotypenumbers\": \"strict\", \"coloraxis\": {\"colorbar\": {\"outlinewidth\": 0, \"ticks\": \"\"}}, \"colorscale\": {\"diverging\": [[0, \"#8e0152\"], [0.1, \"#c51b7d\"], [0.2, \"#de77ae\"], [0.3, \"#f1b6da\"], [0.4, \"#fde0ef\"], [0.5, \"#f7f7f7\"], [0.6, \"#e6f5d0\"], [0.7, \"#b8e186\"], [0.8, \"#7fbc41\"], [0.9, \"#4d9221\"], [1, \"#276419\"]], \"sequential\": [[0.0, \"#0d0887\"], [0.1111111111111111, \"#46039f\"], [0.2222222222222222, \"#7201a8\"], [0.3333333333333333, \"#9c179e\"], [0.4444444444444444, \"#bd3786\"], [0.5555555555555556, \"#d8576b\"], [0.6666666666666666, \"#ed7953\"], [0.7777777777777778, \"#fb9f3a\"], [0.8888888888888888, \"#fdca26\"], [1.0, \"#f0f921\"]], \"sequentialminus\": [[0.0, \"#0d0887\"], [0.1111111111111111, \"#46039f\"], [0.2222222222222222, \"#7201a8\"], [0.3333333333333333, \"#9c179e\"], [0.4444444444444444, \"#bd3786\"], [0.5555555555555556, \"#d8576b\"], [0.6666666666666666, \"#ed7953\"], [0.7777777777777778, \"#fb9f3a\"], [0.8888888888888888, \"#fdca26\"], [1.0, \"#f0f921\"]]}, \"colorway\": [\"#636efa\", \"#EF553B\", \"#00cc96\", \"#ab63fa\", \"#FFA15A\", \"#19d3f3\", \"#FF6692\", \"#B6E880\", \"#FF97FF\", \"#FECB52\"], \"font\": {\"color\": \"#2a3f5f\"}, \"geo\": {\"bgcolor\": \"white\", \"lakecolor\": \"white\", \"landcolor\": \"#E5ECF6\", \"showlakes\": true, \"showland\": true, \"subunitcolor\": \"white\"}, \"hoverlabel\": {\"align\": \"left\"}, \"hovermode\": \"closest\", \"mapbox\": {\"style\": \"light\"}, \"paper_bgcolor\": \"white\", \"plot_bgcolor\": \"#E5ECF6\", \"polar\": {\"angularaxis\": {\"gridcolor\": \"white\", \"linecolor\": \"white\", \"ticks\": \"\"}, \"bgcolor\": \"#E5ECF6\", \"radialaxis\": {\"gridcolor\": \"white\", \"linecolor\": \"white\", \"ticks\": \"\"}}, \"scene\": {\"xaxis\": {\"backgroundcolor\": \"#E5ECF6\", \"gridcolor\": \"white\", \"gridwidth\": 2, \"linecolor\": \"white\", \"showbackground\": true, \"ticks\": \"\", \"zerolinecolor\": \"white\"}, \"yaxis\": {\"backgroundcolor\": \"#E5ECF6\", \"gridcolor\": \"white\", \"gridwidth\": 2, \"linecolor\": \"white\", \"showbackground\": true, \"ticks\": \"\", \"zerolinecolor\": \"white\"}, \"zaxis\": {\"backgroundcolor\": \"#E5ECF6\", \"gridcolor\": \"white\", \"gridwidth\": 2, \"linecolor\": \"white\", \"showbackground\": true, \"ticks\": \"\", \"zerolinecolor\": \"white\"}}, \"shapedefaults\": {\"line\": {\"color\": \"#2a3f5f\"}}, \"ternary\": {\"aaxis\": {\"gridcolor\": \"white\", \"linecolor\": \"white\", \"ticks\": \"\"}, \"baxis\": {\"gridcolor\": \"white\", \"linecolor\": \"white\", \"ticks\": \"\"}, \"bgcolor\": \"#E5ECF6\", \"caxis\": {\"gridcolor\": \"white\", \"linecolor\": \"white\", \"ticks\": \"\"}}, \"title\": {\"x\": 0.05}, \"xaxis\": {\"automargin\": true, \"gridcolor\": \"white\", \"linecolor\": \"white\", \"ticks\": \"\", \"title\": {\"standoff\": 15}, \"zerolinecolor\": \"white\", \"zerolinewidth\": 2}, \"yaxis\": {\"automargin\": true, \"gridcolor\": \"white\", \"linecolor\": \"white\", \"ticks\": \"\", \"title\": {\"standoff\": 15}, \"zerolinecolor\": \"white\", \"zerolinewidth\": 2}}}, \"xaxis\": {\"dtick\": 1, \"gridcolor\": \"rgb(0, 0, 0)\", \"side\": \"top\", \"ticks\": \"\"}, \"yaxis\": {\"dtick\": 1, \"ticks\": \"\", \"ticksuffix\": \"  \"}},                        {\"responsive\": true}                    ).then(function(){\n",
       "                            \n",
       "var gd = document.getElementById('91a4473c-2f2e-404d-a955-89a75c432253');\n",
       "var x = new MutationObserver(function (mutations, observer) {{\n",
       "        var display = window.getComputedStyle(gd).display;\n",
       "        if (!display || display === 'none') {{\n",
       "            console.log([gd, 'removed!']);\n",
       "            Plotly.purge(gd);\n",
       "            observer.disconnect();\n",
       "        }}\n",
       "}});\n",
       "\n",
       "// Listen for the removal of the full notebook cells\n",
       "var notebookContainer = gd.closest('#notebook-container');\n",
       "if (notebookContainer) {{\n",
       "    x.observe(notebookContainer, {childList: true});\n",
       "}}\n",
       "\n",
       "// Listen for the clearing of the current output cell\n",
       "var outputEl = gd.closest('.output');\n",
       "if (outputEl) {{\n",
       "    x.observe(outputEl, {childList: true});\n",
       "}}\n",
       "\n",
       "                        })                };                });            </script>        </div>"
      ]
     },
     "metadata": {},
     "output_type": "display_data"
    }
   ],
   "source": [
    "corrs = num_data.corr()\n",
    "figure = ff.create_annotated_heatmap(\n",
    "    z=corrs.values,\n",
    "    x=list(corrs.columns),\n",
    "    y=list(corrs.index),\n",
    "    annotation_text=corrs.round(2).values,\n",
    "    showscale=True)\n",
    "offline.iplot(figure,filename='corrheatmap')"
   ]
  },
  {
   "cell_type": "markdown",
   "metadata": {
    "papermill": {
     "duration": 0.045961,
     "end_time": "2021-01-13T17:35:40.073529",
     "exception": false,
     "start_time": "2021-01-13T17:35:40.027568",
     "status": "completed"
    },
    "tags": []
   },
   "source": [
    "## Features Importances\n",
    "\n",
    "Next, I will plot the importance of every feature.\n",
    "\n",
    "For this, I will first remove redundant columns; which means remove columns with 2 unique values.\n",
    "Then will set Attrition_Flag as my Target Variable (y), to after that use Ranfom Forest to find this features importances."
   ]
  },
  {
   "cell_type": "code",
   "execution_count": 12,
   "metadata": {
    "execution": {
     "iopub.execute_input": "2021-01-13T17:35:40.168972Z",
     "iopub.status.busy": "2021-01-13T17:35:40.168144Z",
     "iopub.status.idle": "2021-01-13T17:35:40.171694Z",
     "shell.execute_reply": "2021-01-13T17:35:40.171147Z"
    },
    "papermill": {
     "duration": 0.053359,
     "end_time": "2021-01-13T17:35:40.171798",
     "exception": false,
     "start_time": "2021-01-13T17:35:40.118439",
     "status": "completed"
    },
    "tags": []
   },
   "outputs": [],
   "source": [
    "# # Drop redundant columns and set target variable\n",
    "# drop = ['Attrition_Flag', 'Gender_F']\n",
    "# x, y = num_data.drop(drop,axis=1), num_data['Attrition_Flag']\n",
    "\n",
    "# # Fit RandomForest Classifier\n",
    "# clf = RandomForestClassifier(n_estimators=350, criterion='entropy', max_features='auto', random_state=1)\n",
    "# clf = clf.fit(x, y)\n",
    "\n",
    "# # Plot features importances\n",
    "# imp = pd.Series(data=clf.feature_importances_, index=x.columns).sort_values(ascending=False)\n",
    "# plt.figure(figsize=(10,12))\n",
    "# plt.title(\"Feature importance\")\n",
    "# ax = sns.barplot(y=imp.index, x=imp.values, palette=\"Blues_d\")"
   ]
  },
  {
   "cell_type": "markdown",
   "metadata": {
    "papermill": {
     "duration": 0.047403,
     "end_time": "2021-01-13T17:35:40.265110",
     "exception": false,
     "start_time": "2021-01-13T17:35:40.217707",
     "status": "completed"
    },
    "tags": []
   },
   "source": [
    "## Data Preprocessing\n",
    "\n",
    "### Dividing Dataset\n",
    "We divide into label and feature sets"
   ]
  },
  {
   "cell_type": "code",
   "execution_count": 13,
   "metadata": {
    "execution": {
     "iopub.execute_input": "2021-01-13T17:35:40.367675Z",
     "iopub.status.busy": "2021-01-13T17:35:40.366506Z",
     "iopub.status.idle": "2021-01-13T17:35:40.375684Z",
     "shell.execute_reply": "2021-01-13T17:35:40.375072Z"
    },
    "papermill": {
     "duration": 0.06336,
     "end_time": "2021-01-13T17:35:40.375783",
     "exception": false,
     "start_time": "2021-01-13T17:35:40.312423",
     "status": "completed"
    },
    "tags": []
   },
   "outputs": [
    {
     "name": "stdout",
     "output_type": "stream",
     "text": [
      "<class 'pandas.core.frame.DataFrame'>\n",
      "<class 'pandas.core.series.Series'>\n",
      "(10127, 20)\n",
      "(10127,)\n"
     ]
    }
   ],
   "source": [
    "X = num_data.drop(['Attrition_Flag'], axis = 1) # Features\n",
    "Y = num_data['Attrition_Flag'] # Labels\n",
    "print(type(X))\n",
    "print(type(Y))\n",
    "print(X.shape)\n",
    "print(Y.shape)"
   ]
  },
  {
   "cell_type": "markdown",
   "metadata": {
    "papermill": {
     "duration": 0.048845,
     "end_time": "2021-01-13T17:35:40.474805",
     "exception": false,
     "start_time": "2021-01-13T17:35:40.425960",
     "status": "completed"
    },
    "tags": []
   },
   "source": [
    "### Normalizing\n",
    "Next, we normalize numerical so that each feature has mean 0 and variance 1 using Standar Scaler."
   ]
  },
  {
   "cell_type": "code",
   "execution_count": 14,
   "metadata": {
    "execution": {
     "iopub.execute_input": "2021-01-13T17:35:40.584961Z",
     "iopub.status.busy": "2021-01-13T17:35:40.583697Z",
     "iopub.status.idle": "2021-01-13T17:35:40.594748Z",
     "shell.execute_reply": "2021-01-13T17:35:40.594115Z"
    },
    "papermill": {
     "duration": 0.069939,
     "end_time": "2021-01-13T17:35:40.594899",
     "exception": false,
     "start_time": "2021-01-13T17:35:40.524960",
     "status": "completed"
    },
    "tags": []
   },
   "outputs": [],
   "source": [
    "feature_scaler = StandardScaler()\n",
    "X_scaled = feature_scaler.fit_transform(X)"
   ]
  },
  {
   "cell_type": "markdown",
   "metadata": {
    "papermill": {
     "duration": 0.048436,
     "end_time": "2021-01-13T17:35:40.693518",
     "exception": false,
     "start_time": "2021-01-13T17:35:40.645082",
     "status": "completed"
    },
    "tags": []
   },
   "source": [
    "### Dividing Dataset \n",
    "Now we divide into training and test sets"
   ]
  },
  {
   "cell_type": "code",
   "execution_count": 15,
   "metadata": {
    "execution": {
     "iopub.execute_input": "2021-01-13T17:35:40.796805Z",
     "iopub.status.busy": "2021-01-13T17:35:40.795844Z",
     "iopub.status.idle": "2021-01-13T17:35:40.802270Z",
     "shell.execute_reply": "2021-01-13T17:35:40.802938Z"
    },
    "papermill": {
     "duration": 0.062099,
     "end_time": "2021-01-13T17:35:40.803109",
     "exception": false,
     "start_time": "2021-01-13T17:35:40.741010",
     "status": "completed"
    },
    "tags": []
   },
   "outputs": [
    {
     "name": "stdout",
     "output_type": "stream",
     "text": [
      "(7088, 20)\n",
      "(3039, 20)\n"
     ]
    }
   ],
   "source": [
    "X_train, X_test, Y_train, Y_test = train_test_split( X_scaled, Y, test_size = 0.3, random_state = 100)\n",
    "\n",
    "print(X_train.shape)\n",
    "print(X_test.shape)"
   ]
  },
  {
   "cell_type": "markdown",
   "metadata": {
    "papermill": {
     "duration": 0.048854,
     "end_time": "2021-01-13T17:35:40.901028",
     "exception": false,
     "start_time": "2021-01-13T17:35:40.852174",
     "status": "completed"
    },
    "tags": []
   },
   "source": [
    "## Implementing Oversampling \n",
    "To balance the dataset we use SMOTE which stands for Synthetic Minority Oversampling Technique."
   ]
  },
  {
   "cell_type": "code",
   "execution_count": 16,
   "metadata": {
    "execution": {
     "iopub.execute_input": "2021-01-13T17:35:41.015000Z",
     "iopub.status.busy": "2021-01-13T17:35:41.013986Z",
     "iopub.status.idle": "2021-01-13T17:35:41.085223Z",
     "shell.execute_reply": "2021-01-13T17:35:41.085808Z"
    },
    "papermill": {
     "duration": 0.136441,
     "end_time": "2021-01-13T17:35:41.085959",
     "exception": false,
     "start_time": "2021-01-13T17:35:40.949518",
     "status": "completed"
    },
    "tags": []
   },
   "outputs": [
    {
     "name": "stdout",
     "output_type": "stream",
     "text": [
      "Number of observations in each class before oversampling (training data): \n",
      " 0    5984\n",
      "1    1104\n",
      "Name: Attrition_Flag, dtype: int64\n",
      "Number of observations in each class after oversampling (training data): \n",
      " 1    5984\n",
      "0    5984\n",
      "Name: Attrition_Flag, dtype: int64\n"
     ]
    }
   ],
   "source": [
    "print(\"Number of observations in each class before oversampling (training data): \\n\", pd.Series(Y_train).value_counts())\n",
    "\n",
    "smote = SMOTE(random_state = 101)\n",
    "X_train,Y_train = smote.fit_sample(X_train,Y_train)\n",
    "\n",
    "print(\"Number of observations in each class after oversampling (training data): \\n\", pd.Series(Y_train).value_counts())"
   ]
  },
  {
   "cell_type": "markdown",
   "metadata": {
    "papermill": {
     "duration": 0.049305,
     "end_time": "2021-01-13T17:35:41.185792",
     "exception": false,
     "start_time": "2021-01-13T17:35:41.136487",
     "status": "completed"
    },
    "tags": []
   },
   "source": [
    "# Random Forest Classifier\n",
    "\n",
    "### Tuning Random Forest\n",
    "\n",
    "Now, we will find the best parameters to run Random Forest and implementing cross-validation using Grid Search.\n",
    "\n",
    "In the GridSearch parameters we use \"recall\" as in this case I will be trying to reduce False Negatives.\n"
   ]
  },
  {
   "cell_type": "code",
   "execution_count": 17,
   "metadata": {
    "execution": {
     "iopub.execute_input": "2021-01-13T17:35:41.294336Z",
     "iopub.status.busy": "2021-01-13T17:35:41.293361Z",
     "iopub.status.idle": "2021-01-13T17:40:36.259417Z",
     "shell.execute_reply": "2021-01-13T17:40:36.260414Z"
    },
    "papermill": {
     "duration": 295.024792,
     "end_time": "2021-01-13T17:40:36.260667",
     "exception": false,
     "start_time": "2021-01-13T17:35:41.235875",
     "status": "completed"
    },
    "tags": []
   },
   "outputs": [
    {
     "name": "stdout",
     "output_type": "stream",
     "text": [
      "{'n_estimators': 350}\n",
      "0.9822869604334136\n"
     ]
    }
   ],
   "source": [
    "rfc = RandomForestClassifier(criterion='entropy', max_features='auto', random_state=1)\n",
    "grid_param = {'n_estimators': [200, 250, 300, 350, 400, 450]}\n",
    "\n",
    "gd_sr = GridSearchCV(estimator=rfc, param_grid=grid_param, scoring='recall', cv=5)\n",
    "\n",
    "gd_sr.fit(X_train, Y_train)\n",
    "\n",
    "best_parameters = gd_sr.best_params_\n",
    "print(best_parameters)\n",
    "\n",
    "best_result = gd_sr.best_score_ # Mean cross-validated score of the best_estimator\n",
    "print(best_result)\n"
   ]
  },
  {
   "cell_type": "markdown",
   "metadata": {
    "papermill": {
     "duration": 0.049098,
     "end_time": "2021-01-13T17:40:36.358965",
     "exception": false,
     "start_time": "2021-01-13T17:40:36.309867",
     "status": "completed"
    },
    "tags": []
   },
   "source": [
    "### Building Random Forest\n",
    "\n",
    "We build now our Random Forest using the tuned parameter (350 number of trees in the forest).\n",
    "Also, we plot a Confusion Matrix to appreciate better the results.\n",
    "\n"
   ]
  },
  {
   "cell_type": "code",
   "execution_count": 18,
   "metadata": {
    "execution": {
     "iopub.execute_input": "2021-01-13T17:40:36.468381Z",
     "iopub.status.busy": "2021-01-13T17:40:36.467436Z",
     "iopub.status.idle": "2021-01-13T17:40:49.368190Z",
     "shell.execute_reply": "2021-01-13T17:40:49.367486Z"
    },
    "papermill": {
     "duration": 12.960316,
     "end_time": "2021-01-13T17:40:49.368348",
     "exception": false,
     "start_time": "2021-01-13T17:40:36.408032",
     "status": "completed"
    },
    "tags": []
   },
   "outputs": [
    {
     "data": {
      "image/png": "[encoded data removed]",
      "text/plain": [
       "<Figure size 576x432 with 2 Axes>"
      ]
     },
     "metadata": {
      "needs_background": "light"
     },
     "output_type": "display_data"
    },
    {
     "name": "stdout",
     "output_type": "stream",
     "text": [
      "Confusion matrix: \n",
      " [[2454   62]\n",
      " [  69  454]]\n",
      "TP:  454\n",
      "TN:  2454\n",
      "FP:  62\n",
      "FN:  69\n"
     ]
    }
   ],
   "source": [
    "rfc = RandomForestClassifier(n_estimators=350, criterion='entropy', max_features='auto', random_state=1)\n",
    "rfc.fit(X_train,Y_train)\n",
    "\n",
    "Y_pred = rfc.predict(X_test)\n",
    "\n",
    "conf_mat = metrics.confusion_matrix(Y_test, Y_pred)\n",
    "plt.figure(figsize=(8,6))\n",
    "sns.heatmap(conf_mat,annot=True)\n",
    "plt.title(\"Confusion_matrix\")\n",
    "plt.xlabel(\"Predicted Class\")\n",
    "plt.ylabel(\"Actual class\")\n",
    "plt.show()\n",
    "print('Confusion matrix: \\n', conf_mat)\n",
    "print('TP: ', conf_mat[1,1])\n",
    "print('TN: ', conf_mat[0,0])\n",
    "print('FP: ', conf_mat[0,1])\n",
    "print('FN: ', conf_mat[1,0])"
   ]
  },
  {
   "cell_type": "code",
   "execution_count": 19,
   "metadata": {
    "execution": {
     "iopub.execute_input": "2021-01-13T17:40:49.482610Z",
     "iopub.status.busy": "2021-01-13T17:40:49.481041Z",
     "iopub.status.idle": "2021-01-13T17:40:49.671341Z",
     "shell.execute_reply": "2021-01-13T17:40:49.670313Z"
    },
    "papermill": {
     "duration": 0.247473,
     "end_time": "2021-01-13T17:40:49.671462",
     "exception": false,
     "start_time": "2021-01-13T17:40:49.423989",
     "status": "completed"
    },
    "tags": []
   },
   "outputs": [
    {
     "name": "stdout",
     "output_type": "stream",
     "text": [
      "              precision    recall  f1-score   support\n",
      "\n",
      "           0       0.97      0.98      0.97      2516\n",
      "           1       0.88      0.87      0.87       523\n",
      "\n",
      "    accuracy                           0.96      3039\n",
      "   macro avg       0.93      0.92      0.92      3039\n",
      "weighted avg       0.96      0.96      0.96      3039\n",
      "\n",
      "Accuracy_Score: 95.68937150378414 %\n",
      "Recall: 86.80688336520076 %\n"
     ]
    }
   ],
   "source": [
    "print(metrics.classification_report(Y_test,rfc.predict(X_test)))\n",
    "print('Accuracy_Score:',accuracy_score(Y_test,Y_pred)*100,'%')\n",
    "print('Recall:',metrics.recall_score(Y_test,Y_pred)*100,'%')"
   ]
  },
  {
   "cell_type": "markdown",
   "metadata": {
    "papermill": {
     "duration": 0.051583,
     "end_time": "2021-01-13T17:40:49.774985",
     "exception": false,
     "start_time": "2021-01-13T17:40:49.723402",
     "status": "completed"
    },
    "tags": []
   },
   "source": [
    "### Finding Feature Importances\n",
    "\n",
    "Now we look for the features with higher importance, to run a new Random Forest using only some of the most important ones."
   ]
  },
  {
   "cell_type": "code",
   "execution_count": 20,
   "metadata": {
    "execution": {
     "iopub.execute_input": "2021-01-13T17:40:49.883809Z",
     "iopub.status.busy": "2021-01-13T17:40:49.882820Z",
     "iopub.status.idle": "2021-01-13T17:40:49.923549Z",
     "shell.execute_reply": "2021-01-13T17:40:49.924863Z"
    },
    "papermill": {
     "duration": 0.098532,
     "end_time": "2021-01-13T17:40:49.925201",
     "exception": false,
     "start_time": "2021-01-13T17:40:49.826669",
     "status": "completed"
    },
    "tags": []
   },
   "outputs": [
    {
     "name": "stdout",
     "output_type": "stream",
     "text": [
      "Total_Trans_Ct              0.199107\n",
      "Total_Trans_Amt             0.185699\n",
      "Total_Revolving_Bal         0.096375\n",
      "Total_Ct_Chng_Q4_Q1         0.089616\n",
      "Total_Relationship_Count    0.064225\n",
      "Months_Inactive_12_mon      0.051462\n",
      "Total_Amt_Chng_Q4_Q1        0.051178\n",
      "Avg_Utilization_Ratio       0.047992\n",
      "Contacts_Count_12_mon       0.043492\n",
      "Avg_Open_To_Buy             0.029482\n",
      "Credit_Limit                0.027560\n",
      "Customer_Age                0.027085\n",
      "Months_on_book              0.021133\n",
      "Dependent_count             0.017958\n",
      "Income_Category             0.013966\n",
      "Education_Level             0.012431\n",
      "Marital_Status              0.008140\n",
      "Gender_M                    0.005445\n",
      "Gender_F                    0.005066\n",
      "Card_Category               0.002589\n",
      "dtype: float64\n"
     ]
    }
   ],
   "source": [
    "featimp = pd.Series(rfc.feature_importances_, index=list(X)).sort_values(ascending=False)\n",
    "print(featimp)"
   ]
  },
  {
   "cell_type": "markdown",
   "metadata": {
    "papermill": {
     "duration": 0.049797,
     "end_time": "2021-01-13T17:40:50.025829",
     "exception": false,
     "start_time": "2021-01-13T17:40:49.976032",
     "status": "completed"
    },
    "tags": []
   },
   "source": [
    "### Selecting features with higher significance\n",
    "\n",
    "Now we will create a new subset (X1), using only some features, and run a new Random Forest to compare them."
   ]
  },
  {
   "cell_type": "code",
   "execution_count": 21,
   "metadata": {
    "execution": {
     "iopub.execute_input": "2021-01-13T17:40:50.144186Z",
     "iopub.status.busy": "2021-01-13T17:40:50.142987Z",
     "iopub.status.idle": "2021-01-13T17:40:58.435935Z",
     "shell.execute_reply": "2021-01-13T17:40:58.435141Z"
    },
    "papermill": {
     "duration": 8.359083,
     "end_time": "2021-01-13T17:40:58.436069",
     "exception": false,
     "start_time": "2021-01-13T17:40:50.076986",
     "status": "completed"
    },
    "tags": []
   },
   "outputs": [
    {
     "data": {
      "image/png": "[encoded data removed]",
      "text/plain": [
       "<Figure size 576x432 with 2 Axes>"
      ]
     },
     "metadata": {
      "needs_background": "light"
     },
     "output_type": "display_data"
    },
    {
     "name": "stdout",
     "output_type": "stream",
     "text": [
      "Confusion matrix: \n",
      " [[2427   89]\n",
      " [  54  469]]\n",
      "TP:  469\n",
      "TN:  2427\n",
      "FP:  89\n",
      "FN:  54\n"
     ]
    }
   ],
   "source": [
    "X1 = num_data[['Total_Trans_Ct', 'Total_Trans_Amt', 'Total_Revolving_Bal', 'Total_Ct_Chng_Q4_Q1', 'Total_Relationship_Count',\n",
    "                 'Months_Inactive_12_mon','Total_Amt_Chng_Q4_Q1']]\n",
    "\n",
    "feature_scaler = StandardScaler()\n",
    "X1_scaled = feature_scaler.fit_transform(X1)\n",
    "\n",
    "X1_train, X1_test, Y1_train, Y1_test = train_test_split( X1_scaled, Y, test_size = 0.3, random_state = 100)\n",
    "\n",
    "smote = SMOTE(random_state = 101)\n",
    "X1_train,Y1_train = smote.fit_sample(X1_train,Y1_train)\n",
    "\n",
    "rfc = RandomForestClassifier(n_estimators=350, criterion='entropy', max_features='auto', random_state=1)\n",
    "rfc.fit(X1_train,Y1_train)\n",
    "\n",
    "Y_pred = rfc.predict(X1_test)\n",
    "\n",
    "conf_mat = metrics.confusion_matrix(Y1_test, Y_pred)\n",
    "plt.figure(figsize=(8,6))\n",
    "sns.heatmap(conf_mat,annot=True)\n",
    "plt.title(\"Confusion_matrix\")\n",
    "plt.xlabel(\"Predicted Class\")\n",
    "plt.ylabel(\"Actual class\")\n",
    "plt.show()\n",
    "print('Confusion matrix: \\n', conf_mat)\n",
    "print('TP: ', conf_mat[1,1])\n",
    "print('TN: ', conf_mat[0,0])\n",
    "print('FP: ', conf_mat[0,1])\n",
    "print('FN: ', conf_mat[1,0])\n",
    "\n"
   ]
  },
  {
   "cell_type": "code",
   "execution_count": 22,
   "metadata": {
    "execution": {
     "iopub.execute_input": "2021-01-13T17:40:58.558458Z",
     "iopub.status.busy": "2021-01-13T17:40:58.557382Z",
     "iopub.status.idle": "2021-01-13T17:40:58.578258Z",
     "shell.execute_reply": "2021-01-13T17:40:58.579058Z"
    },
    "papermill": {
     "duration": 0.086168,
     "end_time": "2021-01-13T17:40:58.579206",
     "exception": false,
     "start_time": "2021-01-13T17:40:58.493038",
     "status": "completed"
    },
    "tags": []
   },
   "outputs": [
    {
     "name": "stdout",
     "output_type": "stream",
     "text": [
      "              precision    recall  f1-score   support\n",
      "\n",
      "           0       0.98      0.96      0.97      2516\n",
      "           1       0.84      0.90      0.87       523\n",
      "\n",
      "    accuracy                           0.95      3039\n",
      "   macro avg       0.91      0.93      0.92      3039\n",
      "weighted avg       0.95      0.95      0.95      3039\n",
      "\n",
      "Accuracy_Score: 95.29450477130635 %\n",
      "Recall: 89.67495219885278 %\n"
     ]
    }
   ],
   "source": [
    "print(metrics.classification_report(Y1_test,Y_pred))\n",
    "print('Accuracy_Score:',accuracy_score(Y1_test,Y_pred)*100,'%')\n",
    "print('Recall:',metrics.recall_score(Y1_test,Y_pred)*100,'%')"
   ]
  },
  {
   "cell_type": "markdown",
   "metadata": {
    "papermill": {
     "duration": 0.058367,
     "end_time": "2021-01-13T17:40:58.697013",
     "exception": false,
     "start_time": "2021-01-13T17:40:58.638646",
     "status": "completed"
    },
    "tags": []
   },
   "source": [
    "# AdaBoost Classifier\n",
    "\n",
    "\n",
    "### Tuning AdaBoost\n",
    "\n",
    "Same as with Random Forest, we will try to find the best parameters to run now AdaBoost, implementing cross-validation using Grid Search."
   ]
  },
  {
   "cell_type": "code",
   "execution_count": 23,
   "metadata": {
    "execution": {
     "iopub.execute_input": "2021-01-13T17:40:58.808139Z",
     "iopub.status.busy": "2021-01-13T17:40:58.807200Z",
     "iopub.status.idle": "2021-01-13T17:41:15.566583Z",
     "shell.execute_reply": "2021-01-13T17:41:15.567183Z"
    },
    "papermill": {
     "duration": 16.818921,
     "end_time": "2021-01-13T17:41:15.567501",
     "exception": false,
     "start_time": "2021-01-13T17:40:58.748580",
     "status": "completed"
    },
    "tags": []
   },
   "outputs": [
    {
     "name": "stdout",
     "output_type": "stream",
     "text": [
      "{'n_estimators': 50}\n",
      "0.9513734168196409\n"
     ]
    }
   ],
   "source": [
    "abc = AdaBoostClassifier(random_state=1)\n",
    "grid_param = {'n_estimators': [5,10,20,30,40,50]}\n",
    "\n",
    "gd_sr = GridSearchCV(estimator=abc, param_grid=grid_param, scoring='recall', cv=5)\n",
    "\n",
    "gd_sr.fit(X_train, Y_train)\n",
    "\n",
    "best_parameters = gd_sr.best_params_\n",
    "print(best_parameters)\n",
    "\n",
    "best_result = gd_sr.best_score_ # Mean cross-validated score of the best_estimator\n",
    "print(best_result)\n"
   ]
  },
  {
   "cell_type": "markdown",
   "metadata": {
    "papermill": {
     "duration": 0.071173,
     "end_time": "2021-01-13T17:41:15.741426",
     "exception": false,
     "start_time": "2021-01-13T17:41:15.670253",
     "status": "completed"
    },
    "tags": []
   },
   "source": [
    "### Building AdaBoost\n",
    "\n",
    "After running GridSearch we found that the ideal maximum number of estimators at which boosting is terminatedo is 50 so we now build our AdaBoost Classifier using the this parameter and then we plot a Confusion Matrix to appreciate better the results.\n",
    "\n"
   ]
  },
  {
   "cell_type": "code",
   "execution_count": 24,
   "metadata": {
    "execution": {
     "iopub.execute_input": "2021-01-13T17:41:15.894901Z",
     "iopub.status.busy": "2021-01-13T17:41:15.893760Z",
     "iopub.status.idle": "2021-01-13T17:41:17.578148Z",
     "shell.execute_reply": "2021-01-13T17:41:17.577207Z"
    },
    "papermill": {
     "duration": 1.759547,
     "end_time": "2021-01-13T17:41:17.578284",
     "exception": false,
     "start_time": "2021-01-13T17:41:15.818737",
     "status": "completed"
    },
    "tags": []
   },
   "outputs": [
    {
     "data": {
      "image/png": "[encoded data removed]",
      "text/plain": [
       "<Figure size 576x432 with 2 Axes>"
      ]
     },
     "metadata": {
      "needs_background": "light"
     },
     "output_type": "display_data"
    },
    {
     "name": "stdout",
     "output_type": "stream",
     "text": [
      "Confusion matrix: \n",
      " [[2390  126]\n",
      " [  48  475]]\n",
      "TP:  475\n",
      "TN:  2390\n",
      "FP:  126\n",
      "FN:  48\n"
     ]
    }
   ],
   "source": [
    "abc = AdaBoostClassifier(n_estimators=50, random_state=1)\n",
    "abc.fit(X_train,Y_train)\n",
    "\n",
    "Y_pred = abc.predict(X_test)\n",
    "\n",
    "conf_mat = metrics.confusion_matrix(Y_test, Y_pred)\n",
    "plt.figure(figsize=(8,6))\n",
    "sns.heatmap(conf_mat,annot=True)\n",
    "plt.title(\"Confusion_matrix\")\n",
    "plt.xlabel(\"Predicted Class\")\n",
    "plt.ylabel(\"Actual class\")\n",
    "plt.show()\n",
    "print('Confusion matrix: \\n', conf_mat)\n",
    "print('TP: ', conf_mat[1,1])\n",
    "print('TN: ', conf_mat[0,0])\n",
    "print('FP: ', conf_mat[0,1])\n",
    "print('FN: ', conf_mat[1,0])"
   ]
  },
  {
   "cell_type": "code",
   "execution_count": 25,
   "metadata": {
    "execution": {
     "iopub.execute_input": "2021-01-13T17:41:17.693136Z",
     "iopub.status.busy": "2021-01-13T17:41:17.692148Z",
     "iopub.status.idle": "2021-01-13T17:41:17.713695Z",
     "shell.execute_reply": "2021-01-13T17:41:17.710994Z"
    },
    "papermill": {
     "duration": 0.082104,
     "end_time": "2021-01-13T17:41:17.713814",
     "exception": false,
     "start_time": "2021-01-13T17:41:17.631710",
     "status": "completed"
    },
    "tags": []
   },
   "outputs": [
    {
     "name": "stdout",
     "output_type": "stream",
     "text": [
      "Classification report: \n",
      "               precision    recall  f1-score   support\n",
      "\n",
      "           0       0.98      0.95      0.96      2516\n",
      "           1       0.79      0.91      0.85       523\n",
      "\n",
      "    accuracy                           0.94      3039\n",
      "   macro avg       0.89      0.93      0.91      3039\n",
      "weighted avg       0.95      0.94      0.94      3039\n",
      "\n",
      "Accuracy_Score: 94.27443237907205 %\n",
      "Recall: 90.82217973231359 %\n"
     ]
    }
   ],
   "source": [
    "print('Classification report: \\n', metrics.classification_report(Y_test, Y_pred))\n",
    "print('Accuracy_Score:',accuracy_score(Y_test, Y_pred)*100,'%')\n",
    "print('Recall:',metrics.recall_score(Y_test, Y_pred)*100,'%')\n"
   ]
  },
  {
   "cell_type": "markdown",
   "metadata": {
    "papermill": {
     "duration": 0.054751,
     "end_time": "2021-01-13T17:41:17.824019",
     "exception": false,
     "start_time": "2021-01-13T17:41:17.769268",
     "status": "completed"
    },
    "tags": []
   },
   "source": [
    "### Feature Importances"
   ]
  },
  {
   "cell_type": "code",
   "execution_count": 26,
   "metadata": {
    "execution": {
     "iopub.execute_input": "2021-01-13T17:41:17.949830Z",
     "iopub.status.busy": "2021-01-13T17:41:17.948921Z",
     "iopub.status.idle": "2021-01-13T17:41:17.958581Z",
     "shell.execute_reply": "2021-01-13T17:41:17.959397Z"
    },
    "papermill": {
     "duration": 0.077197,
     "end_time": "2021-01-13T17:41:17.959585",
     "exception": false,
     "start_time": "2021-01-13T17:41:17.882388",
     "status": "completed"
    },
    "tags": []
   },
   "outputs": [
    {
     "name": "stdout",
     "output_type": "stream",
     "text": [
      "Total_Trans_Amt             0.26\n",
      "Total_Trans_Ct              0.20\n",
      "Contacts_Count_12_mon       0.08\n",
      "Dependent_count             0.08\n",
      "Months_Inactive_12_mon      0.08\n",
      "Total_Revolving_Bal         0.06\n",
      "Total_Relationship_Count    0.04\n",
      "Customer_Age                0.04\n",
      "Total_Amt_Chng_Q4_Q1        0.04\n",
      "Total_Ct_Chng_Q4_Q1         0.04\n",
      "Avg_Open_To_Buy             0.02\n",
      "Credit_Limit                0.02\n",
      "Income_Category             0.02\n",
      "Marital_Status              0.02\n",
      "Gender_F                    0.00\n",
      "Months_on_book              0.00\n",
      "Card_Category               0.00\n",
      "Education_Level             0.00\n",
      "Avg_Utilization_Ratio       0.00\n",
      "Gender_M                    0.00\n",
      "dtype: float64\n"
     ]
    }
   ],
   "source": [
    "featimp = pd.Series(abc.feature_importances_, index=list(X)).sort_values(ascending=False)\n",
    "print(featimp)"
   ]
  },
  {
   "cell_type": "markdown",
   "metadata": {
    "papermill": {
     "duration": 0.054376,
     "end_time": "2021-01-13T17:41:18.072451",
     "exception": false,
     "start_time": "2021-01-13T17:41:18.018075",
     "status": "completed"
    },
    "tags": []
   },
   "source": [
    "# Gradient Boosting Classifier\n",
    "\n",
    "### Tuning Gradient Boosting\n",
    "\n",
    "Last, we do the same thing to find the best parameters to run now Gradient Boosting, implementing cross-validation using Grid Search."
   ]
  },
  {
   "cell_type": "code",
   "execution_count": 27,
   "metadata": {
    "execution": {
     "iopub.execute_input": "2021-01-13T17:41:18.191880Z",
     "iopub.status.busy": "2021-01-13T17:41:18.190577Z",
     "iopub.status.idle": "2021-01-13T18:23:08.701204Z",
     "shell.execute_reply": "2021-01-13T18:23:08.702044Z"
    },
    "papermill": {
     "duration": 2510.575103,
     "end_time": "2021-01-13T18:23:08.702217",
     "exception": false,
     "start_time": "2021-01-13T17:41:18.127114",
     "status": "completed"
    },
    "tags": []
   },
   "outputs": [
    {
     "name": "stdout",
     "output_type": "stream",
     "text": [
      "{'max_depth': 9, 'max_leaf_nodes': 32, 'n_estimators': 40}\n",
      "0.9689197911165873\n"
     ]
    }
   ],
   "source": [
    "gbc = GradientBoostingClassifier(random_state=1)\n",
    "grid_param = {'n_estimators': [10,20,30,40,50], 'max_depth': [5,6,7,8,9,10,11,12], 'max_leaf_nodes': [8,12,16,20,24,28,32]}\n",
    "\n",
    "gd_sr = GridSearchCV(estimator=gbc, param_grid=grid_param, scoring='recall', cv=5)\n",
    "\n",
    "gd_sr.fit(X_train, Y_train)\n",
    "\n",
    "best_parameters = gd_sr.best_params_\n",
    "print(best_parameters)\n",
    "\n",
    "best_result = gd_sr.best_score_ # Mean cross-validated score of the best_estimator\n",
    "print(best_result)\n"
   ]
  },
  {
   "cell_type": "markdown",
   "metadata": {
    "papermill": {
     "duration": 0.0553,
     "end_time": "2021-01-13T18:23:08.814410",
     "exception": false,
     "start_time": "2021-01-13T18:23:08.759110",
     "status": "completed"
    },
    "tags": []
   },
   "source": [
    "### Building Gradient Boosting\n",
    "\n",
    "Now we run Gradient Boosting Classifier using the tuned parameters which are n_estimators=40, max_depth=9 and max_leaf_nodes=32 and we plot a Confusion Matrix.\n",
    "\n"
   ]
  },
  {
   "cell_type": "code",
   "execution_count": 28,
   "metadata": {
    "execution": {
     "iopub.execute_input": "2021-01-13T18:23:08.939088Z",
     "iopub.status.busy": "2021-01-13T18:23:08.938157Z",
     "iopub.status.idle": "2021-01-13T18:23:12.867890Z",
     "shell.execute_reply": "2021-01-13T18:23:12.867080Z"
    },
    "papermill": {
     "duration": 3.996966,
     "end_time": "2021-01-13T18:23:12.868042",
     "exception": false,
     "start_time": "2021-01-13T18:23:08.871076",
     "status": "completed"
    },
    "tags": []
   },
   "outputs": [
    {
     "data": {
      "image/png": "[encoded data removed]",
      "text/plain": [
       "<Figure size 576x432 with 2 Axes>"
      ]
     },
     "metadata": {
      "needs_background": "light"
     },
     "output_type": "display_data"
    },
    {
     "name": "stdout",
     "output_type": "stream",
     "text": [
      "Confusion matrix: \n",
      " [[2432   84]\n",
      " [  58  465]]\n",
      "TP:  465\n",
      "TN:  2432\n",
      "FP:  84\n",
      "FN:  58\n"
     ]
    }
   ],
   "source": [
    "# Building Gradient Boost using the tuned parameter\n",
    "gbc = GradientBoostingClassifier(n_estimators=40, max_depth=9, max_leaf_nodes=32, random_state=1)\n",
    "gbc.fit(X_train,Y_train)\n",
    "\n",
    "Y_pred = gbc.predict(X_test)\n",
    "# print('Classification report: \\n', metrics.classification_report(Y_test, Y_pred))\n",
    "\n",
    "conf_mat = metrics.confusion_matrix(Y_test, Y_pred)\n",
    "plt.figure(figsize=(8,6))\n",
    "sns.heatmap(conf_mat,annot=True)\n",
    "plt.title(\"Confusion_matrix\")\n",
    "plt.xlabel(\"Predicted Class\")\n",
    "plt.ylabel(\"Actual class\")\n",
    "plt.show()\n",
    "print('Confusion matrix: \\n', conf_mat)\n",
    "print('TP: ', conf_mat[1,1])\n",
    "print('TN: ', conf_mat[0,0])\n",
    "print('FP: ', conf_mat[0,1])\n",
    "print('FN: ', conf_mat[1,0])\n"
   ]
  },
  {
   "cell_type": "code",
   "execution_count": 29,
   "metadata": {
    "execution": {
     "iopub.execute_input": "2021-01-13T18:23:13.012737Z",
     "iopub.status.busy": "2021-01-13T18:23:13.011669Z",
     "iopub.status.idle": "2021-01-13T18:23:13.031920Z",
     "shell.execute_reply": "2021-01-13T18:23:13.032802Z"
    },
    "papermill": {
     "duration": 0.097599,
     "end_time": "2021-01-13T18:23:13.033006",
     "exception": false,
     "start_time": "2021-01-13T18:23:12.935407",
     "status": "completed"
    },
    "tags": []
   },
   "outputs": [
    {
     "name": "stdout",
     "output_type": "stream",
     "text": [
      "Classification report: \n",
      "               precision    recall  f1-score   support\n",
      "\n",
      "           0       0.98      0.97      0.97      2516\n",
      "           1       0.85      0.89      0.87       523\n",
      "\n",
      "    accuracy                           0.95      3039\n",
      "   macro avg       0.91      0.93      0.92      3039\n",
      "weighted avg       0.95      0.95      0.95      3039\n",
      "\n",
      "Accuracy_Score: 95.32741033234616 %\n",
      "Recall: 88.91013384321224 %\n"
     ]
    }
   ],
   "source": [
    "print('Classification report: \\n', metrics.classification_report(Y_test, Y_pred))\n",
    "print('Accuracy_Score:',accuracy_score(Y_test, Y_pred)*100,'%')\n",
    "print('Recall:',metrics.recall_score(Y_test, Y_pred)*100,'%')"
   ]
  },
  {
   "cell_type": "markdown",
   "metadata": {
    "papermill": {
     "duration": 0.060944,
     "end_time": "2021-01-13T18:23:13.163906",
     "exception": false,
     "start_time": "2021-01-13T18:23:13.102962",
     "status": "completed"
    },
    "tags": []
   },
   "source": [
    "### Feature Importances"
   ]
  },
  {
   "cell_type": "code",
   "execution_count": 30,
   "metadata": {
    "execution": {
     "iopub.execute_input": "2021-01-13T18:23:13.294020Z",
     "iopub.status.busy": "2021-01-13T18:23:13.293019Z",
     "iopub.status.idle": "2021-01-13T18:23:13.306129Z",
     "shell.execute_reply": "2021-01-13T18:23:13.305392Z"
    },
    "papermill": {
     "duration": 0.080428,
     "end_time": "2021-01-13T18:23:13.306247",
     "exception": false,
     "start_time": "2021-01-13T18:23:13.225819",
     "status": "completed"
    },
    "tags": []
   },
   "outputs": [
    {
     "name": "stdout",
     "output_type": "stream",
     "text": [
      "Total_Trans_Ct              0.489554\n",
      "Total_Trans_Amt             0.146406\n",
      "Total_Revolving_Bal         0.102765\n",
      "Total_Relationship_Count    0.076267\n",
      "Total_Ct_Chng_Q4_Q1         0.062811\n",
      "Months_Inactive_12_mon      0.036911\n",
      "Total_Amt_Chng_Q4_Q1        0.024641\n",
      "Contacts_Count_12_mon       0.017603\n",
      "Customer_Age                0.016237\n",
      "Avg_Open_To_Buy             0.006714\n",
      "Credit_Limit                0.004660\n",
      "Months_on_book              0.003624\n",
      "Dependent_count             0.003423\n",
      "Marital_Status              0.003259\n",
      "Avg_Utilization_Ratio       0.001944\n",
      "Education_Level             0.001109\n",
      "Income_Category             0.000719\n",
      "Gender_F                    0.000545\n",
      "Gender_M                    0.000438\n",
      "Card_Category               0.000372\n",
      "dtype: float64\n"
     ]
    }
   ],
   "source": [
    "featimp = pd.Series(gbc.feature_importances_, index=list(X)).sort_values(ascending=False)\n",
    "print(featimp)"
   ]
  },
  {
   "cell_type": "markdown",
   "metadata": {
    "papermill": {
     "duration": 0.059851,
     "end_time": "2021-01-13T18:23:13.426724",
     "exception": false,
     "start_time": "2021-01-13T18:23:13.366873",
     "status": "completed"
    },
    "tags": []
   },
   "source": [
    "# Conclusion\n",
    "\n",
    "I decided to work keeping the classifier with the highest possible recall score, this in order to get a minimum number of False Negatives, the reason of this is because those False Negatives are basically customers that our model is predicting that are still \"Existing Customers\" but the reality is that they are \"Attrited Customers\". \n",
    "In other words, this are customers that we think they still are with us, but the actually have already churned. In this kind of situations it is better to try to reduce this Falses Predictions, because the other ones, the False Positives, are customers we are not expecting to be with us and however they are, which means we have more customers than expected.\n",
    "__________\n",
    "\n",
    "We could see that AdaBoost Classifier was the one which has performed better; even though the accuracy score was a little lower than the other models it got a recall score of 90.82 (higher than all the other models) which helps in having only 48 False Negatives.\n",
    "\n"
   ]
  },
  {
   "cell_type": "markdown",
   "metadata": {
    "papermill": {
     "duration": 0.064064,
     "end_time": "2021-01-13T18:23:13.551599",
     "exception": false,
     "start_time": "2021-01-13T18:23:13.487535",
     "status": "completed"
    },
    "tags": []
   },
   "source": []
  }
 ],
 "metadata": {
  "kernelspec": {
   "display_name": "Python 3",
   "language": "python",
   "name": "python3"
  },
  "language_info": {
   "codemirror_mode": {
    "name": "ipython",
    "version": 3
   },
   "file_extension": ".py",
   "mimetype": "text/x-python",
   "name": "python",
   "nbconvert_exporter": "python",
   "pygments_lexer": "ipython3",
   "version": "3.7.6"
  },
  "papermill": {
   "duration": 2869.168937,
   "end_time": "2021-01-13T18:23:13.721400",
   "environment_variables": {},
   "exception": null,
   "input_path": "__notebook__.ipynb",
   "output_path": "__notebook__.ipynb",
   "parameters": {},
   "start_time": "2021-01-13T17:35:24.552463",
   "version": "2.1.0"
  }
 },
 "nbformat": 4,
 "nbformat_minor": 4
}
